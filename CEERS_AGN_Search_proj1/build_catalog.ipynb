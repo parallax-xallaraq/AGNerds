{
 "cells": [
  {
   "cell_type": "markdown",
   "metadata": {},
   "source": [
    "## Project: CEERS AGN Search\n",
    "\n",
    "*Name:* Thresa Kelly\n",
    "\n",
    "*Professor:* Dr. Allison Kirkpatrick\n",
    "\n",
    "*Program Start Date:* 4/13/22\n",
    "\n",
    "*Program End Date:* tbd\n",
    "\n",
    "*Program Goal:* \n",
    "- Create a *.csv file containing the astronomical catalog data. From egs_merged_v1.1.fits, get the IP, ACS, WFC3, WIRCAM, NEWFIRM, and IRAC. \n",
    "- - This was done manually using TOPCAT\n",
    "- From the egs_candels_checkage_official.ir_fitting, get f_MIPS, PAC, SPIRE, source number, and redshift.\n"
   ]
  },
  {
   "cell_type": "code",
   "execution_count": 79,
   "metadata": {},
   "outputs": [],
   "source": [
    "def prepCSVline(wantedList, wholeList, addNewLine) :\n",
    "\n",
    "    # declare variables \n",
    "    csv_string = \"\"\n",
    "    no_comma = wantedList[len(wantedList) - 1]\n",
    "\n",
    "    # loop through each item in the wantedList\n",
    "    for i in wantedList : \n",
    "        \n",
    "        # write the item in the wholeList at the index specified by the wantedList \n",
    "        csv_string = csv_string + wholeList[i]\n",
    "\n",
    "        # write a comma between each write\n",
    "        if (i != no_comma) : \n",
    "            csv_string = csv_string + ','\n",
    "    \n",
    "    # write a newline if addNewLine is true\n",
    "    if(addNewLine == True) :\n",
    "        csv_string = csv_string + '\\n'\n",
    "\n",
    "    # end\n",
    "    return(csv_string)\n",
    "    "
   ]
  },
  {
   "cell_type": "code",
   "execution_count": 80,
   "metadata": {},
   "outputs": [],
   "source": [
    "def build_ReducedCandles() :\n",
    "\n",
    "    # open files \n",
    "    reduced_candels = open(\"/home/thresa/Coding/Code/AGNerds/Catalogs/Reduced/egs_candels_reduced.csv\", \"w\") # create file to write to\n",
    "    candels = open(\"/home/thresa/Coding/Code/AGNerds/Catalogs/Official/egs_candels_checkage_official.ir_fitting\", \"r\") # egs_candels_checkage_official.ir_fitting\n",
    "\n",
    "    # for navigating the text file. Found by trial and error. \n",
    "    candels_dataCol_seek = 5686     # character when the file gives the data column titles. Used to skip intro of text files\n",
    "    candels_last_readLine = 41457   # last readline() after reading each line after seek(candels_dataCol_seek)\n",
    "\n",
    "    # get list values for the list entries from readline().split()\n",
    "    wanted_col = [1, 2, 69, 71, 73, 75, 77, 79, 81, 83, 85] # the values correspond to the index of col_list that I want to write in myCatalog\n",
    "    wanted_val = [0, 1, 68, 70, 72, 74, 76, 78, 80, 82, 84] # each value is -1 of each entry in wanted_col \n",
    "\n",
    "    # find the line containing the column names \n",
    "    candels.seek(candels_dataCol_seek)\n",
    "\n",
    "    # write column titles  \n",
    "    col_list = candels.readline().split()\n",
    "    reduced_candels.write( prepCSVline(wanted_col, col_list, True) )\n",
    "    print(prepCSVline(wanted_col, col_list, False))\n",
    "\n",
    "    # write each data row\n",
    "    for i in range(candels_last_readLine - 1) :\n",
    "        col_list = candels.readline().split()\n",
    "        reduced_candels.write( prepCSVline(wanted_val, col_list, True) )\n",
    "\n",
    "    # write final row (no new line)    \n",
    "    col_list = candels.readline().split()\n",
    "    reduced_candels.write( prepCSVline(wanted_val, col_list, False) )\n",
    "\n",
    "    # test: should be \"# Finished program on Sat Oct 22 16:39:39 2016\"\n",
    "    print(candels.readline())\n",
    "\n",
    "    # close all files \n",
    "    reduced_candels.close()\n",
    "    candels.close()\n"
   ]
  },
  {
   "cell_type": "code",
   "execution_count": 81,
   "metadata": {},
   "outputs": [
    {
     "name": "stdout",
     "output_type": "stream",
     "text": [
      "Source,z,f_IRAC_58,f_IRAC_80,f_MIPS24,f_MIPS70,f_PACS_100,f_PACS_160,f_SPIRE_250,f_SPIRE_350,f_SPIRE_500\n",
      "# Finished program on Sat Oct 22 16:39:39 2016\n",
      "\n"
     ]
    }
   ],
   "source": [
    "# run this to generate the reduced_candels.csv file\n",
    "build_ReducedCandles()"
   ]
  }
 ],
 "metadata": {
  "interpreter": {
   "hash": "916dbcbb3f70747c44a77c7bcd40155683ae19c65e1c03b4aa3499c5328201f1"
  },
  "kernelspec": {
   "display_name": "Python 3.8.10 64-bit",
   "language": "python",
   "name": "python3"
  },
  "language_info": {
   "codemirror_mode": {
    "name": "ipython",
    "version": 3
   },
   "file_extension": ".py",
   "mimetype": "text/x-python",
   "name": "python",
   "nbconvert_exporter": "python",
   "pygments_lexer": "ipython3",
   "version": "3.8.10"
  },
  "orig_nbformat": 4
 },
 "nbformat": 4,
 "nbformat_minor": 2
}
