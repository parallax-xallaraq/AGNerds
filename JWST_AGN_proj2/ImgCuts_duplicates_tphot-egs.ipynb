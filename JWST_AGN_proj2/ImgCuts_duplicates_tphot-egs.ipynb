{
 "cells": [
  {
   "cell_type": "code",
   "execution_count": 1,
   "metadata": {},
   "outputs": [],
   "source": [
    "## imports \n",
    "# astro\n",
    "from    astropy.wcs             import WCS\n",
    "from    astropy.io              import fits\n",
    "import  astropy.units           as u\n",
    "from    astropy.nddata          import Cutout2D\n",
    "from    astropy.coordinates     import SkyCoord\n",
    "from    astropy.visualization   import (MinMaxInterval, PercentileInterval, ZScaleInterval, SqrtStretch, AsinhStretch, LogStretch, ImageNormalize)\n",
    "# data \n",
    "import  numpy   as np\n",
    "import  pandas  as pd\n",
    "# plots\n",
    "import  matplotlib.pyplot as plt\n",
    "\n",
    "## file paths \n",
    "path_catalogs = 'D:\\\\AstroCatalogs\\\\AGNerds'\n",
    "path_cutouts = 'C:\\\\Users\\\\polar\\\\OneDrive - The University of Kansas\\\\AGNerds\\\\AGNerds\\\\JWST_AGN_proj2\\\\Cutouts_duplicates'"
   ]
  },
  {
   "attachments": {},
   "cell_type": "markdown",
   "metadata": {},
   "source": [
    "# Read Files"
   ]
  },
  {
   "cell_type": "code",
   "execution_count": 3,
   "metadata": {},
   "outputs": [],
   "source": [
    "# read file to get agn info\n",
    "df_agn = pd.read_csv('tphotCoord_egs_duplicate_galaxies.csv', sep=',')\n",
    "# display(df_agn)"
   ]
  }
 ],
 "metadata": {
  "kernelspec": {
   "display_name": "astropy-env",
   "language": "python",
   "name": "python3"
  },
  "language_info": {
   "codemirror_mode": {
    "name": "ipython",
    "version": 3
   },
   "file_extension": ".py",
   "mimetype": "text/x-python",
   "name": "python",
   "nbconvert_exporter": "python",
   "pygments_lexer": "ipython3",
   "version": "3.9.15"
  },
  "orig_nbformat": 4,
  "vscode": {
   "interpreter": {
    "hash": "11ae23b3a1f5c6236de2b9e9159c6d39bb68b91427dfd66e2220bdf6faa7530f"
   }
  }
 },
 "nbformat": 4,
 "nbformat_minor": 2
}
