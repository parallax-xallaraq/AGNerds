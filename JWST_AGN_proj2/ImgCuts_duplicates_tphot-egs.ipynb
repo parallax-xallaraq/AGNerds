{
 "cells": [
  {
   "cell_type": "code",
   "execution_count": 1,
   "metadata": {},
   "outputs": [],
   "source": [
    "## imports \n",
    "# astro\n",
    "from    astropy.wcs             import WCS\n",
    "from    astropy.io              import fits\n",
    "import  astropy.units           as u\n",
    "from    astropy.nddata          import Cutout2D\n",
    "from    astropy.coordinates     import SkyCoord\n",
    "from    astropy.visualization   import (MinMaxInterval, PercentileInterval, ZScaleInterval, SqrtStretch, AsinhStretch, LogStretch, ImageNormalize)\n",
    "# data \n",
    "import  numpy   as np\n",
    "import  pandas  as pd\n",
    "# plots\n",
    "import  matplotlib.pyplot as plt\n",
    "# file interpretation\n",
    "import ast\n",
    "\n",
    "## file paths \n",
    "path_catalogs = 'D:\\\\AstroCatalogs\\\\AGNerds'\n",
    "path_cutouts = 'C:\\\\Users\\\\polar\\\\OneDrive - The University of Kansas\\\\AGNerds\\\\AGNerds\\\\JWST_AGN_proj2\\\\Cutouts_duplicates'"
   ]
  },
  {
   "attachments": {},
   "cell_type": "markdown",
   "metadata": {},
   "source": [
    "# Read Files"
   ]
  },
  {
   "cell_type": "code",
   "execution_count": 2,
   "metadata": {},
   "outputs": [
    {
     "name": "stdout",
     "output_type": "stream",
     "text": [
      "{(215.061708, 52.900944): [(215.061722, 52.900933, 'miri6'), (215.061896, 52.900765, 'miri6')], (215.044522, 52.894596): [(215.044535, 52.894589, 'miri6'), (215.044768, 52.894784, 'miri6')], (215.027832, 52.894548): [(215.027718, 52.894445, 'miri6'), (215.027837, 52.894547, 'miri6')], (215.033691, 52.909238): [(215.033689, 52.909234, 'miri6'), (215.033922, 52.909357, 'miri6')], (215.037311, 52.913392): [(215.03731, 52.913383, 'miri6'), (215.037553, 52.913339, 'miri6')], (215.016974, 52.901142): [(215.01698, 52.901149, 'miri6'), (215.017125, 52.901013, 'miri6')], (215.021841, 52.905244): [(215.021603, 52.9052, 'miri6'), (215.021839, 52.905239, 'miri6')], (215.032796, 52.915581): [(215.032782, 52.915564, 'miri6'), (215.033068, 52.915457, 'miri6')], (215.025932, 52.919903): [(215.025918, 52.919893, 'miri6'), (215.026152, 52.920017, 'miri6')], (215.172194, 53.03765): [(215.17185, 53.037536, 'miri1'), (215.172196, 53.037648, 'miri1')], (215.001349, 52.918369): [(215.001375, 52.918359, 'miri3'), (215.001516, 52.918472, 'miri3')], (215.176299, 53.040921): [(215.176025, 53.040701, 'miri1'), (215.176312, 53.040929, 'miri1')], (215.15674, 53.030215): [(215.156705, 53.030095, 'miri1'), (215.156755, 53.030217, 'miri1')], (215.154803, 53.028737): [(215.154766, 53.028952, 'miri1'), (215.154805, 53.028737, 'miri1')], (214.989685, 52.913524): [(214.98949, 52.913618, 'miri3'), (214.989708, 52.913515, 'miri3')], (214.976542, 52.905267): [(214.976331, 52.905206, 'miri3'), (214.97656, 52.905267, 'miri3')], (215.156204, 53.033157): [(215.156112, 53.033346, 'miri1'), (215.156226, 53.033156, 'miri1')], (215.151449, 53.031429): [(215.151428, 53.031246, 'miri1'), (215.151459, 53.031433, 'miri1')], (215.153352, 53.031388): [(215.153307, 53.031595, 'miri1'), (215.153374, 53.03139, 'miri1'), (215.153631, 53.031323, 'miri1')], (215.167571, 53.044001): [(215.167523, 53.043784, 'miri1'), (215.167574, 53.044005, 'miri1')], (215.15773, 53.035987): [(215.157743, 53.035985, 'miri1'), (215.157935, 53.035874, 'miri1')], (215.147645, 53.031261): [(215.147462, 53.031054, 'miri1'), (215.147662, 53.031261, 'miri1')], (215.178542, 53.053332): [(215.178541, 53.053336, 'miri1'), (215.178634, 53.05315, 'miri1')], (214.973248, 52.90764): [(214.973269, 52.907639, 'miri3'), (214.973546, 52.907664, 'miri3')], (215.162897, 53.043258): [(215.162908, 53.043264, 'miri1'), (215.162935, 53.043163, 'miri1')], (214.976879, 52.913108): [(214.976885, 52.9131, 'miri3'), (214.977122, 52.913102, 'miri3')], (215.146058, 53.032749): [(215.146078, 53.032751, 'miri1'), (215.146218, 53.032643, 'miri1')], (214.97621, 52.912554): [(214.976044, 52.912789, 'miri3'), (214.97621, 52.912547, 'miri3')], (215.169036, 53.049579): [(215.169039, 53.049584, 'miri1'), (215.169075, 53.049354, 'miri1')], (215.164252, 53.050298): [(215.163791, 53.050283, 'miri1'), (215.164257, 53.050304, 'miri1')], (215.152848, 53.04143): [(215.152871, 53.041431, 'miri1'), (215.153061, 53.04156, 'miri1')], (215.173433, 53.058707): [(215.173334, 53.058711, 'miri1'), (215.173537, 53.058734, 'miri1')], (215.152298, 53.045556): [(215.152275, 53.045797, 'miri1'), (215.15231, 53.045551, 'miri1')], (214.970314, 52.918069): [(214.970313, 52.918062, 'miri3'), (214.970314, 52.918267, 'miri3')], (215.160332, 53.052309): [(215.160081, 53.052133, 'miri1'), (215.160351, 53.052316, 'miri1')], (215.149492, 53.046517): [(215.149251, 53.046634, 'miri1'), (215.14951, 53.046523, 'miri1')], (215.164908, 53.059038): [(215.164646, 53.059082, 'miri1'), (215.164906, 53.059038, 'miri1')], (215.167399, 53.061723): [(215.167364, 53.061473, 'miri1'), (215.167387, 53.06172, 'miri1')], (215.146882, 53.050156): [(215.146743, 53.050335, 'miri1'), (215.146895, 53.05016, 'miri1')], (215.160977, 53.061229): [(215.160653, 53.061381, 'miri1'), (215.160963, 53.061236, 'miri1')], (215.071816, 52.997618): [(215.071838, 52.997616, 'miri2'), (215.072021, 52.997494, 'miri2')], (215.152592, 53.057055): [(215.152608, 53.057058, 'miri1'), (215.152643, 53.056874, 'miri1')], (215.055171, 52.988166): [(215.054852, 52.988212, 'miri2'), (215.055174, 52.988171, 'miri2')], (215.163327, 53.065112): [(215.163203, 53.064907, 'miri1'), (215.163306, 53.065123, 'miri1')], (214.9817, 52.937077): [(214.981667, 52.937274, 'miri3'), (214.981726, 52.937076, 'miri3')], (214.981151, 52.937913): [(214.981174, 52.937915, 'miri3'), (214.981295, 52.938077, 'miri3')], (215.069727, 53.001581): [(215.069741, 53.001664, 'miri2'), (215.069744, 53.001575, 'miri2')], (215.143667, 53.053068): [(215.143506, 53.053214, 'miri1'), (215.143672, 53.053066, 'miri1'), (215.143897, 53.053199, 'miri1')], (215.160092, 53.064448): [(215.160026, 53.064625, 'miri1'), (215.160067, 53.064462, 'miri1')], (214.971265, 52.932035): [(214.971281, 52.932024, 'miri3'), (214.971546, 52.932173, 'miri3')], (215.060859, 52.995258): [(215.060866, 52.995268, 'miri2'), (215.061104, 52.995419, 'miri2')], (215.147613, 53.058251): [(215.147466, 53.058087, 'miri1'), (215.147621, 53.058255, 'miri1')], (214.97816, 52.940277): [(214.978042, 52.940439, 'miri3'), (214.978188, 52.940286, 'miri3')], (215.158558, 53.067537): [(215.158182, 53.067442, 'miri1'), (215.158543, 53.067539, 'miri1')], (215.141954, 53.057755): [(215.141898, 53.057548, 'miri1'), (215.141967, 53.057752, 'miri1')], (215.062994, 53.001668): [(215.062764, 53.001498, 'miri2'), (215.063003, 53.001666, 'miri2')], (215.135778, 53.055631): [(215.135509, 53.055473, 'miri1'), (215.135781, 53.055618, 'miri1'), (215.13613, 53.055511, 'miri1')], (215.046103, 52.993277): [(215.045866, 52.993316, 'miri2'), (215.046105, 52.993287, 'miri2')], (215.165328, 53.053441): [(215.165192, 53.053334, 'miri1'), (215.165326, 53.053446, 'miri1')], (215.162719, 53.054385): [(215.162696, 53.054219, 'miri1'), (215.162719, 53.054392, 'miri1')], (215.144027, 53.060616): [(215.143971, 53.060365, 'miri1'), (215.14402, 53.060623, 'miri1')]}\n"
     ]
    }
   ],
   "source": [
    "# read file to get agn info\n",
    "with open('tphotCoord_egs_duplicate_galaxies.txt') as file:\n",
    "    galaxyCoordinants = ast.literal_eval( file.read() ) # converts str into dict \n",
    "\n",
    "print(galaxyCoordinants)\n"
   ]
  },
  {
   "cell_type": "code",
   "execution_count": 3,
   "metadata": {},
   "outputs": [],
   "source": [
    "# build dictionary of data, header, and wcs for a given fits file\n",
    "def GetData(fitsFile, egs=False):\n",
    "    f = fits.open(fitsFile)\n",
    "    if(egs):\n",
    "        wcs = WCS(f[0].header, relax=True)\n",
    "    else: \n",
    "        wcs = WCS(f[1].header)\n",
    "    # fill dictionary with data \n",
    "    dataDict = {\n",
    "        'data'      : fits.getdata(fitsFile),\n",
    "        'header'    : fits.getheader(fitsFile),\n",
    "        'wcs'       : wcs\n",
    "    }\n",
    "    f.close()\n",
    "    return(dataDict)"
   ]
  },
  {
   "cell_type": "code",
   "execution_count": 4,
   "metadata": {},
   "outputs": [
    {
     "name": "stderr",
     "output_type": "stream",
     "text": [
      "WARNING: FITSFixedWarning: 'datfix' made the change 'Set DATE-BEG to '2022-06-21T18:46:09.494' from MJD-BEG.\n",
      "Set DATE-AVG to '2022-06-21T19:01:47.926' from MJD-AVG.\n",
      "Set DATE-END to '2022-06-21T19:17:17.099' from MJD-END'. [astropy.wcs.wcs]\n",
      "WARNING: FITSFixedWarning: 'obsfix' made the change 'Set OBSGEO-L to   -74.832649 from OBSGEO-[XYZ].\n",
      "Set OBSGEO-B to   -36.743944 from OBSGEO-[XYZ].\n",
      "Set OBSGEO-H to 1725242515.981 from OBSGEO-[XYZ]'. [astropy.wcs.wcs]\n",
      "WARNING: FITSFixedWarning: 'datfix' made the change 'Set DATE-BEG to '2022-06-21T19:22:16.851' from MJD-BEG.\n",
      "Set DATE-AVG to '2022-06-21T19:37:34.014' from MJD-AVG.\n",
      "Set DATE-END to '2022-06-21T19:52:51.177' from MJD-END'. [astropy.wcs.wcs]\n",
      "WARNING: FITSFixedWarning: 'obsfix' made the change 'Set OBSGEO-L to   -74.825624 from OBSGEO-[XYZ].\n",
      "Set OBSGEO-B to   -36.748835 from OBSGEO-[XYZ].\n",
      "Set OBSGEO-H to 1725268421.305 from OBSGEO-[XYZ]'. [astropy.wcs.wcs]\n",
      "WARNING: FITSFixedWarning: 'datfix' made the change 'Set DATE-BEG to '2022-06-21T18:10:03.283' from MJD-BEG.\n",
      "Set DATE-AVG to '2022-06-21T18:25:23.072' from MJD-AVG.\n",
      "Set DATE-END to '2022-06-21T18:40:42.862' from MJD-END'. [astropy.wcs.wcs]\n",
      "WARNING: FITSFixedWarning: 'obsfix' made the change 'Set OBSGEO-L to   -74.839689 from OBSGEO-[XYZ].\n",
      "Set OBSGEO-B to   -36.739047 from OBSGEO-[XYZ].\n",
      "Set OBSGEO-H to 1725216509.255 from OBSGEO-[XYZ]'. [astropy.wcs.wcs]\n",
      "WARNING: FITSFixedWarning: 'datfix' made the change 'Set DATE-BEG to '2022-06-21T23:33:38.501' from MJD-BEG.\n",
      "Set DATE-AVG to '2022-06-21T23:48:57.498' from MJD-AVG.\n",
      "Set DATE-END to '2022-06-22T00:04:15.579' from MJD-END'. [astropy.wcs.wcs]\n",
      "WARNING: FITSFixedWarning: 'obsfix' made the change 'Set OBSGEO-L to   -74.776836 from OBSGEO-[XYZ].\n",
      "Set OBSGEO-B to   -36.782898 from OBSGEO-[XYZ].\n",
      "Set OBSGEO-H to 1725446993.656 from OBSGEO-[XYZ]'. [astropy.wcs.wcs]\n",
      "WARNING: FITSFixedWarning: 'datfix' made the change 'Set DATE-BEG to '2022-06-22T00:09:18.083' from MJD-BEG.\n",
      "Set DATE-AVG to '2022-06-22T00:24:36.184' from MJD-AVG.\n",
      "Set DATE-END to '2022-06-22T00:39:55.224' from MJD-END'. [astropy.wcs.wcs]\n",
      "WARNING: FITSFixedWarning: 'obsfix' made the change 'Set OBSGEO-L to   -74.770114 from OBSGEO-[XYZ].\n",
      "Set OBSGEO-B to   -36.787605 from OBSGEO-[XYZ].\n",
      "Set OBSGEO-H to 1725471424.000 from OBSGEO-[XYZ]'. [astropy.wcs.wcs]\n",
      "WARNING: FITSFixedWarning: 'datfix' made the change 'Set DATE-BEG to '2022-06-21T22:57:40.610' from MJD-BEG.\n",
      "Set DATE-AVG to '2022-06-21T23:13:00.399' from MJD-AVG.\n",
      "Set DATE-END to '2022-06-21T23:28:20.189' from MJD-END'. [astropy.wcs.wcs]\n",
      "WARNING: FITSFixedWarning: 'obsfix' made the change 'Set OBSGEO-L to   -74.783764 from OBSGEO-[XYZ].\n",
      "Set OBSGEO-B to   -36.778051 from OBSGEO-[XYZ].\n",
      "Set OBSGEO-H to 1725421772.310 from OBSGEO-[XYZ]'. [astropy.wcs.wcs]\n",
      "WARNING: FITSFixedWarning: 'datfix' made the change 'Set DATE-BEG to '2022-06-22T04:41:48.266' from MJD-BEG.\n",
      "Set DATE-AVG to '2022-06-22T06:05:47.815' from MJD-AVG.\n",
      "Set DATE-END to '2022-06-22T07:29:50.016' from MJD-END'. [astropy.wcs.wcs]\n",
      "WARNING: FITSFixedWarning: 'obsfix' made the change 'Set OBSGEO-L to   -74.717562 from OBSGEO-[XYZ].\n",
      "Set OBSGEO-B to   -36.824516 from OBSGEO-[XYZ].\n",
      "Set OBSGEO-H to 1725661038.683 from OBSGEO-[XYZ]'. [astropy.wcs.wcs]\n",
      "WARNING: FITSFixedWarning: 'datfix' made the change 'Set DATE-BEG to '2022-06-22T08:45:05.308' from MJD-BEG.\n",
      "Set DATE-AVG to '2022-06-22T10:08:54.247' from MJD-AVG.\n",
      "Set DATE-END to '2022-06-22T11:32:43.186' from MJD-END'. [astropy.wcs.wcs]\n",
      "WARNING: FITSFixedWarning: 'obsfix' made the change 'Set OBSGEO-L to   -74.671776 from OBSGEO-[XYZ].\n",
      "Set OBSGEO-B to   -36.856839 from OBSGEO-[XYZ].\n",
      "Set OBSGEO-H to 1725824387.091 from OBSGEO-[XYZ]'. [astropy.wcs.wcs]\n"
     ]
    },
    {
     "name": "stdout",
     "output_type": "stream",
     "text": [
      "MIRI READ\n",
      "EGS READ\n"
     ]
    },
    {
     "name": "stderr",
     "output_type": "stream",
     "text": [
      "WARNING: FITSFixedWarning: 'datfix' made the change 'Set MJD-OBS to 56436.000000 from DATE-OBS'. [astropy.wcs.wcs]\n"
     ]
    }
   ],
   "source": [
    "# read CEERS MIRI image data\n",
    "miri = {\n",
    "    'miri1' : {\n",
    "        'f1000w' : GetData(path_catalogs+'\\\\ceers_miri1_f1000w_i2d.fits'),\n",
    "        'f1280w' : GetData(path_catalogs+'\\\\ceers_miri1_f1280w_i2d.fits'),\n",
    "        'f770w'  : GetData(path_catalogs+'\\\\ceers_miri1_f770w_i2d.fits')\n",
    "    },\n",
    "    'miri2' : {\n",
    "        'f1000w' : GetData(path_catalogs+'\\\\ceers_miri2_f1000w_i2d.fits'),\n",
    "        'f1280w' : GetData(path_catalogs+'\\\\ceers_miri2_f1280w_i2d.fits'),\n",
    "        'f770w'  : GetData(path_catalogs+'\\\\ceers_miri2_f770w_i2d.fits')\n",
    "    },\n",
    "    'miri3' :{\n",
    "        'f770w'  : GetData(path_catalogs+'\\\\ceers_miri3_f770w_i2d.fits')\n",
    "    },\n",
    "    'miri6' : {\n",
    "        'f770w'  : GetData(path_catalogs+'\\\\ceers_miri6_f770w_i2d.fits')\n",
    "    }\n",
    "}\n",
    "print('MIRI READ')\n",
    "# read EGS data \n",
    "egs = {\n",
    "    'f160w' : GetData(path_catalogs+'\\\\egs_all_wfc3_ir_f160w_030mas_v1.9_drz.fits', egs=True)\n",
    "}\n",
    "print('EGS READ')"
   ]
  },
  {
   "attachments": {},
   "cell_type": "markdown",
   "metadata": {},
   "source": [
    "# Functions for Image Cutouts"
   ]
  },
  {
   "cell_type": "code",
   "execution_count": 5,
   "metadata": {},
   "outputs": [],
   "source": [
    "## use this to look at whole image, not just cutout # TODO this \n",
    "# ax.imshow(data, origin='lower', cmap='gray')"
   ]
  },
  {
   "cell_type": "code",
   "execution_count": 6,
   "metadata": {},
   "outputs": [],
   "source": [
    "def GetCutout(\n",
    "    coord,  # center sky coordinate\n",
    "    wcs,    # World Coordinate System\n",
    "    data,   # image data\n",
    "    dl=50   # cutout size \n",
    "):\n",
    "    # get position on sky \n",
    "    x, y = wcs.world_to_pixel(coord)\n",
    "    # make cutout \n",
    "    cutout = Cutout2D(data, position=(x,y), size=(dl,dl), wcs=wcs, mode='partial')\n",
    "    return(cutout)"
   ]
  },
  {
   "cell_type": "code",
   "execution_count": 7,
   "metadata": {},
   "outputs": [],
   "source": [
    "def PlotCutout(\n",
    "    ax,\n",
    "    cutout,\n",
    "    center, # dl/2\n",
    "    title,  # title \n",
    "    marks=[],   # add markers to these coordinantes\n",
    "    useNorm=None,\n",
    "    showGrid=False\n",
    ") : \n",
    "    if(showGrid):\n",
    "        # grid lines\n",
    "        ax.grid(True, color='r', linestyle='--', linewidth=0.5)\n",
    "    else:\n",
    "        # hide ticks\n",
    "        ax.set_xticks([])\n",
    "        ax.set_yticks([])\n",
    "    # hide axis lables\n",
    "    ax.set_xlabel(' ')\n",
    "    ax.set_ylabel(' ')\n",
    "\n",
    "    if(marks):\n",
    "        for i,coord in enumerate(marks):\n",
    "            # determine color \n",
    "            if(i==0):   c='green'\n",
    "            else:       c='red'\n",
    "            # plot mark\n",
    "            ax.plot_coord(coord, \"x\", color=c)\n",
    "    else:\n",
    "        # circle center coord \n",
    "        circle = plt.Circle((center,center), 10, fc=(0,0,0,0), ec=\"red\")\n",
    "        ax.add_patch(circle)\n",
    "\n",
    "    # set title\n",
    "    ax.set_title(title,fontsize=14)\n",
    "    \n",
    "    # plot image\n",
    "    if(useNorm == None) : \n",
    "        ax.imshow(cutout.data, origin='lower', cmap='gray')\n",
    "    else:\n",
    "        norm1 = ImageNormalize(cutout.data, interval=PercentileInterval(useNorm), stretch=AsinhStretch())\n",
    "        ax.imshow(cutout.data, origin='lower', cmap='gray', norm=norm1)"
   ]
  },
  {
   "cell_type": "code",
   "execution_count": 27,
   "metadata": {},
   "outputs": [],
   "source": [
    "def MakePlotOfSrc_MultiBand(\n",
    "    coord,  # SkyCoord of center RA and Dec (SkyCoord)\n",
    "    wcs,    # World Coordinate System (list)\n",
    "    data,   # image data (list)\n",
    "    band,   # title of subplot (list)\n",
    "    dl,     # cutout size (list)\n",
    "    marks=[],   # add markers to these coordinantes.\n",
    "    title=None,  # plot title (string)\n",
    "    useNorm=None,   # normalization percent interval\n",
    "    showGrid=False,\n",
    "    fileName=None     # name and path of file to save to\n",
    "):\n",
    "    # verify all lists are same length\n",
    "    n = len(wcs)\n",
    "    if(n!=len(data) and n!=len(band) and n!=len(dl)) : \n",
    "        print('[!] lists are not same size')\n",
    "        return \n",
    "\n",
    "    # get cutous\n",
    "    cutout = [None] * n\n",
    "    for i in range(n) : \n",
    "        cutout[i] = GetCutout(\n",
    "            coord=coord, # center sky coordinate\n",
    "            wcs=wcs[i],     # World Coordinate System\n",
    "            data=data[i],   # image data\n",
    "            dl=dl[i]        # cutout size \n",
    "        )\n",
    "    \n",
    "    # make figure \n",
    "    fig = plt.figure(figsize=( 1+(3*n), 4.25 ))\n",
    "    ax = [None] * n\n",
    "    for i in range(n) :\n",
    "        ax[i] = fig.add_subplot( 1,n,(i+1), projection=cutout[i].wcs)\n",
    "\n",
    "    # plot settings \n",
    "    if(showGrid) : \n",
    "        fig.supxlabel('RA')\n",
    "        fig.supylabel('Dec')\n",
    "    if(title):\n",
    "        fig.suptitle(title, fontsize=16)\n",
    "\n",
    "    # plot image cutout on axis\n",
    "    for i in range(n): \n",
    "        PlotCutout(\n",
    "            ax=ax[i],\n",
    "            cutout=cutout[i],\n",
    "            center=dl[i]/2.0, \n",
    "            title=band[i],\n",
    "            marks=marks,\n",
    "            useNorm=useNorm,\n",
    "            showGrid=showGrid\n",
    "        )\n",
    "\n",
    "    # save \n",
    "    if(fileName):\n",
    "        plt.savefig(    \n",
    "            fileName,\n",
    "            bbox_inches =\"tight\",\n",
    "            pad_inches=0.05,\n",
    "            facecolor='w',\n",
    "            edgecolor='w'\n",
    "        )"
   ]
  },
  {
   "attachments": {},
   "cell_type": "markdown",
   "metadata": {},
   "source": [
    "# Plot Single Object"
   ]
  },
  {
   "cell_type": "code",
   "execution_count": 16,
   "metadata": {},
   "outputs": [],
   "source": [
    "def TupleToCoord(tup):\n",
    "    # tup : tuple where 0 is ra and 1 is dec in degrees \n",
    "    return SkyCoord(tup[0]*u.degree, tup[1]*u.degree)"
   ]
  },
  {
   "cell_type": "code",
   "execution_count": 17,
   "metadata": {},
   "outputs": [],
   "source": [
    "def MarksFromDict(keyCoord,valCoords) :\n",
    "    # first index is from key \n",
    "    marks = [TupleToCoord(keyCoord)]\n",
    "    # add other coordinants to end of list \n",
    "    for c in valCoords : \n",
    "        marks.append(TupleToCoord(c))\n",
    "    # return coordinate list\n",
    "    return marks"
   ]
  },
  {
   "cell_type": "code",
   "execution_count": 28,
   "metadata": {},
   "outputs": [
    {
     "name": "stdout",
     "output_type": "stream",
     "text": [
      "Source == (214.973248, 52.90764) : [(214.973269, 52.907639, 'miri3'), (214.973546, 52.907664, 'miri3')]\n"
     ]
    },
    {
     "data": {
      "image/png": "[encoded data removed]",
      "text/plain": [
       "<Figure size 700x425 with 2 Axes>"
      ]
     },
     "metadata": {},
     "output_type": "display_data"
    }
   ],
   "source": [
    "# dictionary format : \n",
    "#   key: tuple(ra,dec) for egs\n",
    "#   value: list[tuple(ra,dec,field),...] for tphot \n",
    "\n",
    "# example source \n",
    "i=23\n",
    "key,val = list(galaxyCoordinants.items())[i]\n",
    "print('Source ==', key, ':', val)\n",
    "# extract info from dict \n",
    "field_i = val[0][2] # gets miri field of first object --> [0] access first entry in list, [2] gets the field string\n",
    "marks_i = MarksFromDict(key,val)\n",
    "\n",
    "# plot jwst \n",
    "bandJWST = 'f770w'\n",
    "bandEGS = 'f160w'\n",
    "         \n",
    "MakePlotOfSrc_MultiBand(\n",
    "    coord = marks_i[0],\n",
    "    wcs   = [miri[field_i][bandJWST]['wcs'] , egs[bandEGS]['wcs'] ],    # World Coordinate System\n",
    "    data  = [miri[field_i][bandJWST]['data'], egs[bandEGS]['data']],   # image data\n",
    "    band  = ['JWST: '+bandJWST, 'HST: '+bandEGS],   # title of subplot \n",
    "    dl    = [30, 90],  # cutout size  \n",
    "    marks = marks_i,   # add markers to these coordinantes. format [(RA1,DEC1),(RA2,DEC2),...]\n",
    "    title = None,  # plot title\n",
    "    useNorm  = None,   # normalization percent interval\n",
    "    showGrid = False,\n",
    "    fileName = None     # name and path of file to save to\n",
    ")"
   ]
  },
  {
   "cell_type": "code",
   "execution_count": 29,
   "metadata": {},
   "outputs": [],
   "source": [
    "# TODO fix y axis... then make plots of all objects! "
   ]
  }
 ],
 "metadata": {
  "kernelspec": {
   "display_name": "astropy-env",
   "language": "python",
   "name": "python3"
  },
  "language_info": {
   "codemirror_mode": {
    "name": "ipython",
    "version": 3
   },
   "file_extension": ".py",
   "mimetype": "text/x-python",
   "name": "python",
   "nbconvert_exporter": "python",
   "pygments_lexer": "ipython3",
   "version": "3.9.15"
  },
  "orig_nbformat": 4,
  "vscode": {
   "interpreter": {
    "hash": "11ae23b3a1f5c6236de2b9e9159c6d39bb68b91427dfd66e2220bdf6faa7530f"
   }
  }
 },
 "nbformat": 4,
 "nbformat_minor": 2
}
