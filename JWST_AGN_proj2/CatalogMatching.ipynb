{
 "cells": [
  {
   "cell_type": "code",
   "execution_count": 1,
   "metadata": {},
   "outputs": [],
   "source": [
    "# TODO\n",
    "# 1. open tphot, egs_candles, and egs_merged to read\n",
    "# 2. match RA and DEC between egs_merged and tphot\n",
    "# 3. get ID from egs_merged for matches (#2) and match to egs_candles\n",
    "# 4. make catalog with all data\n",
    "# note: there may be 2 matches in #2, make note of these sources. We will have to match by eye. "
   ]
  },
  {
   "cell_type": "code",
   "execution_count": 2,
   "metadata": {},
   "outputs": [],
   "source": [
    "## imports\n",
    "# astronomy\n",
    "from astropy.io import fits\n",
    "from astropy.io import ascii\n",
    "from astropy.coordinates import SkyCoord\n",
    "import astropy.units as u\n",
    "# plotting\n",
    "import matplotlib.pyplot as plt\n",
    "# data \n",
    "import numpy as np"
   ]
  },
  {
   "cell_type": "markdown",
   "metadata": {},
   "source": [
    "# 1. Read Data"
   ]
  },
  {
   "cell_type": "code",
   "execution_count": 3,
   "metadata": {},
   "outputs": [],
   "source": [
    "# file paths \n",
    "path_catalogs = 'C:\\\\Users\\\\polar\\\\OneDrive - The University of Kansas\\\\AGNerds\\\\Catalogs'"
   ]
  },
  {
   "cell_type": "code",
   "execution_count": 4,
   "metadata": {},
   "outputs": [],
   "source": [
    "# open egs_merged \n",
    "egs_merged_inf = fits.open(path_catalogs+'\\\\egs_merged_v1.1.fits')\n",
    "egs_merged_data = egs_merged_inf[1].data\n",
    "egs_merged_cols = egs_merged_inf[1].columns\n",
    "egs_merged_inf.close()"
   ]
  },
  {
   "cell_type": "code",
   "execution_count": 5,
   "metadata": {},
   "outputs": [],
   "source": [
    "# print all columns\n",
    "# print(egs_merged_cols)\n",
    "\n",
    "# important columns:\n",
    "# name = 'ID'; format = 'K'\n",
    "# name = 'RA'; format = 'D'; unit = 'deg'\n",
    "# name = 'DEC'; format = 'D'; unit = 'deg'\n",
    "# name = 'z_best'; format = 'D'"
   ]
  },
  {
   "cell_type": "code",
   "execution_count": 6,
   "metadata": {},
   "outputs": [],
   "source": [
    "# open tphot\n",
    "tphot_data = ascii.read(path_catalogs+'\\\\tphot.cat')\n",
    "tphot_cols = tphot_data.colnames"
   ]
  },
  {
   "cell_type": "code",
   "execution_count": 7,
   "metadata": {},
   "outputs": [],
   "source": [
    "# show table\n",
    "# tphot_data.show_in_notebook()\n",
    "# print(tphot_cols)\n",
    "\n",
    "# important columns:\n",
    "# name = 'ra'\n",
    "# name = 'dec'"
   ]
  },
  {
   "cell_type": "code",
   "execution_count": 22,
   "metadata": {},
   "outputs": [],
   "source": [
    "# open egs_candels \n",
    "egs_candels_data_bySrc= np.genfromtxt(path_catalogs+'\\\\egs_candels_checkage_official.ir_fitting')\n",
    "egs_candels_data_byCol = egs_candels_data_bySrc.T # transpose "
   ]
  },
  {
   "cell_type": "code",
   "execution_count": 43,
   "metadata": {},
   "outputs": [],
   "source": [
    "# important columns (access by index)\n",
    "EGSCAN_SOURCE = 0 # Source    1"
   ]
  },
  {
   "cell_type": "markdown",
   "metadata": {},
   "source": [
    "# 2. Match RA and DEC "
   ]
  },
  {
   "cell_type": "code",
   "execution_count": 10,
   "metadata": {},
   "outputs": [],
   "source": [
    "## get RA and DEC from catalogs\n",
    "\n",
    "# get RA and DEC from tphot and make array\n",
    "tphot_RA  = np.array(tphot_data['ra'])\n",
    "tphot_DEC = np.array(tphot_data['dec'])\n",
    "# get RA and DEC from egs_merged (already an array)\n",
    "egs_merged_RA  = egs_merged_data['RA']\n",
    "egs_merged_DEC = egs_merged_data['DEC']\n",
    "\n",
    "# get coordinants \n",
    "tphot_coord = SkyCoord(ra=tphot_RA*u.deg, dec=tphot_DEC*u.deg)\n",
    "egs_merged_coord = SkyCoord(ra=egs_merged_RA*u.deg, dec=egs_merged_DEC*u.deg)"
   ]
  },
  {
   "cell_type": "code",
   "execution_count": 11,
   "metadata": {},
   "outputs": [
    {
     "name": "stdout",
     "output_type": "stream",
     "text": [
      "Number of tphot sources:\t 1734\n",
      "Number of egs_merged sources:\t 41457\n"
     ]
    }
   ],
   "source": [
    "print('Number of tphot sources:\\t', len(tphot_RA))\n",
    "print('Number of egs_merged sources:\\t', len(egs_merged_RA))"
   ]
  },
  {
   "cell_type": "code",
   "execution_count": 12,
   "metadata": {},
   "outputs": [
    {
     "name": "stdout",
     "output_type": "stream",
     "text": [
      "Number of matches:\t 1661\n"
     ]
    }
   ],
   "source": [
    "## match RA and DEC between catalogs\n",
    "# DOC: https://docs.astropy.org/en/stable/coordinates/matchsep.html\n",
    "\n",
    "# idx are indices into catalog that are the closest objects to each of the coordinates in c, \n",
    "# d2d are the on-sky distances between them, and \n",
    "# d3d are the 3-dimensional distances. \n",
    "idx, d2d, d3d = egs_merged_coord.match_to_catalog_sky(tphot_coord) # idx, d2d, d3d = c.match_to_catalog_sky(catalog)\n",
    "\n",
    "# separation constraint\n",
    "max_sep = 1.0 * u.arcsec\n",
    "sep_constraint = d2d < max_sep  # use on 'c' (egs_merged_coord)\n",
    "idx_sep = idx[sep_constraint]   # use on 'catalog' (tphot)\n",
    "\n",
    "# get matches\n",
    "egs_merged_coord_matches = egs_merged_coord[sep_constraint]\n",
    "tphot_coord_matches = tphot_coord[idx_sep]\n",
    "\n",
    "# print length  \n",
    "print('Number of matches:\\t', len(tphot_coord_matches))"
   ]
  },
  {
   "cell_type": "code",
   "execution_count": 13,
   "metadata": {},
   "outputs": [
    {
     "name": "stdout",
     "output_type": "stream",
     "text": [
      "<SkyCoord (ICRS): (ra, dec) in deg\n",
      "    (215.0598187, 52.90257107)>\n",
      "<SkyCoord (ICRS): (ra, dec) in deg\n",
      "    (215.059807, 52.90258)>\n"
     ]
    }
   ],
   "source": [
    "# test match\n",
    "i=11\n",
    "print(egs_merged_coord_matches[i])\n",
    "print(tphot_coord_matches[i])"
   ]
  },
  {
   "cell_type": "markdown",
   "metadata": {},
   "source": [
    "# 3. Find Duplicate Matches"
   ]
  },
  {
   "cell_type": "code",
   "execution_count": 14,
   "metadata": {},
   "outputs": [
    {
     "name": "stdout",
     "output_type": "stream",
     "text": [
      "Number of unique:\t 1633\n",
      "Number of duplicates:\t 28\n",
      "Duplicates:\n",
      " [1412 1427 1273  930 1389  791  771  942 1106 1204   38   34 1427 1397\n",
      "  801  660  379  970  127 1279  983  973  719  789 1092 1140 1075 1058]\n"
     ]
    }
   ],
   "source": [
    "## determine duplicate sources\n",
    "\n",
    "# make mask of unique soruces \n",
    "mask = np.zeros(len(idx_sep), dtype=bool)\n",
    "mask[np.unique(idx_sep, return_index=True)[1]] = True\n",
    "# apply mask to get unique sources and duplicates\n",
    "idx_sep_unique = idx_sep[mask]\n",
    "idx_sep_duplicates = idx_sep[~mask]\n",
    "# print info\n",
    "print('Number of unique:\\t', len(idx_sep_unique))\n",
    "print('Number of duplicates:\\t', len(idx_sep_duplicates))\n",
    "print('Duplicates:\\n', idx_sep_duplicates)"
   ]
  },
  {
   "cell_type": "markdown",
   "metadata": {},
   "source": [
    "# 4. Match ID"
   ]
  },
  {
   "cell_type": "code",
   "execution_count": 36,
   "metadata": {},
   "outputs": [],
   "source": [
    "# get IDs\n",
    "egs_merged_ID = egs_merged_data['ID']\n",
    "egs_merged_ID_tphotMatches = egs_merged_ID[sep_constraint]\n",
    "\n",
    "egs_candels_ID = egs_candels_data_byCol[EGSCAN_SOURCE]"
   ]
  },
  {
   "cell_type": "code",
   "execution_count": 37,
   "metadata": {},
   "outputs": [],
   "source": [
    "# Used to match by id (code from Connor Auge)\n",
    "def match(a, b):\n",
    "    b_set = set(b)\n",
    "    b_match = [i for i, v in enumerate(a) if v in b_set]\n",
    "    a_set = set(a)\n",
    "    a_match = [i for i, v in enumerate(b) if v in a_set]\n",
    "    a_match = np.asarray(a_match)\n",
    "    b_match = np.asarray(b_match)\n",
    "    a_match2 = np.argsort(a[b_match])\n",
    "    b_match2 = np.argsort(b[a_match])\n",
    "    return b_match[a_match2],a_match[b_match2]"
   ]
  },
  {
   "cell_type": "code",
   "execution_count": 40,
   "metadata": {},
   "outputs": [],
   "source": [
    "# match \n",
    "key_merged, key_candels = match(egs_merged_ID_tphotMatches, egs_candels_ID)\n",
    "\n",
    "# apply match key\n",
    "egs_merged_ID_tphotMatches_egsMatches = egs_merged_ID_tphotMatches[key_merged]\n",
    "egs_candels_ID_egsMatches = egs_candels_ID[key_candels]"
   ]
  },
  {
   "cell_type": "code",
   "execution_count": 47,
   "metadata": {},
   "outputs": [
    {
     "name": "stdout",
     "output_type": "stream",
     "text": [
      "1498\n",
      "1498.0\n"
     ]
    }
   ],
   "source": [
    "# test\n",
    "i=1\n",
    "print(egs_merged_ID_tphotMatches_egsMatches[i])\n",
    "print(egs_candels_ID_egsMatches[i])"
   ]
  },
  {
   "cell_type": "code",
   "execution_count": 42,
   "metadata": {},
   "outputs": [],
   "source": [
    "# # verify RA and DEC match\n",
    "# egs_merged_RA_tphotMatch = egs_merged_RA[sep_constraint]\n",
    "# egs_merged_DEC_tphotMatch = egs_merged_DEC[sep_constraint]\n",
    "\n",
    "# # egs_candels does not have an RA/DEC? "
   ]
  },
  {
   "cell_type": "markdown",
   "metadata": {},
   "source": [
    "# Build Catalog"
   ]
  },
  {
   "cell_type": "code",
   "execution_count": null,
   "metadata": {},
   "outputs": [],
   "source": []
  }
 ],
 "metadata": {
  "kernelspec": {
   "display_name": "Python 3.9.12 ('py3env')",
   "language": "python",
   "name": "python3"
  },
  "language_info": {
   "codemirror_mode": {
    "name": "ipython",
    "version": 3
   },
   "file_extension": ".py",
   "mimetype": "text/x-python",
   "name": "python",
   "nbconvert_exporter": "python",
   "pygments_lexer": "ipython3",
   "version": "3.9.12"
  },
  "orig_nbformat": 4,
  "vscode": {
   "interpreter": {
    "hash": "9087279304570de5a36832bd291691fdf2a46b942e9196516ec718f5eedeadfe"
   }
  }
 },
 "nbformat": 4,
 "nbformat_minor": 2
}
