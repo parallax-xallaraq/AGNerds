{
 "cells": [
  {
   "cell_type": "code",
   "execution_count": 23,
   "metadata": {},
   "outputs": [],
   "source": [
    "# TODO\n",
    "# 1. open tphot, egs_candles, and egs_merged to read\n",
    "# 2. match RA and DEC between egs_merged and tphot\n",
    "# 3. get ID from egs_merged for matches (#2) and match to egs_candles\n",
    "# 4. make catalog with all data\n",
    "# note: there may be 2 matches in #2, make note of these sources. We will have to match by eye. "
   ]
  },
  {
   "cell_type": "code",
   "execution_count": 24,
   "metadata": {},
   "outputs": [],
   "source": [
    "## imports\n",
    "# astronomy\n",
    "from astropy.io import fits\n",
    "from astropy.io import ascii\n",
    "from astropy.table import Table\n",
    "from astropy.coordinates import SkyCoord\n",
    "import astropy.units as u\n",
    "# plotting\n",
    "import matplotlib.pyplot as plt\n",
    "# data \n",
    "import numpy as np\n",
    "import pandas as pd "
   ]
  },
  {
   "cell_type": "markdown",
   "metadata": {},
   "source": [
    "# 1. Read Data"
   ]
  },
  {
   "cell_type": "code",
   "execution_count": 25,
   "metadata": {},
   "outputs": [],
   "source": [
    "# file paths \n",
    "path_catalogs = 'C:\\\\Users\\\\polar\\\\OneDrive - The University of Kansas\\\\AGNerds\\\\Catalogs'"
   ]
  },
  {
   "cell_type": "code",
   "execution_count": 48,
   "metadata": {},
   "outputs": [],
   "source": [
    "# open tphot\n",
    "tphot_data = ascii.read(path_catalogs+'\\\\tphot.cat')\n",
    "tphot_cols = tphot_data.colnames\n",
    "\n",
    "# show table\n",
    "# tphot_data.show_in_notebook()\n",
    "# print(tphot_cols)\n",
    "\n",
    "# important columns:\n",
    "# name = 'ra'\n",
    "# name = 'dec'"
   ]
  },
  {
   "cell_type": "code",
   "execution_count": 45,
   "metadata": {},
   "outputs": [],
   "source": [
    "# open egs_merged \n",
    "# egs_merged_inf = fits.open(path_catalogs+'\\\\egs_merged_v1.1.fits')\n",
    "# egs_merged_data = egs_merged_inf[1].data\n",
    "# egs_merged_cols = egs_merged_inf[1].columns\n",
    "# egs_merged_inf.close()\n",
    "\n",
    "egs_merged_data = Table.read(path_catalogs+'\\\\egs_merged_v1.1.fits')\n",
    "egs_merged_cols = egs_merged_data.columns\n",
    "\n",
    "# print all columns\n",
    "# print(egs_merged_cols)\n",
    "\n",
    "# important columns:\n",
    "# name = 'ID'; format = 'K'\n",
    "# name = 'RA'; format = 'D'; unit = 'deg'\n",
    "# name = 'DEC'; format = 'D'; unit = 'deg'\n",
    "# name = 'z_best'; format = 'D'"
   ]
  },
  {
   "cell_type": "code",
   "execution_count": 28,
   "metadata": {},
   "outputs": [],
   "source": [
    "# open egs_candels \n",
    "egs_candels_data_bySrc= np.genfromtxt(path_catalogs+'\\\\egs_candels_checkage_official.ir_fitting')\n",
    "egs_candels_data_byCol = egs_candels_data_bySrc.T # transpose \n",
    "# manually type column names\n",
    "egs_candels_cols = ['Source','z','L(8-1000)','er','L(3-1100)','er','L1_1','L1_2','L1_3','L1_4','L2_1','L2_2','L2_3','L2_4','L_008','er','L_012','er','L_015','er','L_024','er','SFR_TIR','er','SFR_008','er','SFR_012','er','SFR_015','er','SFR_024','er','SFRonly24','SFR_R+09','SFR_R+13','SFR_E+11','er','SFR_W+11','SFR1600','SFR2800','UV_beta','A(V)','SFR1600c','SFR2800c','A(V)e','SFR1600ce','SFR2800ce','qPAH_DL+07','Umin_DL+07','gamma_DL+07','Mdust_DL+07','temp_1','temp_2','temp_3','temp_4','temp_only24','factor_1','factor_2','factor_3','factor_4','factor_only24','F(24)','R+09_valA','R+09_valB','R+13_valA','R+13_valB','W+11_val','l_IRAC_58','f_IRAC_58','l_IRAC_80','f_IRAC_80','l_MIPS24','f_MIPS24','l_MIPS70','f_MIPS70','l_PACS_100','f_PACS_100','l_PACS_160','f_PACS_160','l_SPIRE_250','f_SPIRE_250','l_SPIRE_350','f_SPIRE_350','l_SPIRE_500','f_SPIRE_500','plot_maxy','Nfit','Nobs']\n",
    "\n",
    "# important columns (access by index)\n",
    "EGSCAN_SOURCE = 0 # Source    1"
   ]
  },
  {
   "cell_type": "markdown",
   "metadata": {},
   "source": [
    "# 2. Match RA and DEC "
   ]
  },
  {
   "cell_type": "code",
   "execution_count": 29,
   "metadata": {},
   "outputs": [],
   "source": [
    "## get RA and DEC from catalogs\n",
    "\n",
    "# get RA and DEC from tphot and make array\n",
    "tphot_RA  = np.array(tphot_data['ra'])\n",
    "tphot_DEC = np.array(tphot_data['dec'])\n",
    "# get RA and DEC from egs_merged (already an array)\n",
    "egs_merged_RA  = np.array(egs_merged_data['RA'])\n",
    "egs_merged_DEC = np.array(egs_merged_data['DEC'])\n",
    "\n",
    "# get coordinants \n",
    "tphot_coord = SkyCoord(ra=tphot_RA*u.deg, dec=tphot_DEC*u.deg)\n",
    "egs_merged_coord = SkyCoord(ra=egs_merged_RA*u.deg, dec=egs_merged_DEC*u.deg)"
   ]
  },
  {
   "cell_type": "code",
   "execution_count": 30,
   "metadata": {},
   "outputs": [
    {
     "name": "stdout",
     "output_type": "stream",
     "text": [
      "Number of tphot sources:\t 1734\n",
      "Number of egs_merged sources:\t 41457\n"
     ]
    }
   ],
   "source": [
    "print('Number of tphot sources:\\t', len(tphot_RA))\n",
    "print('Number of egs_merged sources:\\t', len(egs_merged_RA))"
   ]
  },
  {
   "cell_type": "code",
   "execution_count": 31,
   "metadata": {},
   "outputs": [
    {
     "name": "stdout",
     "output_type": "stream",
     "text": [
      "Number of matches:\t 1661\n",
      "Number of matches:\t 1661\n"
     ]
    }
   ],
   "source": [
    "## match RA and DEC between catalogs\n",
    "# DOC: https://docs.astropy.org/en/stable/coordinates/matchsep.html\n",
    "\n",
    "# idx are indices into catalog that are the closest objects to each of the coordinates in c, \n",
    "# d2d are the on-sky distances between them, and \n",
    "# d3d are the 3-dimensional distances. \n",
    "idx, d2d, d3d = egs_merged_coord.match_to_catalog_sky(tphot_coord) # idx, d2d, d3d = c.match_to_catalog_sky(catalog)\n",
    "\n",
    "# separation constraint\n",
    "max_sep = 1.0 * u.arcsec\n",
    "sep_constraint = d2d < max_sep  # use on 'c' (egs_merged_coord)\n",
    "idx_sep = idx[sep_constraint]   # use on 'catalog' (tphot)\n",
    "\n",
    "# get matches\n",
    "egs_merged_coord_matches = egs_merged_coord[sep_constraint]\n",
    "tphot_coord_matches = tphot_coord[idx_sep]\n",
    "\n",
    "# print length  \n",
    "print('Number of matches:\\t', len(egs_merged_coord_matches))\n",
    "print('Number of matches:\\t', len(tphot_coord_matches))"
   ]
  },
  {
   "cell_type": "code",
   "execution_count": 32,
   "metadata": {},
   "outputs": [
    {
     "name": "stdout",
     "output_type": "stream",
     "text": [
      "<SkyCoord (ICRS): (ra, dec) in deg\n",
      "    (215.0598187, 52.90257107)>\n",
      "<SkyCoord (ICRS): (ra, dec) in deg\n",
      "    (215.059807, 52.90258)>\n"
     ]
    }
   ],
   "source": [
    "# test match\n",
    "i=11\n",
    "print(egs_merged_coord_matches[i])\n",
    "print(tphot_coord_matches[i])"
   ]
  },
  {
   "cell_type": "markdown",
   "metadata": {},
   "source": [
    "# 3. Find Duplicate Matches"
   ]
  },
  {
   "cell_type": "code",
   "execution_count": 33,
   "metadata": {},
   "outputs": [
    {
     "name": "stdout",
     "output_type": "stream",
     "text": [
      "Number of unique:\t 1633\n",
      "Number of duplicates:\t 28\n",
      "Duplicates:\n",
      " [1412 1427 1273  930 1389  791  771  942 1106 1204   38   34 1427 1397\n",
      "  801  660  379  970  127 1279  983  973  719  789 1092 1140 1075 1058]\n"
     ]
    }
   ],
   "source": [
    "## determine duplicate sources\n",
    "\n",
    "# make mask of unique soruces \n",
    "mask = np.zeros(len(idx_sep), dtype=bool)\n",
    "mask[np.unique(idx_sep, return_index=True)[1]] = True\n",
    "# apply mask to get unique sources and duplicates\n",
    "idx_sep_unique = idx_sep[mask]\n",
    "idx_sep_duplicates = idx_sep[~mask]\n",
    "# print info\n",
    "print('Number of unique:\\t', len(idx_sep_unique))\n",
    "print('Number of duplicates:\\t', len(idx_sep_duplicates))\n",
    "print('Duplicates:\\n', idx_sep_duplicates)"
   ]
  },
  {
   "cell_type": "markdown",
   "metadata": {},
   "source": [
    "# 4. Match ID"
   ]
  },
  {
   "cell_type": "code",
   "execution_count": 34,
   "metadata": {},
   "outputs": [],
   "source": [
    "# get IDs\n",
    "egs_merged_ID = egs_merged_data['ID']\n",
    "egs_merged_ID_tphotMatches = egs_merged_ID[sep_constraint]\n",
    "egs_candels_ID = egs_candels_data_byCol[EGSCAN_SOURCE]"
   ]
  },
  {
   "cell_type": "code",
   "execution_count": 35,
   "metadata": {},
   "outputs": [],
   "source": [
    "# Used to match by id (code from Connor Auge)\n",
    "def match(a, b):\n",
    "    b_set = set(b)\n",
    "    b_match = [i for i, v in enumerate(a) if v in b_set]\n",
    "    a_set = set(a)\n",
    "    a_match = [i for i, v in enumerate(b) if v in a_set]\n",
    "    a_match = np.asarray(a_match)\n",
    "    b_match = np.asarray(b_match)\n",
    "    a_match2 = np.argsort(a[b_match])\n",
    "    b_match2 = np.argsort(b[a_match])\n",
    "    return b_match[a_match2],a_match[b_match2]"
   ]
  },
  {
   "cell_type": "code",
   "execution_count": 36,
   "metadata": {},
   "outputs": [],
   "source": [
    "# match \n",
    "key_merged, key_candels = match(egs_merged_ID_tphotMatches, egs_candels_ID)\n",
    "\n",
    "# apply match key\n",
    "egs_merged_ID_tphotMatches_egsMatches = egs_merged_ID_tphotMatches[key_merged]\n",
    "egs_candels_ID_egsMatches = egs_candels_ID[key_candels]"
   ]
  },
  {
   "cell_type": "code",
   "execution_count": 37,
   "metadata": {},
   "outputs": [
    {
     "name": "stdout",
     "output_type": "stream",
     "text": [
      "1498\n",
      "1498.0\n"
     ]
    }
   ],
   "source": [
    "# test\n",
    "i=1\n",
    "print(egs_merged_ID_tphotMatches_egsMatches[i])\n",
    "print(egs_candels_ID_egsMatches[i])"
   ]
  },
  {
   "cell_type": "markdown",
   "metadata": {},
   "source": [
    "# Build Catalog"
   ]
  },
  {
   "cell_type": "code",
   "execution_count": 58,
   "metadata": {},
   "outputs": [
    {
     "name": "stdout",
     "output_type": "stream",
     "text": [
      "1661\n",
      "1661\n",
      "1661\n"
     ]
    }
   ],
   "source": [
    "# helper indexing\n",
    "tphot_i         = idx_sep\n",
    "egs_merged_i    = np.where(sep_constraint)[0]\n",
    "egs_candles_i   = key_candels\n",
    "\n",
    "# verify that all lengths match\n",
    "print(len(tphot_i))\n",
    "print(len(egs_merged_i))\n",
    "print(len(egs_candles_i))\n",
    "\n",
    "# save number of matches \n",
    "n_matches = len(tphot_i)"
   ]
  },
  {
   "cell_type": "code",
   "execution_count": 59,
   "metadata": {},
   "outputs": [
    {
     "name": "stdout",
     "output_type": "stream",
     "text": [
      "(1661, 17)\n"
     ]
    }
   ],
   "source": [
    "# convert astropy table to pandas dataframe\n",
    "tphot_df = tphot_data.to_pandas()\n",
    "# get matched sources\n",
    "tphot_df_matched = tphot_df.iloc[tphot_i]\n",
    "print(tphot_df_matched.shape) # verify shape"
   ]
  },
  {
   "cell_type": "code",
   "execution_count": 60,
   "metadata": {},
   "outputs": [
    {
     "name": "stdout",
     "output_type": "stream",
     "text": [
      "(1661, 707)\n"
     ]
    }
   ],
   "source": [
    "# convert astropy table to pandas dataframe\n",
    "egs_merged_df = egs_merged_data.to_pandas()\n",
    "# get matched sources\n",
    "egs_merged_df_matched = egs_merged_df.iloc[egs_merged_i]\n",
    "print(egs_merged_df_matched.shape) # verify shape"
   ]
  },
  {
   "cell_type": "code",
   "execution_count": 61,
   "metadata": {},
   "outputs": [
    {
     "name": "stdout",
     "output_type": "stream",
     "text": [
      "(1661, 88)\n"
     ]
    }
   ],
   "source": [
    "# convert numpy array to pandas dataframe \n",
    "egs_candels_df = pd.DataFrame(egs_candels_data_bySrc, columns=egs_candels_cols)\n",
    "egs_candels_df['Source'] = egs_candels_df['Source'].astype(int) # correct data type\n",
    "# get matched sources\n",
    "egs_candels_df_matched = egs_candels_df.iloc[egs_candles_i]\n",
    "print(egs_candels_df_matched.shape) # verify shape\n",
    "\n",
    "# # TODO fix this?\n",
    "# # these temp columns did not read from file correctly...\n",
    "# print(egs_candels_data_byCol[55])\n",
    "# print(egs_candels_df['temp_only24'])"
   ]
  },
  {
   "cell_type": "code",
   "execution_count": 65,
   "metadata": {},
   "outputs": [
    {
     "ename": "InvalidIndexError",
     "evalue": "Reindexing only valid with uniquely valued Index objects",
     "output_type": "error",
     "traceback": [
      "\u001b[1;31m---------------------------------------------------------------------------\u001b[0m",
      "\u001b[1;31mInvalidIndexError\u001b[0m                         Traceback (most recent call last)",
      "\u001b[1;32mc:\\Users\\polar\\OneDrive - The University of Kansas\\AGNerds\\AGNerds\\JWST_AGN_proj2\\CatalogMatching.ipynb Cell 25\u001b[0m in \u001b[0;36m<cell line: 1>\u001b[1;34m()\u001b[0m\n\u001b[1;32m----> <a href='vscode-notebook-cell:/c%3A/Users/polar/OneDrive%20-%20The%20University%20of%20Kansas/AGNerds/AGNerds/JWST_AGN_proj2/CatalogMatching.ipynb#X56sZmlsZQ%3D%3D?line=0'>1</a>\u001b[0m final_table \u001b[39m=\u001b[39m pd\u001b[39m.\u001b[39;49mconcat(\n\u001b[0;32m      <a href='vscode-notebook-cell:/c%3A/Users/polar/OneDrive%20-%20The%20University%20of%20Kansas/AGNerds/AGNerds/JWST_AGN_proj2/CatalogMatching.ipynb#X56sZmlsZQ%3D%3D?line=1'>2</a>\u001b[0m     [egs_merged_df_matched, egs_candels_df_matched, tphot_df_matched],\n\u001b[0;32m      <a href='vscode-notebook-cell:/c%3A/Users/polar/OneDrive%20-%20The%20University%20of%20Kansas/AGNerds/AGNerds/JWST_AGN_proj2/CatalogMatching.ipynb#X56sZmlsZQ%3D%3D?line=2'>3</a>\u001b[0m     axis\u001b[39m=\u001b[39;49m\u001b[39m1\u001b[39;49m,\n\u001b[0;32m      <a href='vscode-notebook-cell:/c%3A/Users/polar/OneDrive%20-%20The%20University%20of%20Kansas/AGNerds/AGNerds/JWST_AGN_proj2/CatalogMatching.ipynb#X56sZmlsZQ%3D%3D?line=3'>4</a>\u001b[0m     ignore_index\u001b[39m=\u001b[39;49m\u001b[39mTrue\u001b[39;49;00m,\n\u001b[0;32m      <a href='vscode-notebook-cell:/c%3A/Users/polar/OneDrive%20-%20The%20University%20of%20Kansas/AGNerds/AGNerds/JWST_AGN_proj2/CatalogMatching.ipynb#X56sZmlsZQ%3D%3D?line=4'>5</a>\u001b[0m     sort\u001b[39m=\u001b[39;49m\u001b[39mFalse\u001b[39;49;00m\n\u001b[0;32m      <a href='vscode-notebook-cell:/c%3A/Users/polar/OneDrive%20-%20The%20University%20of%20Kansas/AGNerds/AGNerds/JWST_AGN_proj2/CatalogMatching.ipynb#X56sZmlsZQ%3D%3D?line=5'>6</a>\u001b[0m     )\n",
      "File \u001b[1;32mc:\\Users\\polar\\anaconda3\\envs\\py3env\\lib\\site-packages\\pandas\\util\\_decorators.py:311\u001b[0m, in \u001b[0;36mdeprecate_nonkeyword_arguments.<locals>.decorate.<locals>.wrapper\u001b[1;34m(*args, **kwargs)\u001b[0m\n\u001b[0;32m    305\u001b[0m \u001b[39mif\u001b[39;00m \u001b[39mlen\u001b[39m(args) \u001b[39m>\u001b[39m num_allow_args:\n\u001b[0;32m    306\u001b[0m     warnings\u001b[39m.\u001b[39mwarn(\n\u001b[0;32m    307\u001b[0m         msg\u001b[39m.\u001b[39mformat(arguments\u001b[39m=\u001b[39marguments),\n\u001b[0;32m    308\u001b[0m         \u001b[39mFutureWarning\u001b[39;00m,\n\u001b[0;32m    309\u001b[0m         stacklevel\u001b[39m=\u001b[39mstacklevel,\n\u001b[0;32m    310\u001b[0m     )\n\u001b[1;32m--> 311\u001b[0m \u001b[39mreturn\u001b[39;00m func(\u001b[39m*\u001b[39margs, \u001b[39m*\u001b[39m\u001b[39m*\u001b[39mkwargs)\n",
      "File \u001b[1;32mc:\\Users\\polar\\anaconda3\\envs\\py3env\\lib\\site-packages\\pandas\\core\\reshape\\concat.py:360\u001b[0m, in \u001b[0;36mconcat\u001b[1;34m(objs, axis, join, ignore_index, keys, levels, names, verify_integrity, sort, copy)\u001b[0m\n\u001b[0;32m    156\u001b[0m \u001b[39m\"\"\"\u001b[39;00m\n\u001b[0;32m    157\u001b[0m \u001b[39mConcatenate pandas objects along a particular axis with optional set logic\u001b[39;00m\n\u001b[0;32m    158\u001b[0m \u001b[39malong the other axes.\u001b[39;00m\n\u001b[1;32m   (...)\u001b[0m\n\u001b[0;32m    345\u001b[0m \u001b[39mValueError: Indexes have overlapping values: ['a']\u001b[39;00m\n\u001b[0;32m    346\u001b[0m \u001b[39m\"\"\"\u001b[39;00m\n\u001b[0;32m    347\u001b[0m op \u001b[39m=\u001b[39m _Concatenator(\n\u001b[0;32m    348\u001b[0m     objs,\n\u001b[0;32m    349\u001b[0m     axis\u001b[39m=\u001b[39maxis,\n\u001b[1;32m   (...)\u001b[0m\n\u001b[0;32m    357\u001b[0m     sort\u001b[39m=\u001b[39msort,\n\u001b[0;32m    358\u001b[0m )\n\u001b[1;32m--> 360\u001b[0m \u001b[39mreturn\u001b[39;00m op\u001b[39m.\u001b[39;49mget_result()\n",
      "File \u001b[1;32mc:\\Users\\polar\\anaconda3\\envs\\py3env\\lib\\site-packages\\pandas\\core\\reshape\\concat.py:591\u001b[0m, in \u001b[0;36m_Concatenator.get_result\u001b[1;34m(self)\u001b[0m\n\u001b[0;32m    589\u001b[0m         obj_labels \u001b[39m=\u001b[39m obj\u001b[39m.\u001b[39maxes[\u001b[39m1\u001b[39m \u001b[39m-\u001b[39m ax]\n\u001b[0;32m    590\u001b[0m         \u001b[39mif\u001b[39;00m \u001b[39mnot\u001b[39;00m new_labels\u001b[39m.\u001b[39mequals(obj_labels):\n\u001b[1;32m--> 591\u001b[0m             indexers[ax] \u001b[39m=\u001b[39m obj_labels\u001b[39m.\u001b[39;49mget_indexer(new_labels)\n\u001b[0;32m    593\u001b[0m     mgrs_indexers\u001b[39m.\u001b[39mappend((obj\u001b[39m.\u001b[39m_mgr, indexers))\n\u001b[0;32m    595\u001b[0m new_data \u001b[39m=\u001b[39m concatenate_managers(\n\u001b[0;32m    596\u001b[0m     mgrs_indexers, \u001b[39mself\u001b[39m\u001b[39m.\u001b[39mnew_axes, concat_axis\u001b[39m=\u001b[39m\u001b[39mself\u001b[39m\u001b[39m.\u001b[39mbm_axis, copy\u001b[39m=\u001b[39m\u001b[39mself\u001b[39m\u001b[39m.\u001b[39mcopy\n\u001b[0;32m    597\u001b[0m )\n",
      "File \u001b[1;32mc:\\Users\\polar\\anaconda3\\envs\\py3env\\lib\\site-packages\\pandas\\core\\indexes\\base.py:3721\u001b[0m, in \u001b[0;36mIndex.get_indexer\u001b[1;34m(self, target, method, limit, tolerance)\u001b[0m\n\u001b[0;32m   3718\u001b[0m \u001b[39mself\u001b[39m\u001b[39m.\u001b[39m_check_indexing_method(method, limit, tolerance)\n\u001b[0;32m   3720\u001b[0m \u001b[39mif\u001b[39;00m \u001b[39mnot\u001b[39;00m \u001b[39mself\u001b[39m\u001b[39m.\u001b[39m_index_as_unique:\n\u001b[1;32m-> 3721\u001b[0m     \u001b[39mraise\u001b[39;00m InvalidIndexError(\u001b[39mself\u001b[39m\u001b[39m.\u001b[39m_requires_unique_msg)\n\u001b[0;32m   3723\u001b[0m \u001b[39mif\u001b[39;00m \u001b[39mlen\u001b[39m(target) \u001b[39m==\u001b[39m \u001b[39m0\u001b[39m:\n\u001b[0;32m   3724\u001b[0m     \u001b[39mreturn\u001b[39;00m np\u001b[39m.\u001b[39marray([], dtype\u001b[39m=\u001b[39mnp\u001b[39m.\u001b[39mintp)\n",
      "\u001b[1;31mInvalidIndexError\u001b[0m: Reindexing only valid with uniquely valued Index objects"
     ]
    }
   ],
   "source": [
    "# # TODO remove duplicate sources\n",
    "\n",
    "# final_table = pd.concat(\n",
    "#         [egs_merged_df_matched, egs_candels_df_matched, tphot_df_matched],\n",
    "#         axis=1,\n",
    "#         ignore_index=True,\n",
    "#         sort=False\n",
    "#     )"
   ]
  },
  {
   "cell_type": "code",
   "execution_count": null,
   "metadata": {},
   "outputs": [],
   "source": []
  }
 ],
 "metadata": {
  "kernelspec": {
   "display_name": "Python 3.9.12 ('py3env')",
   "language": "python",
   "name": "python3"
  },
  "language_info": {
   "codemirror_mode": {
    "name": "ipython",
    "version": 3
   },
   "file_extension": ".py",
   "mimetype": "text/x-python",
   "name": "python",
   "nbconvert_exporter": "python",
   "pygments_lexer": "ipython3",
   "version": "3.9.12"
  },
  "orig_nbformat": 4,
  "vscode": {
   "interpreter": {
    "hash": "9087279304570de5a36832bd291691fdf2a46b942e9196516ec718f5eedeadfe"
   }
  }
 },
 "nbformat": 4,
 "nbformat_minor": 2
}
