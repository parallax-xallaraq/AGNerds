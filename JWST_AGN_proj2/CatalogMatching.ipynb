{
 "cells": [
  {
   "cell_type": "code",
   "execution_count": 1,
   "metadata": {},
   "outputs": [],
   "source": [
    "# TODO\n",
    "#   1. open tphot, egs_candles, and egs_merged to read\n",
    "#   2. match RA and DEC between egs_merged and tphot\n",
    "#   3. get ID from egs_merged for matches (#2) and match to egs_candles\n",
    "#   4. make catalog with all data\n",
    "#   5. make catalog with only specific columns \n",
    "\n",
    "# note: there may be 2 matches in #2, make note of these sources. We will have to match by eye. "
   ]
  },
  {
   "cell_type": "code",
   "execution_count": 2,
   "metadata": {},
   "outputs": [],
   "source": [
    "## imports\n",
    "# astronomy\n",
    "from astropy.io import fits\n",
    "from astropy.io import ascii\n",
    "from astropy.table import Table\n",
    "from astropy.coordinates import SkyCoord\n",
    "import astropy.units as u\n",
    "# plotting\n",
    "import matplotlib.pyplot as plt\n",
    "# data \n",
    "import numpy as np\n",
    "import pandas as pd "
   ]
  },
  {
   "cell_type": "markdown",
   "metadata": {},
   "source": [
    "# 1. Read Data"
   ]
  },
  {
   "cell_type": "code",
   "execution_count": 3,
   "metadata": {},
   "outputs": [],
   "source": [
    "# file paths \n",
    "path_catalogs = 'C:\\\\Users\\\\polar\\\\OneDrive - The University of Kansas\\\\AGNerds\\\\Catalogs'"
   ]
  },
  {
   "cell_type": "code",
   "execution_count": 4,
   "metadata": {},
   "outputs": [
    {
     "name": "stdout",
     "output_type": "stream",
     "text": [
      "['field', 'ra', 'dec', 'f560w_uJy', 'f560w_uJy_err', 'f770w_uJy', 'f770w_uJy_err', 'f1000w_uJy', 'f1000w_uJy_err', 'f1280w_uJy', 'f1280w_uJy_err', 'f1500w_uJy', 'f1500w_uJy_err', 'f1800w_uJy', 'f1800w_uJy_err', 'f2100w_uJy', 'f2100w_uJy_err']\n"
     ]
    }
   ],
   "source": [
    "# open tphot\n",
    "tphot_data = ascii.read(path_catalogs+'\\\\tphot.cat')\n",
    "tphot_cols = tphot_data.colnames\n",
    "\n",
    "# show table\n",
    "# tphot_data.show_in_notebook()\n",
    "print(tphot_cols)\n",
    "\n",
    "# important columns:\n",
    "# name = 'ra'\n",
    "# name = 'dec'"
   ]
  },
  {
   "cell_type": "code",
   "execution_count": 5,
   "metadata": {},
   "outputs": [
    {
     "name": "stdout",
     "output_type": "stream",
     "text": [
      "<TableColumns names=('ID','FLUX_MAX_F606W','FLUX_MAX_F814W','FLUX_MAX_F125W','FLUX_MAX_F140W','FLUX_MAX_F160W','FLUX_MAX_F606W_08','FLUX_MAX_F814W_08','FLUX_MAX_F125W_08','FLUX_MAX_F160W_08','FLUX_ISO_F606W','FLUXERR_ISO_F606W','FLUX_ISO_F814W','FLUXERR_ISO_F814W','FLUX_ISO_F125W','FLUXERR_ISO_F125W','FLUX_ISO_F140W','FLUXERR_ISO_F140W','FLUX_ISO_F160W','FLUXERR_ISO_F160W','FLUX_ISO_F606W_08','FLUXERR_ISO_F606W_08','FLUX_ISO_F814W_08','FLUXERR_ISO_F814W_08','FLUX_ISO_F125W_08','FLUXERR_ISO_F125W_08','FLUX_ISO_F160W_08','FLUXERR_ISO_F160W_08','FLUX_ISOCOR_F606W','FLUXERR_ISOCOR_F606W','FLUX_ISOCOR_F814W','FLUXERR_ISOCOR_F814W','FLUX_ISOCOR_F125W','FLUXERR_ISOCOR_F125W','FLUX_ISOCOR_F140W','FLUXERR_ISOCOR_F140W','FLUX_ISOCOR_F160W','FLUXERR_ISOCOR_F160W','FLUX_ISOCOR_F606W_08','FLUXERR_ISOCOR_F606W_08','FLUX_ISOCOR_F814W_08','FLUXERR_ISOCOR_F814W_08','FLUX_ISOCOR_F125W_08','FLUXERR_ISOCOR_F125W_08','FLUX_ISOCOR_F160W_08','FLUXERR_ISOCOR_F160W_08','FLUX_AUTO_F606W','FLUXERR_AUTO_F606W','FLUX_AUTO_F814W','FLUXERR_AUTO_F814W','FLUX_AUTO_F125W','FLUXERR_AUTO_F125W','FLUX_AUTO_F140W','FLUXERR_AUTO_F140W','FLUX_AUTO_F160W','FLUXERR_AUTO_F160W','FLUX_AUTO_F606W_08','FLUXERR_AUTO_F606W_08','FLUX_AUTO_F814W_08','FLUXERR_AUTO_F814W_08','FLUX_AUTO_F125W_08','FLUXERR_AUTO_F125W_08','FLUX_AUTO_F160W_08','FLUXERR_AUTO_F160W_08','FLUX_PETRO_F606W','FLUXERR_PETRO_F606W','FLUX_PETRO_F814W','FLUXERR_PETRO_F814W','FLUX_PETRO_F125W','FLUXERR_PETRO_F125W','FLUX_PETRO_F140W','FLUXERR_PETRO_F140W','FLUX_PETRO_F160W','FLUXERR_PETRO_F160W','FLUX_PETRO_F606W_08','FLUXERR_PETRO_F606W_08','FLUX_PETRO_F814W_08','FLUXERR_PETRO_F814W_08','FLUX_PETRO_F125W_08','FLUXERR_PETRO_F125W_08','FLUX_PETRO_F160W_08','FLUXERR_PETRO_F160W_08','FLUX_BEST_F606W','FLUXERR_BEST_F606W','FLUX_BEST_F814W','FLUXERR_BEST_F814W','FLUX_BEST_F125W','FLUXERR_BEST_F125W','FLUX_BEST_F140W','FLUXERR_BEST_F140W','FLUX_BEST_F160W','FLUXERR_BEST_F160W','FLUX_BEST_F606W_08','FLUXERR_BEST_F606W_08','FLUX_BEST_F814W_08','FLUXERR_BEST_F814W_08','FLUX_BEST_F125W_08','FLUXERR_BEST_F125W_08','FLUX_BEST_F160W_08','FLUXERR_BEST_F160W_08','FLUX_APER_1_F606W','FLUXERR_APER_1_F606W','FLUX_APER_1_F814W','FLUXERR_APER_1_F814W','FLUX_APER_1_F125W','FLUXERR_APER_1_F125W','FLUX_APER_1_F140W','FLUXERR_APER_1_F140W','FLUX_APER_1_F160W','FLUXERR_APER_1_F160W','FLUX_APER_2_F606W','FLUXERR_APER_2_F606W','FLUX_APER_2_F814W','FLUXERR_APER_2_F814W','FLUX_APER_2_F125W','FLUXERR_APER_2_F125W','FLUX_APER_2_F140W','FLUXERR_APER_2_F140W','FLUX_APER_2_F160W','FLUXERR_APER_2_F160W','FLUX_APER_3_F606W','FLUXERR_APER_3_F606W','FLUX_APER_3_F814W','FLUXERR_APER_3_F814W','FLUX_APER_3_F125W','FLUXERR_APER_3_F125W','FLUX_APER_3_F140W','FLUXERR_APER_3_F140W','FLUX_APER_3_F160W','FLUXERR_APER_3_F160W','FLUX_APER_4_F606W','FLUXERR_APER_4_F606W','FLUX_APER_4_F814W','FLUXERR_APER_4_F814W','FLUX_APER_4_F125W','FLUXERR_APER_4_F125W','FLUX_APER_4_F140W','FLUXERR_APER_4_F140W','FLUX_APER_4_F160W','FLUXERR_APER_4_F160W','FLUX_APER_5_F606W','FLUXERR_APER_5_F606W','FLUX_APER_5_F814W','FLUXERR_APER_5_F814W','FLUX_APER_5_F125W','FLUXERR_APER_5_F125W','FLUX_APER_5_F140W','FLUXERR_APER_5_F140W','FLUX_APER_5_F160W','FLUXERR_APER_5_F160W','FLUX_APER_6_F606W','FLUXERR_APER_6_F606W','FLUX_APER_6_F814W','FLUXERR_APER_6_F814W','FLUX_APER_6_F125W','FLUXERR_APER_6_F125W','FLUX_APER_6_F140W','FLUXERR_APER_6_F140W','FLUX_APER_6_F160W','FLUXERR_APER_6_F160W','FLUX_APER_7_F606W','FLUXERR_APER_7_F606W','FLUX_APER_7_F814W','FLUXERR_APER_7_F814W','FLUX_APER_7_F125W','FLUXERR_APER_7_F125W','FLUX_APER_7_F140W','FLUXERR_APER_7_F140W','FLUX_APER_7_F160W','FLUXERR_APER_7_F160W','FLUX_APER_8_F606W','FLUXERR_APER_8_F606W','FLUX_APER_8_F814W','FLUXERR_APER_8_F814W','FLUX_APER_8_F125W','FLUXERR_APER_8_F125W','FLUX_APER_8_F140W','FLUXERR_APER_8_F140W','FLUX_APER_8_F160W','FLUXERR_APER_8_F160W','FLUX_APER_9_F606W','FLUXERR_APER_9_F606W','FLUX_APER_9_F814W','FLUXERR_APER_9_F814W','FLUX_APER_9_F125W','FLUXERR_APER_9_F125W','FLUX_APER_9_F140W','FLUXERR_APER_9_F140W','FLUX_APER_9_F160W','FLUXERR_APER_9_F160W','FLUX_APER_10_F606W','FLUXERR_APER_10_F606W','FLUX_APER_10_F814W','FLUXERR_APER_10_F814W','FLUX_APER_10_F125W','FLUXERR_APER_10_F125W','FLUX_APER_10_F140W','FLUXERR_APER_10_F140W','FLUX_APER_10_F160W','FLUXERR_APER_10_F160W','FLUX_APER_11_F606W','FLUXERR_APER_11_F606W','FLUX_APER_11_F814W','FLUXERR_APER_11_F814W','FLUX_APER_11_F125W','FLUXERR_APER_11_F125W','FLUX_APER_11_F140W','FLUXERR_APER_11_F140W','FLUX_APER_11_F160W','FLUXERR_APER_11_F160W','FLUX_APER_1_F606W_08','FLUXERR_APER_1_F606W_08','FLUX_APER_1_F814W_08','FLUXERR_APER_1_F814W_08','FLUX_APER_1_F125W_08','FLUXERR_APER_1_F125W_08','FLUX_APER_1_F160W_08','FLUXERR_APER_1_F160W_08','FLUX_APER_2_F606W_08','FLUXERR_APER_2_F606W_08','FLUX_APER_2_F814W_08','FLUXERR_APER_2_F814W_08','FLUX_APER_2_F125W_08','FLUXERR_APER_2_F125W_08','FLUX_APER_2_F160W_08','FLUXERR_APER_2_F160W_08','FLUX_APER_3_F606W_08','FLUXERR_APER_3_F606W_08','FLUX_APER_3_F814W_08','FLUXERR_APER_3_F814W_08','FLUX_APER_3_F125W_08','FLUXERR_APER_3_F125W_08','FLUX_APER_3_F160W_08','FLUXERR_APER_3_F160W_08','FLUX_APER_4_F606W_08','FLUXERR_APER_4_F606W_08','FLUX_APER_4_F814W_08','FLUXERR_APER_4_F814W_08','FLUX_APER_4_F125W_08','FLUXERR_APER_4_F125W_08','FLUX_APER_4_F160W_08','FLUXERR_APER_4_F160W_08','FLUX_APER_5_F606W_08','FLUXERR_APER_5_F606W_08','FLUX_APER_5_F814W_08','FLUXERR_APER_5_F814W_08','FLUX_APER_5_F125W_08','FLUXERR_APER_5_F125W_08','FLUX_APER_5_F160W_08','FLUXERR_APER_5_F160W_08','FLUX_APER_6_F606W_08','FLUXERR_APER_6_F606W_08','FLUX_APER_6_F814W_08','FLUXERR_APER_6_F814W_08','FLUX_APER_6_F125W_08','FLUXERR_APER_6_F125W_08','FLUX_APER_6_F160W_08','FLUXERR_APER_6_F160W_08','FLUX_APER_7_F606W_08','FLUXERR_APER_7_F606W_08','FLUX_APER_7_F814W_08','FLUXERR_APER_7_F814W_08','FLUX_APER_7_F125W_08','FLUXERR_APER_7_F125W_08','FLUX_APER_7_F160W_08','FLUXERR_APER_7_F160W_08','FLUX_APER_8_F606W_08','FLUXERR_APER_8_F606W_08','FLUX_APER_8_F814W_08','FLUXERR_APER_8_F814W_08','FLUX_APER_8_F125W_08','FLUXERR_APER_8_F125W_08','FLUX_APER_8_F160W_08','FLUXERR_APER_8_F160W_08','FLUX_APER_9_F606W_08','FLUXERR_APER_9_F606W_08','FLUX_APER_9_F814W_08','FLUXERR_APER_9_F814W_08','FLUX_APER_9_F125W_08','FLUXERR_APER_9_F125W_08','FLUX_APER_9_F160W_08','FLUXERR_APER_9_F160W_08','FLUX_APER_10_F606W_08','FLUXERR_APER_10_F606W_08','FLUX_APER_10_F814W_08','FLUXERR_APER_10_F814W_08','FLUX_APER_10_F125W_08','FLUXERR_APER_10_F125W_08','FLUX_APER_10_F160W_08','FLUXERR_APER_10_F160W_08','FLUX_APER_11_F606W_08','FLUXERR_APER_11_F606W_08','FLUX_APER_11_F814W_08','FLUXERR_APER_11_F814W_08','FLUX_APER_11_F125W_08','FLUXERR_APER_11_F125W_08','FLUX_APER_11_F160W_08','FLUXERR_APER_11_F160W_08','X_IMAGE','Y_IMAGE','XPEAK_IMAGE','YPEAK_IMAGE','XMIN_IMAGE','YMIN_IMAGE','XMAX_IMAGE','YMAX_IMAGE','X2_IMAGE','Y2_IMAGE','XY_IMAGE','CXX_IMAGE','CYY_IMAGE','CXY_IMAGE','A_IMAGE','B_IMAGE','ERRA_IMAGE','ERRB_IMAGE','THETA_IMAGE','ERRTHETA_IMAGE','ISOAREAF_IMAGE','ISOAREA_IMAGE_F606W','ISOAREA_IMAGE_F814W','ISOAREA_IMAGE_F125W','ISOAREA_IMAGE_F140W','ISOAREA_IMAGE_F160W','ISOAREA_IMAGE_F606W_08','ISOAREA_IMAGE_F814W_08','ISOAREA_IMAGE_F125W_08','ISOAREA_IMAGE_F160W_08','BACKGROUND_F606W','BACKGROUND_F814W','BACKGROUND_F125W','BACKGROUND_F140W','BACKGROUND_F160W','BACKGROUND_F606W_08','BACKGROUND_F814W_08','BACKGROUND_F125W_08','BACKGROUND_F160W_08','FLUX_RADIUS_1_F606W','FLUX_RADIUS_1_F814W','FLUX_RADIUS_1_F125W','FLUX_RADIUS_1_F140W','FLUX_RADIUS_1_F160W','FLUX_RADIUS_2_F606W','FLUX_RADIUS_2_F814W','FLUX_RADIUS_2_F125W','FLUX_RADIUS_2_F140W','FLUX_RADIUS_2_F160W','FLUX_RADIUS_3_F606W','FLUX_RADIUS_3_F814W','FLUX_RADIUS_3_F125W','FLUX_RADIUS_3_F140W','FLUX_RADIUS_3_F160W','FLUX_RADIUS_1_F606W_08','FLUX_RADIUS_1_F814W_08','FLUX_RADIUS_1_F125W_08','FLUX_RADIUS_1_F160W_08','FLUX_RADIUS_2_F606W_08','FLUX_RADIUS_2_F814W_08','FLUX_RADIUS_2_F125W_08','FLUX_RADIUS_2_F160W_08','FLUX_RADIUS_3_F606W_08','FLUX_RADIUS_3_F814W_08','FLUX_RADIUS_3_F125W_08','FLUX_RADIUS_3_F160W_08','FWHM_IMAGE_F606W','FWHM_IMAGE_F814W','FWHM_IMAGE_F125W','FWHM_IMAGE_F140W','FWHM_IMAGE_F160W','FWHM_IMAGE_F606W_08','FWHM_IMAGE_F814W_08','FWHM_IMAGE_F125W_08','FWHM_IMAGE_F160W_08','KRON_RADIUS','PETRO_RADIUS','Limiting_Magnitude_UCFHTLS','Limiting_Magnitude_GCFHTLS','Limiting_Magnitude_RCFHTLS','Limiting_Magnitude_ICFHTLS','Limiting_Magnitude_ZCFHTLS','Limiting_Magnitude_F606W','Limiting_Magnitude_F814W','Limiting_Magnitude_F125W','Limiting_Magnitude_F140W','Limiting_Magnitude_F160W','Limiting_Magnitude_WIRCAMJ','Limiting_Magnitude_WIRCAMH','Limiting_Magnitude_WIRCAMK','Limiting_Magnitude_NMBSJ1','Limiting_Magnitude_NMBSJ2','Limiting_Magnitude_NMBSJ3','Limiting_Magnitude_NMBSH1','Limiting_Magnitude_NMBSH2','Limiting_Magnitude_NMBSK','Limiting_Magnitude_CH1','Limiting_Magnitude_CH2','Limiting_Magnitude_CH3','Limiting_Magnitude_CH4','Limiting_Magnitude_F606W_v08','Limiting_Magnitude_F814W_v08','Limiting_Magnitude_F125W_v08','Limiting_Magnitude_F160W_v08','Weight_UCFHTLS','Weight_GCFHTLS','Weight_RCFHTLS','Weight_ICFHTLS','Weight_ZCFHTLS','Weight_F606W','Weight_F814W','Weight_F125W','Weight_F140W','Weight_F160W','Weight_WIRCAMJ','Weight_WIRCAMH','Weight_WIRCAMK','Weight_NMBSJ1','Weight_NMBSJ2','Weight_NMBSJ3','Weight_NMBSH1','Weight_NMBSH2','Weight_NMBSK','Weight_CH1','Weight_CH2','Weight_CH3','Weight_CH4','Weight_F606W_08','Weight_F814W_08','Weight_F125W_08','Weight_F160W_08','Covariance_UCFHTLS','Covariance_GCFHTLS','Covariance_RCFHTLS','Covariance_ICFHTLS','Covariance_ZCFHTLS','Covariance_WIRCAMJ','Covariance_WIRCAMH','Covariance_WIRCAMK','Covariance_NMBSJ1','Covariance_NMBSJ2','Covariance_NMBSJ3','Covariance_NMBSH1','Covariance_NMBSH2','Covariance_NMBSK','Covariance_CH1','Covariance_CH2','Covariance_CH3','Covariance_CH4','IAU_designation','RA','DEC','RA_Lotz2008','DEC_Lotz2008','FLAGS','CLASS_STAR','CFHT_u_FLUX','CFHT_u_FLUXERR','CFHT_g_FLUX','CFHT_g_FLUXERR','CFHT_r_FLUX','CFHT_r_FLXERR','CFHT_i_FLUX','CFHT_i_FLUXERR','CFHT_z_FLUX','CFHT_z_FLUXERR','ACS_F606W_FLUX','ACS_F606W_FLUXERR','ACS_F814W_FLUX','ACS_F814W_FLUXERR','WFC3_F125W_FLUX','WFC3_F125W_FLUXERR','WFC3_F140W_FLUX','WFC3_F140W_FLUXERR','WFC3_F160W_FLUX','WFC3_F160W_FLUXERR','WIRCAM_J_FLUX','WIRCAM_J_FLUXERR','WIRCAM_H_FLUX','WIRCAM_H_FLUXERR','WIRCAM_K_FLUX','WIRCAM_K_FLUXERR','NEWFIRM_J1_FLUX','NEWFIRM_J1_FLUXERR','NEWFIRM_J2_FLUX','NEWFIRM_J2_FLUXERR','NEWFIRM_J3_FLUX','NEWFIRM_J3_FLUXERR','NEWFIRM_H1_FLUX','NEWFIRM_H1_FLUXERR','NEWFIRM_H2_FLUX','NEWFIRM_H2_FLUXERR','NEWFIRM_K_FLUX','NEWFIRM_K_FLUXERR','IRAC_CH1_FLUX','IRAC_CH1_FLUXERR','IRAC_CH2_FLUX','IRAC_CH2_FLUXERR','IRAC_CH3_FLUX','IRAC_CH3_FLUXERR','IRAC_CH4_FLUX','IRAC_CH4_FLUXERR','ACS_F606W_V08_FLUX','ACS_F606W_V08_FLUXERR','ACS_F814W_V08_FLUX','ACS_F814W_V08_FLUXERR','WFC3_F125W_V08_FLUX','WFC3_F125W_V08_FLUXERR','WFC3_F160W_V08_FLUX','WFC3_F160W_V08_FLUXERR','IRAC_CH3_V08_FLUX','IRAC_CH3_V08_FLUXERR','DEEP_SPEC_Z','Hmag','PhotFlag','AGNflag','zphot','zspec','q_zspec','r_zspec','zbest','zphot_l68','zphot_u68','zphot_l95','zphot_u95','zAGN','M_neb_med','s_neb_med','M_med','s_med','M_14a_cons','M_11a_tau','M_6a_tau^NEB','M_13a_tau','M_12a_tau','M_6a_tau','M_2a_tau','M_15a','M_10c','M_14a_lin','M_14a_deltau','M_14a_tau','M_14a_inctau','M_14a','M_neb_med_lin','s_neb_med_lin','M_med_lin','s_med_lin','Photo_z_Median','Photo_z_Salvato','Photo_z_Mobasher','Photo_z_Finkelstein','Photo_z_Barro','Photo_z_Wiklind','Photo_z_Wuyts','Spec_z','Photo_z_lower_68','Photo_z_upper_68','Photo_z_lower_95','Photo_z_upper_95','age_2a_tau','tau_2a_tau','Av_2a_tau','SFR_2a_tau','chi2_2a_tau','age_4b','EBV_4b','age_6a_tau','tau_6a_tau','EBV_6a_tau','SFR_6a_tau','met_6a_tau','extlw_6a_tau','chi2_6a_tau','L1400_6a_tau','L2700_6a_tau','UMag_6a_tau','BMag_6a_tau','VMag_6a_tau','RMag_6a_tau','IMag_6a_tau','JMag_6a_tau','KMag_6a_tau','age_10c','SFH_10c','tau_10c','met_10c','M_l99_11a_tau','M_u99_11a_tau','age_11a_tau','SFR_11a_tau','M_l68_12a','M_u68_12a','M_l95_12a','M_u95_12a','age_12a','tau_12a','EBV_12a','met_12a','Lbol_12a','chi2_12a','age_13a_tau','tau_13a_tau','Av_13a_tau','SFR_13a_tau','chi2_13a_tau','age_14a','SFH_14a','tau_14a','EBV_14a','SFR_14a','q_14a','age_6a_tau^NEB','tau_6a_tau^NEB','EBV_6a_tau^NEB','SFR_6a_tau^NEB','met_6a_tau^NEB','extlw_6a_tau^NEB','chi2_6a_tau^NEB','L1400_6a_tau^NEB','L2700_6a_tau^NEB','UMag_6a_tau^NEB','BMag_6a_tau^NEB','VMag_6a_tau^NEB','RMag_6a_tau^NEB','IMag_6a_tau^NEB','JMag_6a_tau^NEB','KMag_6a_tau^NEB','age_6a_deltau','tau_6a_deltau','EBV_6a_deltau','SFR_6a_deltau','met_6a_deltau','extlw_6a_deltau','chi2_6a_deltau','L1400_6a_deltau','L2700_6a_deltau','UMag_6a_deltau','BMag_6a_deltau','VMag_6a_deltau','RMag_6a_deltau','IMag_6a_deltau','JMag_6a_deltau','KMag_6a_deltau','age_6a_invtau','tau_6a_invtau','EBV_6a_invtau','SFR_6a_invtau','met_6a_invtau','extlw_6a_invtau','chi2_6a_invtau','L1400_6a_invtau','L2700_6a_invtau','UMag_6a_invtau','BMag_6a_invtau','VMag_6a_invtau','RMag_6a_invtau','IMag_6a_invtau','JMag_6a_invtau','KMag_6a_invtau','age_10c^dust','SFH_10c^dust','tau_10c^dust','met_10c^dust','age_14a_const','EBV_14a_const','SFR_14a_const','q_14a_const','age_14a_lin','EBV_14a_lin','SFR_14a_lin','q_14a_lin','age_14a_deltau','tau_14a_deltau','EBV_14a_deltau','SFR_14a_deltau','q_14a_deltau','age_14a_tau','tau_14a_tau','EBV_14a_tau','SFR_14a_tau','q_14a_tau','z_best','z_flag','rest1600','rest2800','restUXbessel','restBbessel','restVbessel','restRbessel','restIbessel','restJpalomar','restHpalomar','restKpalomar','restUjohnson','restBjohnson','restVjohnson','restRjohnson','restIjohnson','restJ2mass','restH2mass','restK2mass','idx3DHST','id3DHST','sep3DHST','ebv_med','logsfr_med','ebv_iqr','logsfr_iqr')>\n"
     ]
    }
   ],
   "source": [
    "# open egs_merged \n",
    "egs_merged_data = Table.read(path_catalogs+'\\\\egs_merged_v1.1.fits')\n",
    "egs_merged_cols = egs_merged_data.columns\n",
    "\n",
    "# print all columns\n",
    "print(egs_merged_cols)\n",
    "\n",
    "# important columns:\n",
    "# name = 'ID'; format = 'K'\n",
    "# name = 'RA'; format = 'D'; unit = 'deg'\n",
    "# name = 'DEC'; format = 'D'; unit = 'deg'\n",
    "# name = 'z_best'; format = 'D'"
   ]
  },
  {
   "cell_type": "code",
   "execution_count": 6,
   "metadata": {},
   "outputs": [],
   "source": [
    "# open egs_candels \n",
    "egs_candels_data_bySrc = np.genfromtxt(path_catalogs+'\\\\egs_candels_checkage_official.ir_fitting')\n",
    "egs_candels_data_byCol = egs_candels_data_bySrc.T # transpose \n",
    "# manually type column names\n",
    "egs_candels_cols = ['Source','z','L(8-1000)','er','L(3-1100)','er','L1_1','L1_2','L1_3','L1_4','L2_1','L2_2','L2_3','L2_4','L_008','er',\n",
    "                    'L_012','er','L_015','er','L_024','er','SFR_TIR','er','SFR_008','er','SFR_012','er','SFR_015','er','SFR_024','er',\n",
    "                    'SFRonly24','SFR_R+09','SFR_R+13','SFR_E+11','er','SFR_W+11','SFR1600','SFR2800','UV_beta','A(V)','SFR1600c',\n",
    "                    'SFR2800c','A(V)e','SFR1600ce','SFR2800ce','qPAH_DL+07','Umin_DL+07','gamma_DL+07','Mdust_DL+07','temp_1','temp_2',\n",
    "                    'temp_3','temp_4','temp_only24','factor_1','factor_2','factor_3','factor_4','factor_only24','F(24)','R+09_valA',\n",
    "                    'R+09_valB','R+13_valA','R+13_valB','W+11_val','l_IRAC_58','f_IRAC_58','l_IRAC_80','f_IRAC_80','l_MIPS24','f_MIPS24',\n",
    "                    'l_MIPS70','f_MIPS70','l_PACS_100','f_PACS_100','l_PACS_160','f_PACS_160','l_SPIRE_250','f_SPIRE_250','l_SPIRE_350',\n",
    "                    'f_SPIRE_350','l_SPIRE_500','f_SPIRE_500','plot_maxy','Nfit','Nobs']\n",
    "\n",
    "# important columns (access by index)\n",
    "EGSCAN_SOURCE = 0 # Source    1"
   ]
  },
  {
   "cell_type": "markdown",
   "metadata": {},
   "source": [
    "# 2. Match RA and DEC "
   ]
  },
  {
   "cell_type": "code",
   "execution_count": 7,
   "metadata": {},
   "outputs": [],
   "source": [
    "## get RA and DEC from catalogs\n",
    "\n",
    "# get RA and DEC from tphot and make array\n",
    "tphot_RA  = np.array(tphot_data['ra'])\n",
    "tphot_DEC = np.array(tphot_data['dec'])\n",
    "# get RA and DEC from egs_merged (already an array)\n",
    "egs_merged_RA  = np.array(egs_merged_data['RA'])\n",
    "egs_merged_DEC = np.array(egs_merged_data['DEC'])\n",
    "\n",
    "# get coordinants \n",
    "tphot_coord = SkyCoord(ra=tphot_RA*u.deg, dec=tphot_DEC*u.deg)\n",
    "egs_merged_coord = SkyCoord(ra=egs_merged_RA*u.deg, dec=egs_merged_DEC*u.deg)"
   ]
  },
  {
   "cell_type": "code",
   "execution_count": 8,
   "metadata": {},
   "outputs": [
    {
     "name": "stdout",
     "output_type": "stream",
     "text": [
      "Number of tphot sources:\t 1734\n",
      "Number of egs_merged sources:\t 41457\n"
     ]
    }
   ],
   "source": [
    "print('Number of tphot sources:\\t', len(tphot_RA))\n",
    "print('Number of egs_merged sources:\\t', len(egs_merged_RA))"
   ]
  },
  {
   "cell_type": "code",
   "execution_count": 9,
   "metadata": {},
   "outputs": [
    {
     "name": "stdout",
     "output_type": "stream",
     "text": [
      "Number of matches:\t 1661\n",
      "Number of matches:\t 1661\n"
     ]
    }
   ],
   "source": [
    "## match RA and DEC between catalogs\n",
    "# DOC: https://docs.astropy.org/en/stable/coordinates/matchsep.html\n",
    "\n",
    "# idx are indices into catalog that are the closest objects to each of the coordinates in c, \n",
    "# d2d are the on-sky distances between them, and \n",
    "# d3d are the 3-dimensional distances. \n",
    "idx, d2d, d3d = egs_merged_coord.match_to_catalog_sky(tphot_coord) # idx, d2d, d3d = c.match_to_catalog_sky(catalog)\n",
    "\n",
    "# separation constraint\n",
    "max_sep = 1.0 * u.arcsec\n",
    "# max_sep = 0.5 * u.arcsec\n",
    "sep_constraint = d2d < max_sep  # use on 'c' (egs_merged_coord)\n",
    "idx_sep = idx[sep_constraint]   # use on 'catalog' (tphot)\n",
    "\n",
    "# get matches\n",
    "egs_merged_coord_matches = egs_merged_coord[sep_constraint]\n",
    "tphot_coord_matches = tphot_coord[idx_sep]\n",
    "\n",
    "# print length  \n",
    "print('Number of matches:\\t', len(egs_merged_coord_matches))\n",
    "print('Number of matches:\\t', len(tphot_coord_matches))"
   ]
  },
  {
   "cell_type": "code",
   "execution_count": 10,
   "metadata": {},
   "outputs": [
    {
     "name": "stdout",
     "output_type": "stream",
     "text": [
      "<SkyCoord (ICRS): (ra, dec) in deg\n",
      "    (215.054167, 52.89869738)>\n",
      "<SkyCoord (ICRS): (ra, dec) in deg\n",
      "    (215.054131, 52.89869)>\n"
     ]
    }
   ],
   "source": [
    "# test match\n",
    "i=12\n",
    "print(egs_merged_coord_matches[i])\n",
    "print(tphot_coord_matches[i])"
   ]
  },
  {
   "cell_type": "markdown",
   "metadata": {},
   "source": [
    "# 3. Find Duplicate Matches"
   ]
  },
  {
   "cell_type": "code",
   "execution_count": 11,
   "metadata": {},
   "outputs": [
    {
     "name": "stdout",
     "output_type": "stream",
     "text": [
      "[3 1 2 3 3 3 4 4]\n",
      "[1 2]\n",
      "[3 3 3 3 4 4]\n"
     ]
    }
   ],
   "source": [
    "# make test list \n",
    "testlist = np.array([3,1,2,3,3,3,4,4])\n",
    "print(testlist)\n",
    "\n",
    "# make mask of unique soruces \n",
    "maskt = np.zeros(len(testlist), dtype=bool)\n",
    "maskt[np.unique(testlist, return_index=True)[1]] = True\n",
    "\n",
    "# get value of duplicates \n",
    "duptestlist = np.unique(testlist[~maskt])\n",
    "# print(duptestlist)\n",
    "\n",
    "# set all non-unique sources to False \n",
    "for dup in duptestlist :\n",
    "    inst = np.where(testlist == dup)\n",
    "    maskt[inst] = False\n",
    "\n",
    "# remove duplicates\n",
    "uniquetestlist = testlist[maskt]\n",
    "print(uniquetestlist)\n",
    "\n",
    "# show duplicates\n",
    "duplicatetestlist = testlist[~maskt]\n",
    "print(duplicatetestlist)"
   ]
  },
  {
   "cell_type": "code",
   "execution_count": 12,
   "metadata": {},
   "outputs": [
    {
     "name": "stdout",
     "output_type": "stream",
     "text": [
      "Number of unique:\t 1606\n",
      "Number of duplicates:\t 55\n",
      "Duplicate sources:\n",
      " [1412 1412 1427 1427 1397 1273 1273  801  660  930  930 1389 1389  970\n",
      "  127  791  791 1279  983  771  771  942  942  973  719 1106  789 1106\n",
      " 1092 1204 1204 1140 1075   38   38   34   34 1427 1397  801  660  379\n",
      "  379  970  127 1279  983  973  719  789 1092 1140 1075 1058 1058]\n"
     ]
    }
   ],
   "source": [
    "# make mask of unique soruces \n",
    "mask = np.zeros(len(idx_sep), dtype=bool)\n",
    "mask[np.unique(idx_sep, return_index=True)[1]] = True\n",
    "\n",
    "# get value of duplicates sources \n",
    "duplicates = np.unique(idx_sep[~mask])\n",
    "\n",
    "# set all non-unique sources to False \n",
    "for dup in duplicates :\n",
    "    mask[np.where(idx_sep == dup)] = False\n",
    "\n",
    "# apply mask to get unique and duplicate sources\n",
    "idx_sep_unique = idx_sep[mask]\n",
    "idx_sep_duplicates = idx_sep[~mask]\n",
    "\n",
    "# print info\n",
    "print('Number of unique:\\t', len(idx_sep_unique))\n",
    "print('Number of duplicates:\\t', len(idx_sep_duplicates))\n",
    "print('Duplicate sources:\\n', idx_sep_duplicates)"
   ]
  },
  {
   "cell_type": "code",
   "execution_count": 13,
   "metadata": {},
   "outputs": [
    {
     "name": "stdout",
     "output_type": "stream",
     "text": [
      "Number of unique:\t 1606\n",
      "Number of duplicates:\t 55\n",
      "Duplicates:\n",
      " [ 8145  8213  9083  9116  9891 12029 12149 12519 12723 12730 12833 12999\n",
      " 13046 13688 13808 14663 14683 15291 15985 16409 16454 16515 16528 16710\n",
      " 18318 19018 19058 19070 19224 19521 19596 19795 19911 20003 20122 20378\n",
      " 20393 34656 34858 35649 35703 35878 35903 35988 36045 36528 36661 36920\n",
      " 37360 37593 37680 37791 37879 38123 38129]\n"
     ]
    }
   ],
   "source": [
    "# apply mask to egs sources\n",
    "egs_merged_i    = np.where(sep_constraint)[0]\n",
    "egs_merged_i_unique = egs_merged_i[mask]\n",
    "egs_merged_i_duplicates = egs_merged_i[~mask]\n",
    "\n",
    "# print info\n",
    "print('Number of unique:\\t', len(egs_merged_i_unique))\n",
    "print('Number of duplicates:\\t', len(egs_merged_i_duplicates))\n",
    "print('Duplicates:\\n', egs_merged_i_duplicates)"
   ]
  },
  {
   "cell_type": "code",
   "execution_count": 14,
   "metadata": {},
   "outputs": [
    {
     "name": "stdout",
     "output_type": "stream",
     "text": [
      "<SkyCoord (ICRS): (ra, dec) in deg\n",
      "    (215.06161456, 52.90150667)>\n",
      "<SkyCoord (ICRS): (ra, dec) in deg\n",
      "    (215.061606, 52.901508)>\n"
     ]
    }
   ],
   "source": [
    "# get values \n",
    "egs_merged_coord_unique = egs_merged_coord[egs_merged_i_unique]\n",
    "tphot_coord_unique = tphot_coord[idx_sep_unique]\n",
    "\n",
    "# test match\n",
    "i=1\n",
    "print(egs_merged_coord_unique[i])\n",
    "print(tphot_coord_unique[i])"
   ]
  },
  {
   "cell_type": "code",
   "execution_count": 15,
   "metadata": {},
   "outputs": [
    {
     "name": "stdout",
     "output_type": "stream",
     "text": [
      "<SkyCoord (ICRS): (ra, dec) in deg\n",
      "    (215.01528726, 52.91275212)>\n",
      "<SkyCoord (ICRS): (ra, dec) in deg\n",
      "    (215.015239, 52.912741)>\n"
     ]
    }
   ],
   "source": [
    "# get values \n",
    "egs_merged_coord_duplicates = egs_merged_coord[egs_merged_i_duplicates]\n",
    "tphot_coord_duplicates = tphot_coord[idx_sep_duplicates]\n",
    "\n",
    "# test match\n",
    "i=3\n",
    "print(egs_merged_coord_duplicates[i])\n",
    "print(tphot_coord_duplicates[i])"
   ]
  },
  {
   "cell_type": "markdown",
   "metadata": {},
   "source": [
    "# 4. Match ID"
   ]
  },
  {
   "cell_type": "code",
   "execution_count": 16,
   "metadata": {},
   "outputs": [],
   "source": [
    "# get IDs\n",
    "egs_merged_ID = egs_merged_data['ID']\n",
    "egs_merged_ID_tphotMatches = egs_merged_ID[egs_merged_i_unique]\n",
    "egs_candels_ID = egs_candels_data_byCol[EGSCAN_SOURCE]"
   ]
  },
  {
   "cell_type": "code",
   "execution_count": 17,
   "metadata": {},
   "outputs": [],
   "source": [
    "# Used to match by id (code from Connor Auge)\n",
    "def match(a, b):\n",
    "    b_set = set(b)\n",
    "    b_match = [i for i, v in enumerate(a) if v in b_set]\n",
    "    a_set = set(a)\n",
    "    a_match = [i for i, v in enumerate(b) if v in a_set]\n",
    "    a_match = np.asarray(a_match)\n",
    "    b_match = np.asarray(b_match)\n",
    "    a_match2 = np.argsort(a[b_match])\n",
    "    b_match2 = np.argsort(b[a_match])\n",
    "    return b_match[a_match2],a_match[b_match2]"
   ]
  },
  {
   "cell_type": "code",
   "execution_count": 18,
   "metadata": {},
   "outputs": [],
   "source": [
    "# match \n",
    "key_merged, key_candels = match(egs_merged_ID_tphotMatches, egs_candels_ID)\n",
    "\n",
    "# apply match key\n",
    "egs_merged_ID_tphotMatches_egsMatches = egs_merged_ID_tphotMatches[key_merged]\n",
    "egs_candels_ID_egsMatches = egs_candels_ID[key_candels]"
   ]
  },
  {
   "cell_type": "code",
   "execution_count": 19,
   "metadata": {},
   "outputs": [
    {
     "name": "stdout",
     "output_type": "stream",
     "text": [
      "1498\n",
      "1498.0\n"
     ]
    }
   ],
   "source": [
    "# test\n",
    "i=1\n",
    "print(egs_merged_ID_tphotMatches_egsMatches[i])\n",
    "print(egs_candels_ID_egsMatches[i])"
   ]
  },
  {
   "cell_type": "code",
   "execution_count": 20,
   "metadata": {},
   "outputs": [
    {
     "name": "stdout",
     "output_type": "stream",
     "text": [
      "Number of egs_merged:\t 1606\n",
      "Number of egs_candels:\t 1606\n"
     ]
    }
   ],
   "source": [
    "print('Number of egs_merged:\\t',  len(egs_merged_ID_tphotMatches_egsMatches))\n",
    "print('Number of egs_candels:\\t', len(egs_candels_ID_egsMatches))"
   ]
  },
  {
   "cell_type": "markdown",
   "metadata": {},
   "source": [
    "# Build Catalog"
   ]
  },
  {
   "cell_type": "code",
   "execution_count": 21,
   "metadata": {},
   "outputs": [
    {
     "name": "stdout",
     "output_type": "stream",
     "text": [
      "1606\n",
      "1606\n",
      "1606\n"
     ]
    }
   ],
   "source": [
    "# helper indexing\n",
    "tphot_i         = idx_sep_unique\n",
    "egs_merged_i    = egs_merged_i_unique\n",
    "egs_candles_i   = key_candels\n",
    "\n",
    "# verify that all lengths match\n",
    "print(len(tphot_i))\n",
    "print(len(egs_merged_i))\n",
    "print(len(egs_candles_i))\n",
    "\n",
    "# save number of matches \n",
    "n_matches = len(tphot_i)"
   ]
  },
  {
   "cell_type": "code",
   "execution_count": 22,
   "metadata": {},
   "outputs": [
    {
     "name": "stdout",
     "output_type": "stream",
     "text": [
      "(1606, 17)\n"
     ]
    }
   ],
   "source": [
    "# convert astropy table to pandas dataframe\n",
    "tphot_df = tphot_data.to_pandas()\n",
    "# get matched sources\n",
    "tphot_df_matched = tphot_df.iloc[tphot_i]\n",
    "print(tphot_df_matched.shape) # verify shape"
   ]
  },
  {
   "cell_type": "code",
   "execution_count": 23,
   "metadata": {},
   "outputs": [
    {
     "name": "stdout",
     "output_type": "stream",
     "text": [
      "(1606, 707)\n"
     ]
    }
   ],
   "source": [
    "# convert astropy table to pandas dataframe\n",
    "egs_merged_df = egs_merged_data.to_pandas()\n",
    "# get matched sources\n",
    "egs_merged_df_matched = egs_merged_df.iloc[egs_merged_i]\n",
    "print(egs_merged_df_matched.shape) # verify shape"
   ]
  },
  {
   "cell_type": "code",
   "execution_count": 24,
   "metadata": {},
   "outputs": [
    {
     "name": "stdout",
     "output_type": "stream",
     "text": [
      "(1606, 88)\n"
     ]
    }
   ],
   "source": [
    "# convert numpy array to pandas dataframe \n",
    "egs_candels_df = pd.DataFrame(egs_candels_data_bySrc, columns=egs_candels_cols)\n",
    "egs_candels_df['Source'] = egs_candels_df['Source'].astype(int) # correct data type\n",
    "# get matched sources\n",
    "egs_candels_df_matched = egs_candels_df.iloc[egs_candles_i]\n",
    "print(egs_candels_df_matched.shape) # verify shape\n",
    "\n",
    "# # TODO fix this?\n",
    "# # these temp columns did not read from file correctly...\n",
    "# print(egs_candels_data_byCol[55])\n",
    "# print(egs_candels_df['temp_only24'])\n",
    "# set dtype to object -- handle any data types. works now, but tricky to use values later... "
   ]
  },
  {
   "cell_type": "code",
   "execution_count": 25,
   "metadata": {},
   "outputs": [
    {
     "name": "stdout",
     "output_type": "stream",
     "text": [
      "(1606, 812)\n"
     ]
    }
   ],
   "source": [
    "# concatenate tables horizontally\n",
    "full_table = pd.concat(\n",
    "        [tphot_df_matched.reset_index(drop=True), \n",
    "        egs_merged_df_matched.reset_index(drop=True), \n",
    "        egs_candels_df_matched.reset_index(drop=True)],\n",
    "        axis=1,\n",
    "    )\n",
    "\n",
    "print(full_table.shape) # verify shape"
   ]
  },
  {
   "cell_type": "code",
   "execution_count": 31,
   "metadata": {},
   "outputs": [],
   "source": [
    "# # print col names\n",
    "# for col in full_table.columns :\n",
    "#     print(col)"
   ]
  },
  {
   "cell_type": "code",
   "execution_count": 27,
   "metadata": {},
   "outputs": [],
   "source": [
    "# output table to csv file \n",
    "full_table.to_csv('JWST_EGS_UniqueSources_AllColumns.csv', index=False)\n",
    "# NOTE columns that are not float datatype are 'nan'"
   ]
  },
  {
   "cell_type": "markdown",
   "metadata": {},
   "source": [
    "# Reduce Table"
   ]
  },
  {
   "cell_type": "code",
   "execution_count": 28,
   "metadata": {},
   "outputs": [],
   "source": [
    "wantedCols = [\n",
    "    # ========================  tphot\n",
    "    'field',                    \n",
    "    'ra', \n",
    "    'dec', \n",
    "    'f560w_uJy', \n",
    "    'f560w_uJy_err', \n",
    "    'f770w_uJy', \n",
    "    'f770w_uJy_err', \n",
    "    'f1000w_uJy', \n",
    "    'f1000w_uJy_err', \n",
    "    'f1280w_uJy', \n",
    "    'f1280w_uJy_err', \n",
    "    'f1500w_uJy', \n",
    "    'f1500w_uJy_err', \n",
    "    'f1800w_uJy', \n",
    "    'f1800w_uJy_err', \n",
    "    'f2100w_uJy', \n",
    "    'f2100w_uJy_err',\n",
    "    # ========================  egs-merged\n",
    "    'ID', \n",
    "    'z_best',\n",
    "    'zbest',   # ??? WHY TWO Z BEST?\n",
    "    'RA',\n",
    "    'DEC',\n",
    "    'IRAC_CH1_FLUX',\n",
    "    'IRAC_CH1_FLUXERR',\n",
    "    'IRAC_CH2_FLUX',\n",
    "    'IRAC_CH2_FLUXERR',\n",
    "    'IRAC_CH3_FLUX',\n",
    "    'IRAC_CH3_FLUXERR',\n",
    "    'IRAC_CH4_FLUX',\n",
    "    'IRAC_CH4_FLUXERR',\n",
    "    'IRAC_CH3_V08_FLUX',\n",
    "    'IRAC_CH3_V08_FLUXERR', \n",
    "    # ========================  egs_candles\n",
    "    'Source',                   \n",
    "    'z',\n",
    "    'l_IRAC_58',\n",
    "    'f_IRAC_58',\n",
    "    'l_IRAC_80',\n",
    "    'f_IRAC_80'\n",
    "]"
   ]
  },
  {
   "cell_type": "code",
   "execution_count": 29,
   "metadata": {},
   "outputs": [],
   "source": [
    "# make table of only wanted columns \n",
    "reduced_table = full_table[wantedCols]\n",
    "\n",
    "# print cols (test)\n",
    "# print(reduced_table.columns)"
   ]
  },
  {
   "cell_type": "code",
   "execution_count": 30,
   "metadata": {},
   "outputs": [],
   "source": [
    "# output table to csv file \n",
    "reduced_table.to_csv('JWST_EGS_UniqueSources_ReducedColumns.csv', index=False)"
   ]
  }
 ],
 "metadata": {
  "kernelspec": {
   "display_name": "Python 3.9.12 ('py3env')",
   "language": "python",
   "name": "python3"
  },
  "language_info": {
   "codemirror_mode": {
    "name": "ipython",
    "version": 3
   },
   "file_extension": ".py",
   "mimetype": "text/x-python",
   "name": "python",
   "nbconvert_exporter": "python",
   "pygments_lexer": "ipython3",
   "version": "3.9.12"
  },
  "orig_nbformat": 4,
  "vscode": {
   "interpreter": {
    "hash": "9087279304570de5a36832bd291691fdf2a46b942e9196516ec718f5eedeadfe"
   }
  }
 },
 "nbformat": 4,
 "nbformat_minor": 2
}
