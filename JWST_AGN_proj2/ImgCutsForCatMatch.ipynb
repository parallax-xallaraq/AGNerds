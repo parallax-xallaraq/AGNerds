{
 "cells": [
  {
   "cell_type": "code",
   "execution_count": 1,
   "metadata": {},
   "outputs": [],
   "source": [
    "## imports\n",
    "# astronomy\n",
    "from astropy.io import fits\n",
    "\n",
    "## file paths \n",
    "path_catalogs = 'C:\\\\Users\\\\polar\\\\OneDrive - The University of Kansas\\\\AGNerds\\\\Catalogs'"
   ]
  },
  {
   "cell_type": "code",
   "execution_count": 13,
   "metadata": {},
   "outputs": [
    {
     "name": "stdout",
     "output_type": "stream",
     "text": [
      "Filename: C:\\Users\\polar\\OneDrive - The University of Kansas\\AGNerds\\Catalogs\\ceers_miri1_f1000w_i2d.fits\n",
      "No.    Name      Ver    Type      Cards   Dimensions   Format\n",
      "  0  PRIMARY       1 PrimaryHDU     344   ()      \n",
      "  1  SCI           1 ImageHDU        75   (1500, 1500)   float32   \n",
      "  2  ERR           1 ImageHDU        10   (1500, 1500)   float32   \n",
      "  3  CON           1 ImageHDU         9   (1500, 1500)   int32   \n",
      "  4  WHT           1 ImageHDU         9   (1500, 1500)   float32   \n",
      "  5  VAR_POISSON    1 ImageHDU         9   (1500, 1500)   float32   \n",
      "  6  VAR_RNOISE    1 ImageHDU         9   (1500, 1500)   float32   \n",
      "  7  VAR_FLAT      1 ImageHDU         9   (1500, 1500)   float32   \n",
      "  8  HDRTAB        1 BinTableHDU    816   3R x 403C   [23A, 5A, 3A, 55A, 6A, 13A, 5A, 20A, 8A, 10A, 4A, L, D, D, D, D, 9A, 9A, 57A, 22A, 3A, D, 20A, D, 10A, 12A, 23A, 23A, 26A, 11A, 5A, 3A, 3A, 2A, 1A, 2A, 1A, L, 12A, 23A, 2A, 26A, 20A, 27A, 10A, K, L, L, L, L, 5A, 1A, 5A, D, D, D, D, D, D, D, D, D, D, 4A, 8A, D, D, 6A, D, D, D, D, D, D, D, 4A, D, D, D, D, D, 3A, 4A, D, D, D, D, D, D, D, D, D, K, 5A, 9A, D, D, D, D, D, D, D, D, D, 6A, D, D, K, K, D, D, K, K, D, D, K, K, K, K, K, D, D, D, D, D, D, D, D, K, K, L, L, K, K, D, D, D, D, D, D, D, 4A, K, K, K, K, K, K, D, D, D, D, 31A, D, D, K, D, K, D, D, D, D, D, D, D, D, D, D, D, D, D, D, D, D, D, 7A, 9A, D, D, D, D, D, D, D, D, D, D, D, D, D, 10A, 11A, D, D, D, D, D, D, D, D, D, D, D, D, D, D, D, D, D, D, D, D, D, D, D, D, D, D, D, D, D, K, 27A, 27A, 10A, D, D, D, D, D, D, D, 9A, 27A, D, D, D, D, D, D, D, 7A, 14A, 31A, D, D, 3A, 3A, D, 31A, 3A, 37A, D, D, 39A, 31A, 3A, 3A, 3A, 3A, 3A, D, 31A, 3A, 3A, 3A, 30A, D, 36A, 31A, 3A, 3A, D, D, 33A, D, 36A, D, 3A, D, D, 32A, 31A, 37A, D, D, D, 3A, D, D, D, D, D, D, D, D, 3A, D, D, D, D, D, 8A, D, D, D, D, D, 8A, 8A, D, D, D, D, 8A, 8A, D, 7A, 7A, D, D, 8A, 8A, D, 8A, 8A, D, D, D, 8A, D, D, 8A, 8A, 8A, D, 8A, 8A, 8A, 8A, D, D, D, D, D, D, 8A, D, D, D, 5A, D, L, 6A, D, D, D, D, 4A, D, D, D, K, D, D, D, D, D, D, 12A, 12A, D, 3A, 3A, D, D, D, D, D, D, D, D, D, D, D, D, D, D, D, D, D, 121A, D, D, D, D, D, D, K, D, D, D, D]   \n",
      "  9  ASDF          1 BinTableHDU     11   1R x 1C   [36137B]   \n"
     ]
    }
   ],
   "source": [
    "with fits.open(path_catalogs+'\\\\ceers_miri1_f1000w_i2d.fits') as inf1:\n",
    "    inf1.info()\n",
    "    head1 = inf1[0].header\n",
    "    # data1 = inf1[1].data # ???\n",
    "\n",
    "# print(repr(head1))\n"
   ]
  },
  {
   "cell_type": "code",
   "execution_count": null,
   "metadata": {},
   "outputs": [],
   "source": []
  }
 ],
 "metadata": {
  "kernelspec": {
   "display_name": "Python 3.9.12 ('py3env')",
   "language": "python",
   "name": "python3"
  },
  "language_info": {
   "codemirror_mode": {
    "name": "ipython",
    "version": 3
   },
   "file_extension": ".py",
   "mimetype": "text/x-python",
   "name": "python",
   "nbconvert_exporter": "python",
   "pygments_lexer": "ipython3",
   "version": "3.9.12"
  },
  "orig_nbformat": 4,
  "vscode": {
   "interpreter": {
    "hash": "9087279304570de5a36832bd291691fdf2a46b942e9196516ec718f5eedeadfe"
   }
  }
 },
 "nbformat": 4,
 "nbformat_minor": 2
}
