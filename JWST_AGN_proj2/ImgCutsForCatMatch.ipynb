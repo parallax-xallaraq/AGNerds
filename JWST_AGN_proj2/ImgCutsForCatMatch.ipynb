{
 "cells": [
  {
   "cell_type": "code",
   "execution_count": 1,
   "metadata": {},
   "outputs": [],
   "source": [
    "## imports\n",
    "# astronomy\n",
    "from astropy.io import fits\n",
    "\n",
    "## file paths \n",
    "path_catalogs = 'C:\\\\Users\\\\polar\\\\OneDrive - The University of Kansas\\\\AGNerds\\\\Catalogs'"
   ]
  },
  {
   "cell_type": "code",
   "execution_count": 2,
   "metadata": {},
   "outputs": [],
   "source": [
    "# # open JWST MIRI 1 file \n",
    "# with fits.open(path_catalogs+'\\\\ceers_miri1_f1000w_i2d.fits') as inf1:\n",
    "#     inf1.info()\n",
    "#     head1 = inf1[0].header\n",
    "#     data1 = inf1[1].data # 1  SCI           1 ImageHDU        75   (1500, 1500)   float32   \n",
    "# # print(repr(head1))"
   ]
  },
  {
   "cell_type": "code",
   "execution_count": 3,
   "metadata": {},
   "outputs": [],
   "source": [
    "# # open JWST MIRI 2 file \n",
    "# with fits.open(path_catalogs+'\\\\ceers_miri2_f1000w_i2d.fits') as inf2:\n",
    "#     inf2.info()\n",
    "#     head2 = inf2[0].header\n",
    "#     data2 = inf2[1].data #  1  SCI           1 ImageHDU        75   (1500, 1500)   float32   \n",
    "# # print(repr(head1))"
   ]
  },
  {
   "cell_type": "code",
   "execution_count": 4,
   "metadata": {},
   "outputs": [],
   "source": [
    "# # open JWST MIRI 2 file \n",
    "# with fits.open(path_catalogs+'\\\\egs_all_wfc3_ir_f160w_030mas_v1.9_drz.fits') as infegs:\n",
    "#     infegs.info()\n",
    "#     headegs = infegs[0].header\n",
    "#     dataegs = infegs[1].data # 0  PRIMARY       1 PrimaryHDU    4538   (81600, 25200)   float32   \n",
    "# # print(repr(head1))"
   ]
  }
 ],
 "metadata": {
  "kernelspec": {
   "display_name": "Python 3.9.12 ('py3env')",
   "language": "python",
   "name": "python3"
  },
  "language_info": {
   "codemirror_mode": {
    "name": "ipython",
    "version": 3
   },
   "file_extension": ".py",
   "mimetype": "text/x-python",
   "name": "python",
   "nbconvert_exporter": "python",
   "pygments_lexer": "ipython3",
   "version": "3.9.12"
  },
  "orig_nbformat": 4,
  "vscode": {
   "interpreter": {
    "hash": "9087279304570de5a36832bd291691fdf2a46b942e9196516ec718f5eedeadfe"
   }
  }
 },
 "nbformat": 4,
 "nbformat_minor": 2
}
