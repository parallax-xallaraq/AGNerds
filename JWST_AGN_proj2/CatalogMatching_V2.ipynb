{
 "cells": [
  {
   "cell_type": "code",
   "execution_count": 1,
   "metadata": {},
   "outputs": [],
   "source": [
    "## imports\n",
    "# astronomy\n",
    "from astropy.io import fits\n",
    "from astropy.io import ascii\n",
    "from astropy.table import Table\n",
    "from astropy.coordinates import SkyCoord\n",
    "import astropy.units as u\n",
    "# plotting\n",
    "import matplotlib.pyplot as plt\n",
    "# data \n",
    "import numpy as np\n",
    "import pandas as pd "
   ]
  },
  {
   "cell_type": "markdown",
   "metadata": {},
   "source": [
    "# Read Data"
   ]
  },
  {
   "cell_type": "code",
   "execution_count": 2,
   "metadata": {},
   "outputs": [],
   "source": [
    "# file paths \n",
    "path_catalogs = 'C:\\\\Users\\\\polar\\\\OneDrive - The University of Kansas\\\\AGNerds\\\\Catalogs'"
   ]
  },
  {
   "cell_type": "code",
   "execution_count": 3,
   "metadata": {},
   "outputs": [],
   "source": [
    "# open tphot\n",
    "tphot_data = ascii.read(path_catalogs+'\\\\tphot.cat')\n",
    "tphot_cols = tphot_data.colnames\n",
    "\n",
    "# # show table\n",
    "# tphot_data.show_in_notebook()\n",
    "# print(tphot_cols)"
   ]
  },
  {
   "cell_type": "code",
   "execution_count": 4,
   "metadata": {},
   "outputs": [],
   "source": [
    "# open EGS F22\n",
    "egs_f22_data = Table.read(path_catalogs+'\\\\EGS_F22.fits') # ??? something is wrong with the dimentsions... TODO just build new table manually \n",
    "egs_f22_cols = egs_f22_data.columns\n",
    "\n",
    "# # print all columns\n",
    "# for col in egs_f22_cols:\n",
    "#     print(col)"
   ]
  },
  {
   "cell_type": "code",
   "execution_count": 5,
   "metadata": {},
   "outputs": [],
   "source": [
    "# open EGS FIR\n",
    "egs_fir_data = Table.read(path_catalogs+'\\\\egs_FIR_photometry_catalog.fits')\n",
    "egs_fir_cols = egs_fir_data.columns\n",
    "\n",
    "# # print all columns\n",
    "# for col in egs_fir_cols:\n",
    "#     print(col)"
   ]
  },
  {
   "cell_type": "markdown",
   "metadata": {},
   "source": [
    "# Functions"
   ]
  },
  {
   "cell_type": "code",
   "execution_count": 6,
   "metadata": {},
   "outputs": [],
   "source": [
    "def RaDec_to_Coord(ra,dec):\n",
    "    return( SkyCoord(ra=ra*u.deg, dec=dec*u.deg) )"
   ]
  },
  {
   "cell_type": "code",
   "execution_count": 7,
   "metadata": {},
   "outputs": [],
   "source": [
    "def GetCoordMatches(coord_cat, coord_c, separation=1.0) : \n",
    "    # match c to catalog \n",
    "    #   idx are indices into catalog that are the closest objects to each of the coordinates in c, \n",
    "    #   d2d are the on-sky distances between them, and \n",
    "    #   d3d are the 3-dimensional distances. \n",
    "    idx, d2d, d3d = coord_c.match_to_catalog_sky(coord_cat) # idx, d2d, d3d = c.match_to_catalog_sky(catalog)\n",
    "\n",
    "    # separation constraint\n",
    "    max_sep = separation * u.arcsec\n",
    "    sep_constraint = d2d < max_sep  # use on 'c'\n",
    "    idx_sep = idx[sep_constraint]   # use on 'catalog'\n",
    "\n",
    "    # Get array of indeces \n",
    "    coordCat_matches = idx_sep\n",
    "    coordC_matches   = np.where(sep_constraint)[0]\n",
    "    \n",
    "    # return matched sources\n",
    "    return(coordCat_matches,coordC_matches)"
   ]
  },
  {
   "cell_type": "code",
   "execution_count": 8,
   "metadata": {},
   "outputs": [],
   "source": [
    "def TestCoord(c1,c2,i):\n",
    "    print('Coordinant 1: ', c1[i]) \n",
    "    print('Coordinant 2: ', c2[i])"
   ]
  },
  {
   "cell_type": "code",
   "execution_count": 9,
   "metadata": {},
   "outputs": [],
   "source": [
    "def GetDuplicatesMask(arr): \n",
    "    # make mask of unique soruces \n",
    "    mask = np.zeros(len(arr), dtype=bool)\n",
    "    mask[np.unique(arr, return_index=True)[1]] = True\n",
    "    # get value of duplicates sources \n",
    "    duplicates = np.unique(arr[~mask])\n",
    "    # set all non-unique sources to False \n",
    "    for dup in duplicates :\n",
    "        mask[np.where(arr == dup)] = False\n",
    "    # return boolean mask of length(arr) that is True for a value that occurs more than once\n",
    "    return(mask)"
   ]
  },
  {
   "cell_type": "markdown",
   "metadata": {},
   "source": [
    "# Match EGS catalogs using RA/DEC"
   ]
  },
  {
   "cell_type": "code",
   "execution_count": 10,
   "metadata": {},
   "outputs": [
    {
     "name": "stdout",
     "output_type": "stream",
     "text": [
      "Number of EGS f22 sources:\t 66783\n",
      "Number of EGS fir sources:\t 41656\n"
     ]
    }
   ],
   "source": [
    "# Get EGS coordinants\n",
    "egs_f22_coord = RaDec_to_Coord(np.array(egs_f22_data['RA'])[0], np.array(egs_f22_data['DEC'])[0])\n",
    "egs_fir_coord = RaDec_to_Coord(np.array(egs_fir_data['RA']),    np.array(egs_fir_data['Decl'])  )\n",
    "\n",
    "# print info\n",
    "print('Number of EGS f22 sources:\\t', len(egs_f22_coord))\n",
    "print('Number of EGS fir sources:\\t', len(egs_fir_coord))"
   ]
  },
  {
   "cell_type": "code",
   "execution_count": 11,
   "metadata": {},
   "outputs": [
    {
     "name": "stdout",
     "output_type": "stream",
     "text": [
      "Number of egsF22 matches:\t 40850\n",
      "Number of egsFIR matches:\t 40850\n"
     ]
    }
   ],
   "source": [
    "# match \n",
    "egs_f22_toFIR_match, egs_fir_toF22_match = GetCoordMatches(egs_f22_coord,egs_fir_coord)\n",
    "\n",
    "# get matches\n",
    "egs_f22_coord_matches = egs_f22_coord[egs_f22_toFIR_match]\n",
    "egs_fir_coord_matches = egs_fir_coord[egs_fir_toF22_match]\n",
    "\n",
    "# print info \n",
    "print('Number of egsF22 matches:\\t',  len(egs_f22_coord_matches))\n",
    "print('Number of egsFIR matches:\\t',  len(egs_fir_coord_matches))"
   ]
  },
  {
   "cell_type": "code",
   "execution_count": 12,
   "metadata": {},
   "outputs": [
    {
     "name": "stdout",
     "output_type": "stream",
     "text": [
      "Coordinant 1:  <SkyCoord (ICRS): (ra, dec) in deg\n",
      "    (215.267114, 53.027554)>\n",
      "Coordinant 2:  <SkyCoord (ICRS): (ra, dec) in deg\n",
      "    (215.26714, 53.02755)>\n"
     ]
    }
   ],
   "source": [
    "TestCoord(egs_f22_coord_matches,egs_fir_coord_matches,1)"
   ]
  },
  {
   "cell_type": "markdown",
   "metadata": {},
   "source": [
    "# Get Unique sources from EGS"
   ]
  },
  {
   "cell_type": "code",
   "execution_count": 13,
   "metadata": {},
   "outputs": [],
   "source": [
    "# get mask of egs objects that occur more than once \n",
    "egs_duplicatesMask = GetDuplicatesMask(egs_f22_toFIR_match)"
   ]
  },
  {
   "cell_type": "code",
   "execution_count": 14,
   "metadata": {},
   "outputs": [],
   "source": [
    "# apply mask to get unique and duplicate sources\n",
    "egs_f22_unique_i     = egs_f22_toFIR_match[egs_duplicatesMask]\n",
    "egs_f22_duplicates_i = egs_f22_toFIR_match[~egs_duplicatesMask]\n",
    "# apply mask to get unique and duplicate sources\n",
    "egs_fir_unique_i     = egs_fir_toF22_match[egs_duplicatesMask]\n",
    "egs_fir_duplicates_i = egs_fir_toF22_match[~egs_duplicatesMask]"
   ]
  },
  {
   "cell_type": "code",
   "execution_count": 15,
   "metadata": {},
   "outputs": [
    {
     "name": "stdout",
     "output_type": "stream",
     "text": [
      "Number of unique:\t 40571\n",
      "Number of duplicates:\t 279\n"
     ]
    }
   ],
   "source": [
    "# print info\n",
    "print('Number of unique:\\t', len(egs_f22_unique_i))\n",
    "print('Number of duplicates:\\t', len(egs_f22_duplicates_i))"
   ]
  },
  {
   "cell_type": "markdown",
   "metadata": {},
   "source": [
    "# Match tphot to EGS f22 using RA/DEC"
   ]
  },
  {
   "cell_type": "code",
   "execution_count": 16,
   "metadata": {},
   "outputs": [
    {
     "name": "stdout",
     "output_type": "stream",
     "text": [
      "Number of tphot sources:\t 1734\n",
      "Number of egs sources:\t\t 40571\n"
     ]
    }
   ],
   "source": [
    "# get coordinants\n",
    "tphot_coord = RaDec_to_Coord(np.array(tphot_data['ra']), np.array(tphot_data['dec']) )\n",
    "egs_coord   = RaDec_to_Coord(np.array(egs_f22_data['RA'] )[0][egs_f22_unique_i], np.array(egs_f22_data['DEC'])[0][egs_f22_unique_i])\n",
    "\n",
    "# print info \n",
    "print('Number of tphot sources:\\t', len(tphot_coord))\n",
    "print('Number of egs sources:\\t\\t',   len(egs_coord))"
   ]
  },
  {
   "cell_type": "code",
   "execution_count": 17,
   "metadata": {},
   "outputs": [
    {
     "name": "stdout",
     "output_type": "stream",
     "text": [
      "Number of tphot matches:\t 1655\n",
      "Number of EGS matches:\t\t 1655\n"
     ]
    }
   ],
   "source": [
    "# match \n",
    "tphot_toEGS_match, egs_toTphot_match = GetCoordMatches(tphot_coord,egs_coord)\n",
    "\n",
    "# get matches\n",
    "tphot_coord_matches = tphot_coord[tphot_toEGS_match]\n",
    "egs_coord_matches = egs_coord[egs_toTphot_match]\n",
    "\n",
    "# print length  \n",
    "print('Number of tphot matches:\\t', len(tphot_coord_matches))\n",
    "print('Number of EGS matches:\\t\\t', len(egs_coord_matches))"
   ]
  },
  {
   "cell_type": "code",
   "execution_count": 18,
   "metadata": {},
   "outputs": [
    {
     "name": "stdout",
     "output_type": "stream",
     "text": [
      "Coordinant 1:  <SkyCoord (ICRS): (ra, dec) in deg\n",
      "    (215.061606, 52.901508)>\n",
      "Coordinant 2:  <SkyCoord (ICRS): (ra, dec) in deg\n",
      "    (215.061586, 52.901517)>\n"
     ]
    }
   ],
   "source": [
    "TestCoord(tphot_coord_matches,egs_coord_matches,1)"
   ]
  },
  {
   "cell_type": "markdown",
   "metadata": {},
   "source": [
    "# Find Duplicate RA/DEC Matches"
   ]
  },
  {
   "cell_type": "code",
   "execution_count": 19,
   "metadata": {},
   "outputs": [],
   "source": [
    "# get mask of tphot objects that occur more than once \n",
    "tphot_duplicateMask = GetDuplicatesMask(tphot_toEGS_match)"
   ]
  },
  {
   "cell_type": "code",
   "execution_count": 20,
   "metadata": {},
   "outputs": [],
   "source": [
    "# apply mask to get unique and duplicate sources\n",
    "tphot_unique_i     = tphot_toEGS_match[tphot_duplicateMask]\n",
    "tphot_duplicates_i = tphot_toEGS_match[~tphot_duplicateMask]\n",
    "# apply mask to get unique and duplicate sources\n",
    "egs_unique_i       = egs_toTphot_match[tphot_duplicateMask]\n",
    "egs_duplicates_i   = egs_toTphot_match[~tphot_duplicateMask]"
   ]
  },
  {
   "cell_type": "code",
   "execution_count": 21,
   "metadata": {},
   "outputs": [
    {
     "name": "stdout",
     "output_type": "stream",
     "text": [
      "Number of unique:\t 1608\n",
      "Number of duplicates:\t 47\n"
     ]
    }
   ],
   "source": [
    "# print info\n",
    "print('Number of unique:\\t', len(egs_unique_i))\n",
    "print('Number of duplicates:\\t', len(egs_duplicates_i))"
   ]
  },
  {
   "cell_type": "code",
   "execution_count": 22,
   "metadata": {},
   "outputs": [
    {
     "name": "stdout",
     "output_type": "stream",
     "text": [
      "Coordinant 1:  <SkyCoord (ICRS): (ra, dec) in deg\n",
      "    (215.061606, 52.901508)>\n",
      "Coordinant 2:  <SkyCoord (ICRS): (ra, dec) in deg\n",
      "    (215.061586, 52.901517)>\n"
     ]
    }
   ],
   "source": [
    "# get coord values \n",
    "tphot_coord_unique = tphot_coord[tphot_unique_i]\n",
    "egs_coord_unique = egs_coord[egs_unique_i]\n",
    "TestCoord(tphot_coord_unique,egs_coord_unique,1)"
   ]
  },
  {
   "cell_type": "markdown",
   "metadata": {},
   "source": [
    "# Build Catalog"
   ]
  },
  {
   "cell_type": "code",
   "execution_count": 26,
   "metadata": {},
   "outputs": [
    {
     "name": "stdout",
     "output_type": "stream",
     "text": [
      "1608\n",
      "1608\n",
      "1608\n"
     ]
    }
   ],
   "source": [
    "# helper indexing\n",
    "tphot_i     = tphot_unique_i\n",
    "egs_f22_i   = egs_f22_unique_i[egs_unique_i] \n",
    "egs_fir_i   = egs_fir_unique_i[egs_unique_i]\n",
    "\n",
    "# verify that all lengths match\n",
    "print(len(tphot_i))\n",
    "print(len(egs_f22_i))\n",
    "print(len(egs_fir_i))\n",
    "\n",
    "# save number of matches \n",
    "n_matches = len(tphot_i)"
   ]
  },
  {
   "cell_type": "code",
   "execution_count": 25,
   "metadata": {},
   "outputs": [],
   "source": [
    "# # convert astropy table to pandas dataframe\n",
    "# tphot_df   = tphot_data.to_pandas()\n",
    "# egs_f22_df = egs_f22_data.to_pandas() # ??? busted... TODO build table by processing columns individually \n",
    "# egs_fir_df = egs_fir_data.to_pandas()\n",
    "\n",
    "# # setup table with column names \n",
    "# # populate table row by row\n"
   ]
  }
 ],
 "metadata": {
  "kernelspec": {
   "display_name": "Python 3.9.12 ('py3env')",
   "language": "python",
   "name": "python3"
  },
  "language_info": {
   "codemirror_mode": {
    "name": "ipython",
    "version": 3
   },
   "file_extension": ".py",
   "mimetype": "text/x-python",
   "name": "python",
   "nbconvert_exporter": "python",
   "pygments_lexer": "ipython3",
   "version": "3.9.12"
  },
  "orig_nbformat": 4,
  "vscode": {
   "interpreter": {
    "hash": "9087279304570de5a36832bd291691fdf2a46b942e9196516ec718f5eedeadfe"
   }
  }
 },
 "nbformat": 4,
 "nbformat_minor": 2
}
