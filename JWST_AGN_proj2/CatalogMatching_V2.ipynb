{
 "cells": [
  {
   "cell_type": "code",
   "execution_count": 1,
   "metadata": {},
   "outputs": [],
   "source": [
    "## imports\n",
    "# astronomy\n",
    "from astropy.io import fits\n",
    "from astropy.io import ascii\n",
    "from astropy.table import Table\n",
    "from astropy.coordinates import SkyCoord\n",
    "import astropy.units as u\n",
    "# plotting\n",
    "import matplotlib.pyplot as plt\n",
    "# data \n",
    "import numpy as np\n",
    "import pandas as pd "
   ]
  },
  {
   "cell_type": "markdown",
   "metadata": {},
   "source": [
    "# 1. Read Data"
   ]
  },
  {
   "cell_type": "code",
   "execution_count": 2,
   "metadata": {},
   "outputs": [],
   "source": [
    "# file paths \n",
    "path_catalogs = 'C:\\\\Users\\\\polar\\\\OneDrive - The University of Kansas\\\\AGNerds\\\\Catalogs'"
   ]
  },
  {
   "cell_type": "code",
   "execution_count": 3,
   "metadata": {},
   "outputs": [
    {
     "name": "stdout",
     "output_type": "stream",
     "text": [
      "['field', 'ra', 'dec', 'f560w_uJy', 'f560w_uJy_err', 'f770w_uJy', 'f770w_uJy_err', 'f1000w_uJy', 'f1000w_uJy_err', 'f1280w_uJy', 'f1280w_uJy_err', 'f1500w_uJy', 'f1500w_uJy_err', 'f1800w_uJy', 'f1800w_uJy_err', 'f2100w_uJy', 'f2100w_uJy_err']\n"
     ]
    }
   ],
   "source": [
    "# open tphot\n",
    "tphot_data = ascii.read(path_catalogs+'\\\\tphot.cat')\n",
    "tphot_cols = tphot_data.colnames\n",
    "\n",
    "# # show table\n",
    "# tphot_data.show_in_notebook()\n",
    "print(tphot_cols)"
   ]
  },
  {
   "cell_type": "code",
   "execution_count": 34,
   "metadata": {},
   "outputs": [],
   "source": [
    "# open EGS F22\n",
    "egs_f22_data = Table.read(path_catalogs+'\\\\EGS_F22.fits') # ??? something is wrong with the dimentsions... TODO just build new table manually \n",
    "egs_f22_cols = egs_f22_data.columns\n",
    "\n",
    "# # print all columns\n",
    "# for col in egs_f22_cols:\n",
    "#     print(col)"
   ]
  },
  {
   "cell_type": "code",
   "execution_count": 37,
   "metadata": {},
   "outputs": [],
   "source": [
    "# print(egs_f22_data)\n",
    "# print('\\n\\n')\n",
    "# print(egs_f22_data[0])"
   ]
  },
  {
   "cell_type": "code",
   "execution_count": 5,
   "metadata": {},
   "outputs": [],
   "source": [
    "# open EGS FIR\n",
    "egs_fir_data = Table.read(path_catalogs+'\\\\egs_FIR_photometry_catalog.fits')\n",
    "egs_fir_cols = egs_fir_data.columns\n",
    "\n",
    "# # print all columns\n",
    "# for col in egs_fir_cols:\n",
    "#     print(col)"
   ]
  },
  {
   "cell_type": "markdown",
   "metadata": {},
   "source": [
    "# 2. Match EGS catalogs using RA/DEC"
   ]
  },
  {
   "cell_type": "code",
   "execution_count": 6,
   "metadata": {},
   "outputs": [],
   "source": [
    "# Get RA/DEC\n",
    "egs_f22_RA  = np.array(egs_f22_data['RA']  )[0]\n",
    "egs_f22_DEC = np.array(egs_f22_data['DEC'] )[0]\n",
    "egs_fir_RA  = np.array(egs_fir_data['RA']  )\n",
    "egs_fir_DEC = np.array(egs_fir_data['Decl'])"
   ]
  },
  {
   "cell_type": "code",
   "execution_count": 7,
   "metadata": {},
   "outputs": [],
   "source": [
    "# get coordinants \n",
    "egs_f22_coord = SkyCoord(ra=egs_f22_RA*u.deg, dec=egs_f22_DEC*u.deg)\n",
    "egs_fir_coord = SkyCoord(ra=egs_fir_RA*u.deg, dec=egs_fir_DEC*u.deg)"
   ]
  },
  {
   "cell_type": "code",
   "execution_count": 8,
   "metadata": {},
   "outputs": [
    {
     "name": "stdout",
     "output_type": "stream",
     "text": [
      "Number of EGS f22 sources:\t 66783\n",
      "Number of EGS fir sources:\t 41656\n"
     ]
    }
   ],
   "source": [
    "print('Number of EGS f22 sources:\\t', len(egs_f22_RA))\n",
    "print('Number of EGS fir sources:\\t', len(egs_fir_RA))"
   ]
  },
  {
   "cell_type": "code",
   "execution_count": 9,
   "metadata": {},
   "outputs": [
    {
     "name": "stdout",
     "output_type": "stream",
     "text": [
      "Number of matches:\t 40850\n",
      "Number of matches:\t 40850\n"
     ]
    }
   ],
   "source": [
    "# idx are indices into catalog that are the closest objects to each of the coordinates in c, \n",
    "# d2d are the on-sky distances between them, and \n",
    "# d3d are the 3-dimensional distances. \n",
    "idx, d2d, d3d = egs_fir_coord.match_to_catalog_sky(egs_f22_coord) # idx, d2d, d3d = c.match_to_catalog_sky(catalog)\n",
    "\n",
    "# separation constraint\n",
    "egs_max_sep = 1.0 * u.arcsec\n",
    "egs_sep_constraint = d2d < egs_max_sep  # use on 'c' (egs_fir_coord)\n",
    "egs_idx_sep = idx[egs_sep_constraint]   # use on 'catalog' (egs_f22_coord)\n",
    "\n",
    "# get matches\n",
    "egs_f22_coord_matches = egs_f22_coord[egs_idx_sep]\n",
    "egs_fir_coord_matches = egs_fir_coord[egs_sep_constraint]\n",
    "\n",
    "# print length  \n",
    "print('Number of matches:\\t', len(egs_f22_coord_matches))\n",
    "print('Number of matches:\\t', len(egs_fir_coord_matches))"
   ]
  },
  {
   "cell_type": "code",
   "execution_count": 10,
   "metadata": {},
   "outputs": [
    {
     "name": "stdout",
     "output_type": "stream",
     "text": [
      "<SkyCoord (ICRS): (ra, dec) in deg\n",
      "    (215.278675, 53.035885)>\n",
      "<SkyCoord (ICRS): (ra, dec) in deg\n",
      "    (215.27872, 53.03587)>\n"
     ]
    }
   ],
   "source": [
    "# test match\n",
    "i=4\n",
    "print(egs_f22_coord_matches[i])\n",
    "print(egs_fir_coord_matches[i])"
   ]
  },
  {
   "cell_type": "code",
   "execution_count": 11,
   "metadata": {},
   "outputs": [
    {
     "name": "stdout",
     "output_type": "stream",
     "text": [
      "Number of unique:\t 40571\n",
      "Number of duplicates:\t 279\n"
     ]
    }
   ],
   "source": [
    "# TEST IF THERE ARE DUPLICATES BETWEEN CATALOGS\n",
    "\n",
    "# make mask of unique soruces \n",
    "mask = np.zeros(len(egs_idx_sep), dtype=bool)\n",
    "mask[np.unique(egs_idx_sep, return_index=True)[1]] = True\n",
    "\n",
    "# get value of duplicates sources \n",
    "duplicates = np.unique(egs_idx_sep[~mask])\n",
    "\n",
    "# set all non-unique sources to False \n",
    "for dup in duplicates :\n",
    "    mask[np.where(egs_idx_sep == dup)] = False\n",
    "\n",
    "# apply mask to get unique and duplicate sources\n",
    "idx_sep_unique = egs_idx_sep[mask]\n",
    "idx_sep_duplicates = egs_idx_sep[~mask]\n",
    "\n",
    "# print info\n",
    "print('Number of unique:\\t',        len(idx_sep_unique))\n",
    "print('Number of duplicates:\\t',    len(idx_sep_duplicates))    # ??? TODO just exclude these sorces...(keep list of them though)\n",
    "# print('Duplicate sources:\\n',       idx_sep_duplicates)"
   ]
  },
  {
   "cell_type": "markdown",
   "metadata": {},
   "source": [
    "# 3. Match tphot to EGS f22 using RA/DEC"
   ]
  },
  {
   "cell_type": "code",
   "execution_count": 12,
   "metadata": {},
   "outputs": [],
   "source": [
    "## get RA and DEC from catalogs\n",
    "\n",
    "# get RA and DEC from tphot and make array\n",
    "tphot_RA  = np.array(tphot_data['ra'])\n",
    "tphot_DEC = np.array(tphot_data['dec'])\n",
    "# get RA and DEC from egs_f22 \n",
    "egs_f22_RA  = np.array(egs_f22_data['RA'] )[0][egs_idx_sep]\n",
    "egs_f22_DEC = np.array(egs_f22_data['DEC'])[0][egs_idx_sep]\n",
    "\n",
    "# get coordinants \n",
    "tphot_coord = SkyCoord(ra=tphot_RA*u.deg, dec=tphot_DEC*u.deg)\n",
    "egs_f22_coord = SkyCoord(ra=egs_f22_RA*u.deg, dec=egs_f22_DEC*u.deg)"
   ]
  },
  {
   "cell_type": "code",
   "execution_count": 13,
   "metadata": {},
   "outputs": [
    {
     "name": "stdout",
     "output_type": "stream",
     "text": [
      "Number of tphot sources:\t 1734\n",
      "Number of egs_f22 sources:\t 40850\n"
     ]
    }
   ],
   "source": [
    "print('Number of tphot sources:\\t', len(tphot_RA))\n",
    "print('Number of egs_f22 sources:\\t', len(egs_f22_RA))"
   ]
  },
  {
   "cell_type": "code",
   "execution_count": 14,
   "metadata": {},
   "outputs": [
    {
     "name": "stdout",
     "output_type": "stream",
     "text": [
      "Number of matches:\t 1659\n",
      "Number of matches:\t 1659\n"
     ]
    }
   ],
   "source": [
    "## match RA and DEC between catalogs\n",
    "# DOC: https://docs.astropy.org/en/stable/coordinates/matchsep.html\n",
    "\n",
    "# idx are indices into catalog that are the closest objects to each of the coordinates in c, \n",
    "# d2d are the on-sky distances between them, and \n",
    "# d3d are the 3-dimensional distances. \n",
    "idx, d2d, d3d = egs_f22_coord.match_to_catalog_sky(tphot_coord) # idx, d2d, d3d = c.match_to_catalog_sky(catalog)\n",
    "\n",
    "# separation constraint\n",
    "max_sep = 1.0 * u.arcsec\n",
    "# max_sep = 0.5 * u.arcsec\n",
    "sep_constraint = d2d < max_sep  # use on 'c' (egs_f22_coord)\n",
    "idx_sep = idx[sep_constraint]   # use on 'catalog' (tphot)\n",
    "\n",
    "# get matches\n",
    "egs_f22_coord_matches = egs_f22_coord[sep_constraint]\n",
    "tphot_coord_matches = tphot_coord[idx_sep]\n",
    "\n",
    "# print length  \n",
    "print('Number of matches:\\t', len(egs_f22_coord_matches))\n",
    "print('Number of matches:\\t', len(tphot_coord_matches))"
   ]
  },
  {
   "cell_type": "code",
   "execution_count": 15,
   "metadata": {},
   "outputs": [
    {
     "name": "stdout",
     "output_type": "stream",
     "text": [
      "<SkyCoord (ICRS): (ra, dec) in deg\n",
      "    (215.054121, 52.898698)>\n",
      "<SkyCoord (ICRS): (ra, dec) in deg\n",
      "    (215.054131, 52.89869)>\n"
     ]
    }
   ],
   "source": [
    "# test match\n",
    "i=12\n",
    "print(egs_f22_coord_matches[i])\n",
    "print(tphot_coord_matches[i])"
   ]
  },
  {
   "cell_type": "markdown",
   "metadata": {},
   "source": [
    "# 4. Find Duplicate RA/DEC Matches"
   ]
  },
  {
   "cell_type": "code",
   "execution_count": 16,
   "metadata": {},
   "outputs": [
    {
     "name": "stdout",
     "output_type": "stream",
     "text": [
      "Number of unique:\t 1608\n",
      "Number of duplicates:\t 51\n"
     ]
    }
   ],
   "source": [
    "# make mask of unique soruces \n",
    "mask = np.zeros(len(idx_sep), dtype=bool)\n",
    "mask[np.unique(idx_sep, return_index=True)[1]] = True\n",
    "\n",
    "# get value of duplicates sources \n",
    "duplicates = np.unique(idx_sep[~mask])\n",
    "\n",
    "# set all non-unique sources to False \n",
    "for dup in duplicates :\n",
    "    mask[np.where(idx_sep == dup)] = False\n",
    "\n",
    "# apply mask to get unique and duplicate sources\n",
    "idx_sep_unique = idx_sep[mask]\n",
    "idx_sep_duplicates = idx_sep[~mask]\n",
    "\n",
    "# print info\n",
    "print('Number of unique:\\t',        len(idx_sep_unique))\n",
    "print('Number of duplicates:\\t',    len(idx_sep_duplicates))\n",
    "# print('Duplicate sources:\\n',       idx_sep_duplicates)"
   ]
  },
  {
   "cell_type": "code",
   "execution_count": 17,
   "metadata": {},
   "outputs": [
    {
     "name": "stdout",
     "output_type": "stream",
     "text": [
      "Number of unique:\t 1608\n",
      "Number of duplicates:\t 51\n"
     ]
    }
   ],
   "source": [
    "# apply mask to egs sources\n",
    "egs_f22_i    = np.where(sep_constraint)[0]\n",
    "egs_f22_i_unique = egs_f22_i[mask]\n",
    "egs_f22_i_duplicates = egs_f22_i[~mask]\n",
    "\n",
    "# print info\n",
    "print('Number of unique:\\t', len(egs_f22_i_unique))\n",
    "print('Number of duplicates:\\t', len(egs_f22_i_duplicates))\n",
    "# print('Duplicates:\\n', egs_f22_i_duplicates)"
   ]
  },
  {
   "cell_type": "code",
   "execution_count": 18,
   "metadata": {},
   "outputs": [
    {
     "name": "stdout",
     "output_type": "stream",
     "text": [
      "<SkyCoord (ICRS): (ra, dec) in deg\n",
      "    (215.061586, 52.901517)>\n",
      "<SkyCoord (ICRS): (ra, dec) in deg\n",
      "    (215.061606, 52.901508)>\n"
     ]
    }
   ],
   "source": [
    "# get values \n",
    "egs_f22_coord_unique = egs_f22_coord[egs_f22_i_unique]\n",
    "tphot_coord_unique = tphot_coord[idx_sep_unique]\n",
    "\n",
    "# test match\n",
    "i=1\n",
    "print(egs_f22_coord_unique[i])\n",
    "print(tphot_coord_unique[i])"
   ]
  },
  {
   "cell_type": "code",
   "execution_count": 19,
   "metadata": {},
   "outputs": [
    {
     "name": "stdout",
     "output_type": "stream",
     "text": [
      "<SkyCoord (ICRS): (ra, dec) in deg\n",
      "    (215.015158, 52.9125)>\n",
      "<SkyCoord (ICRS): (ra, dec) in deg\n",
      "    (215.015239, 52.912741)>\n"
     ]
    }
   ],
   "source": [
    "# get values \n",
    "egs_f22_coord_duplicates = egs_f22_coord[egs_f22_i_duplicates]\n",
    "tphot_coord_duplicates = tphot_coord[idx_sep_duplicates]\n",
    "\n",
    "# test match\n",
    "i=3\n",
    "print(egs_f22_coord_duplicates[i])\n",
    "print(tphot_coord_duplicates[i])"
   ]
  },
  {
   "cell_type": "markdown",
   "metadata": {},
   "source": [
    "# 5. Build Catalog"
   ]
  },
  {
   "cell_type": "code",
   "execution_count": 20,
   "metadata": {},
   "outputs": [
    {
     "name": "stdout",
     "output_type": "stream",
     "text": [
      "1608\n",
      "1608\n",
      "1608\n"
     ]
    }
   ],
   "source": [
    "# helper indexing\n",
    "tphot_i     = idx_sep_unique\n",
    "egs_f22_i   = egs_idx_sep[egs_f22_i_unique] \n",
    "egs_fir_i   = egs_sep_constraint[egs_f22_i_unique]\n",
    "\n",
    "# verify that all lengths match\n",
    "print(len(tphot_i))\n",
    "print(len(egs_f22_i))\n",
    "print(len(egs_fir_i))\n",
    "\n",
    "# save number of matches \n",
    "n_matches = len(tphot_i)"
   ]
  },
  {
   "cell_type": "code",
   "execution_count": 21,
   "metadata": {},
   "outputs": [
    {
     "name": "stdout",
     "output_type": "stream",
     "text": [
      "<class 'astropy.table.table.Table'>\n",
      "<class 'astropy.table.table.Table'>\n",
      "<class 'astropy.table.table.Table'>\n"
     ]
    }
   ],
   "source": [
    "print(type(tphot_data))\n",
    "print(type(egs_f22_data))\n",
    "print(type(egs_fir_data))"
   ]
  },
  {
   "cell_type": "code",
   "execution_count": 22,
   "metadata": {},
   "outputs": [
    {
     "ename": "ValueError",
     "evalue": "Cannot convert a table with multidimensional columns to a pandas DataFrame. Offending columns are: ['ID', 'RA', 'DEC', 'CANDELS_RA', 'CANDELS_DEC', 'F606W', 'F814W', 'F105W', 'F125W', 'F140W', 'F160W', 'F36', 'F45', 'DF606W', 'DF814W', 'DF105W', 'DF125W', 'DF140W', 'DF160W', 'DF36', 'DF45', 'ZA', 'ZL68', 'ZU68', 'ZPEAK', 'ZA_NOIRAC', 'ZL68_NOIRAC', 'ZU68_NOIRAC', 'ZPEAK_NOIRAC']\nOne can filter out such columns using:\nnames = [name for name in tbl.colnames if len(tbl[name].shape) <= 1]\ntbl[names].to_pandas(...)",
     "output_type": "error",
     "traceback": [
      "\u001b[1;31m---------------------------------------------------------------------------\u001b[0m",
      "\u001b[1;31mValueError\u001b[0m                                Traceback (most recent call last)",
      "\u001b[1;32mc:\\Users\\polar\\OneDrive - The University of Kansas\\AGNerds\\AGNerds\\JWST_AGN_proj2\\CatalogMatching_V2.ipynb Cell 27\u001b[0m in \u001b[0;36m<cell line: 3>\u001b[1;34m()\u001b[0m\n\u001b[0;32m      <a href='vscode-notebook-cell:/c%3A/Users/polar/OneDrive%20-%20The%20University%20of%20Kansas/AGNerds/AGNerds/JWST_AGN_proj2/CatalogMatching_V2.ipynb#X35sZmlsZQ%3D%3D?line=0'>1</a>\u001b[0m \u001b[39m# convert astropy table to pandas dataframe\u001b[39;00m\n\u001b[0;32m      <a href='vscode-notebook-cell:/c%3A/Users/polar/OneDrive%20-%20The%20University%20of%20Kansas/AGNerds/AGNerds/JWST_AGN_proj2/CatalogMatching_V2.ipynb#X35sZmlsZQ%3D%3D?line=1'>2</a>\u001b[0m tphot_df   \u001b[39m=\u001b[39m tphot_data\u001b[39m.\u001b[39mto_pandas()\n\u001b[1;32m----> <a href='vscode-notebook-cell:/c%3A/Users/polar/OneDrive%20-%20The%20University%20of%20Kansas/AGNerds/AGNerds/JWST_AGN_proj2/CatalogMatching_V2.ipynb#X35sZmlsZQ%3D%3D?line=2'>3</a>\u001b[0m egs_f22_df \u001b[39m=\u001b[39m egs_f22_data\u001b[39m.\u001b[39;49mto_pandas() \u001b[39m# ??? busted... probably because *.gz filetype\u001b[39;00m\n\u001b[0;32m      <a href='vscode-notebook-cell:/c%3A/Users/polar/OneDrive%20-%20The%20University%20of%20Kansas/AGNerds/AGNerds/JWST_AGN_proj2/CatalogMatching_V2.ipynb#X35sZmlsZQ%3D%3D?line=3'>4</a>\u001b[0m egs_fir_df \u001b[39m=\u001b[39m egs_fir_data\u001b[39m.\u001b[39mto_pandas()\n",
      "File \u001b[1;32mc:\\Users\\polar\\anaconda3\\envs\\py3env\\lib\\site-packages\\astropy\\table\\table.py:3723\u001b[0m, in \u001b[0;36mTable.to_pandas\u001b[1;34m(self, index, use_nullable_int)\u001b[0m\n\u001b[0;32m   3721\u001b[0m badcols \u001b[39m=\u001b[39m [name \u001b[39mfor\u001b[39;00m name, col \u001b[39min\u001b[39;00m \u001b[39mself\u001b[39m\u001b[39m.\u001b[39mcolumns\u001b[39m.\u001b[39mitems() \u001b[39mif\u001b[39;00m \u001b[39mlen\u001b[39m(col\u001b[39m.\u001b[39mshape) \u001b[39m>\u001b[39m \u001b[39m1\u001b[39m]\n\u001b[0;32m   3722\u001b[0m \u001b[39mif\u001b[39;00m badcols:\n\u001b[1;32m-> 3723\u001b[0m     \u001b[39mraise\u001b[39;00m \u001b[39mValueError\u001b[39;00m(\n\u001b[0;32m   3724\u001b[0m         \u001b[39mf\u001b[39m\u001b[39m'\u001b[39m\u001b[39mCannot convert a table with multidimensional columns to a \u001b[39m\u001b[39m'\u001b[39m\n\u001b[0;32m   3725\u001b[0m         \u001b[39mf\u001b[39m\u001b[39m'\u001b[39m\u001b[39mpandas DataFrame. Offending columns are: \u001b[39m\u001b[39m{\u001b[39;00mbadcols\u001b[39m}\u001b[39;00m\u001b[39m\\n\u001b[39;00m\u001b[39m'\u001b[39m\n\u001b[0;32m   3726\u001b[0m         \u001b[39mf\u001b[39m\u001b[39m'\u001b[39m\u001b[39mOne can filter out such columns using:\u001b[39m\u001b[39m\\n\u001b[39;00m\u001b[39m'\u001b[39m\n\u001b[0;32m   3727\u001b[0m         \u001b[39mf\u001b[39m\u001b[39m'\u001b[39m\u001b[39mnames = [name for name in tbl.colnames if len(tbl[name].shape) <= 1]\u001b[39m\u001b[39m\\n\u001b[39;00m\u001b[39m'\u001b[39m\n\u001b[0;32m   3728\u001b[0m         \u001b[39mf\u001b[39m\u001b[39m'\u001b[39m\u001b[39mtbl[names].to_pandas(...)\u001b[39m\u001b[39m'\u001b[39m)\n\u001b[0;32m   3730\u001b[0m out \u001b[39m=\u001b[39m OrderedDict()\n\u001b[0;32m   3732\u001b[0m \u001b[39mfor\u001b[39;00m name, column \u001b[39min\u001b[39;00m tbl\u001b[39m.\u001b[39mcolumns\u001b[39m.\u001b[39mitems():\n",
      "\u001b[1;31mValueError\u001b[0m: Cannot convert a table with multidimensional columns to a pandas DataFrame. Offending columns are: ['ID', 'RA', 'DEC', 'CANDELS_RA', 'CANDELS_DEC', 'F606W', 'F814W', 'F105W', 'F125W', 'F140W', 'F160W', 'F36', 'F45', 'DF606W', 'DF814W', 'DF105W', 'DF125W', 'DF140W', 'DF160W', 'DF36', 'DF45', 'ZA', 'ZL68', 'ZU68', 'ZPEAK', 'ZA_NOIRAC', 'ZL68_NOIRAC', 'ZU68_NOIRAC', 'ZPEAK_NOIRAC']\nOne can filter out such columns using:\nnames = [name for name in tbl.colnames if len(tbl[name].shape) <= 1]\ntbl[names].to_pandas(...)"
     ]
    }
   ],
   "source": [
    "# convert astropy table to pandas dataframe\n",
    "tphot_df   = tphot_data.to_pandas()\n",
    "egs_f22_df = egs_f22_data.to_pandas() # ??? busted... TODO build table by processing columns individually \n",
    "egs_fir_df = egs_fir_data.to_pandas()\n",
    "\n",
    "# setup table with column names \n",
    "# populate table row by row\n"
   ]
  },
  {
   "cell_type": "code",
   "execution_count": null,
   "metadata": {},
   "outputs": [],
   "source": []
  }
 ],
 "metadata": {
  "kernelspec": {
   "display_name": "Python 3.9.12 ('py3env')",
   "language": "python",
   "name": "python3"
  },
  "language_info": {
   "codemirror_mode": {
    "name": "ipython",
    "version": 3
   },
   "file_extension": ".py",
   "mimetype": "text/x-python",
   "name": "python",
   "nbconvert_exporter": "python",
   "pygments_lexer": "ipython3",
   "version": "3.9.12"
  },
  "orig_nbformat": 4,
  "vscode": {
   "interpreter": {
    "hash": "9087279304570de5a36832bd291691fdf2a46b942e9196516ec718f5eedeadfe"
   }
  }
 },
 "nbformat": 4,
 "nbformat_minor": 2
}
