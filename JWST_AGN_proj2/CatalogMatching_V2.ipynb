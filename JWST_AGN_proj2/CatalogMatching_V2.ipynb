{
 "cells": [
  {
   "cell_type": "code",
   "execution_count": 1,
   "metadata": {},
   "outputs": [],
   "source": [
    "## imports\n",
    "# astronomy\n",
    "from astropy.io import fits\n",
    "from astropy.io import ascii\n",
    "from astropy.table import Table\n",
    "from astropy.coordinates import SkyCoord\n",
    "import astropy.units as u\n",
    "# plotting\n",
    "import matplotlib.pyplot as plt\n",
    "# data \n",
    "import numpy as np\n",
    "import pandas as pd "
   ]
  },
  {
   "cell_type": "markdown",
   "metadata": {},
   "source": [
    "# 1. Read Data"
   ]
  },
  {
   "cell_type": "code",
   "execution_count": 2,
   "metadata": {},
   "outputs": [],
   "source": [
    "# file paths \n",
    "path_catalogs = 'C:\\\\Users\\\\polar\\\\OneDrive - The University of Kansas\\\\AGNerds\\\\Catalogs'"
   ]
  },
  {
   "cell_type": "code",
   "execution_count": 3,
   "metadata": {},
   "outputs": [
    {
     "name": "stdout",
     "output_type": "stream",
     "text": [
      "['field', 'ra', 'dec', 'f560w_uJy', 'f560w_uJy_err', 'f770w_uJy', 'f770w_uJy_err', 'f1000w_uJy', 'f1000w_uJy_err', 'f1280w_uJy', 'f1280w_uJy_err', 'f1500w_uJy', 'f1500w_uJy_err', 'f1800w_uJy', 'f1800w_uJy_err', 'f2100w_uJy', 'f2100w_uJy_err']\n"
     ]
    }
   ],
   "source": [
    "# open tphot\n",
    "tphot_data = ascii.read(path_catalogs+'\\\\tphot.cat')\n",
    "tphot_cols = tphot_data.colnames\n",
    "\n",
    "# # show table\n",
    "# tphot_data.show_in_notebook()\n",
    "print(tphot_cols)"
   ]
  },
  {
   "cell_type": "code",
   "execution_count": 4,
   "metadata": {},
   "outputs": [],
   "source": [
    "# open EGS F22\n",
    "egs_f22_data = Table.read(path_catalogs+'\\\\EGS_F22.fits.gz') # get RA/DEC\n",
    "egs_f22_cols = egs_f22_data.columns\n",
    "\n",
    "# # print all columns\n",
    "# for col in egs_f22_cols:\n",
    "#     print(col)"
   ]
  },
  {
   "cell_type": "code",
   "execution_count": 5,
   "metadata": {},
   "outputs": [
    {
     "name": "stdout",
     "output_type": "stream",
     "text": [
      "ID_iau\n",
      "ID\n",
      "RA\n",
      "Decl\n",
      "zphot\n",
      "zp_l68\n",
      "zp_u68\n",
      "zspec\n",
      "Mstar\n",
      "eMstar\n",
      "SNR_IR\n",
      "z_IR\n",
      "ez_IR\n",
      "SFR_IR\n",
      "eSFR_IR\n",
      "FK\n",
      "dFK\n",
      "Fch1\n",
      "dFch1\n",
      "Fch2\n",
      "dFch2\n",
      "Fch3\n",
      "dFch3\n",
      "Fch4\n",
      "dFch4\n",
      "F24\n",
      "dF24\n",
      "Q24\n",
      "F100\n",
      "dF100\n",
      "Q100\n",
      "F160\n",
      "dF160\n",
      "Q160\n",
      "F250\n",
      "dF250\n",
      "F350\n",
      "dF350\n",
      "F450\n",
      "dF450\n",
      "F500\n",
      "dF500\n",
      "F850_sh\n",
      "dF850_sh\n",
      "F850_d\n",
      "dF850_d\n",
      "F850\n",
      "dF850\n",
      "F1100\n",
      "dF1100\n",
      "Q1100\n",
      "F20cm\n",
      "dF20cm\n",
      "xfAGN\n",
      "xeAGN\n",
      "xfTOT\n",
      "xeTOT\n",
      "xf70\n",
      "xe70\n",
      "xf100\n",
      "xe100\n",
      "xf160\n",
      "xe160\n",
      "xf250\n",
      "xe250\n",
      "xf350\n",
      "xe350\n",
      "xf450\n",
      "xe450\n",
      "xf500\n",
      "xe500\n",
      "xf850\n",
      "xe850\n",
      "xf1100\n",
      "xe1100\n",
      "xf1200\n",
      "xe1200\n",
      "xf2000\n",
      "xe2000\n",
      "xf2250\n",
      "xe2250\n",
      "xf20cm\n",
      "xe20cm\n",
      "Ubest\n",
      "chi2_min\n",
      "S_chi2_min\n",
      "R_chi2_min\n",
      "Type_FIR\n",
      "Type_SED\n",
      "Type_AGN\n"
     ]
    }
   ],
   "source": [
    "# open EGS FIR\n",
    "egs_fir_data = Table.read(path_catalogs+'\\\\egs_FIR_photometry_catalog.fits')\n",
    "egs_fir_cols = egs_fir_data.columns\n",
    "\n",
    "# # print all columns\n",
    "for col in egs_fir_cols:\n",
    "    print(col)"
   ]
  },
  {
   "cell_type": "markdown",
   "metadata": {},
   "source": [
    "# 2. Match IDs TODO RA and DEC matching, not ID"
   ]
  },
  {
   "cell_type": "code",
   "execution_count": 28,
   "metadata": {},
   "outputs": [],
   "source": [
    "# get IDs\n",
    "egs_f22_ID = np.array(egs_f22_data['ID'])[0]\n",
    "egs_fir_ID = np.array(egs_fir_data['ID']) # use ID_iau  # TODO match by RA and DEC not ID"
   ]
  },
  {
   "cell_type": "code",
   "execution_count": 7,
   "metadata": {},
   "outputs": [
    {
     "name": "stdout",
     "output_type": "stream",
     "text": [
      "Number of egs_f22:\t 66783\n",
      "Number of egs_fir:\t 41656\n"
     ]
    }
   ],
   "source": [
    "print('Number of egs_f22:\\t',  len(egs_f22_ID))\n",
    "print('Number of egs_fir:\\t',  len(egs_fir_ID))"
   ]
  },
  {
   "cell_type": "code",
   "execution_count": 8,
   "metadata": {},
   "outputs": [],
   "source": [
    "# Used to match by id (code from Connor Auge)\n",
    "def match(a, b):\n",
    "    b_set = set(b)\n",
    "    b_match = [i for i, v in enumerate(a) if v in b_set]\n",
    "    a_set = set(a)\n",
    "    a_match = [i for i, v in enumerate(b) if v in a_set]\n",
    "    a_match = np.asarray(a_match)\n",
    "    b_match = np.asarray(b_match)\n",
    "    a_match2 = np.argsort(a[b_match])\n",
    "    b_match2 = np.argsort(b[a_match])\n",
    "    return b_match[a_match2],a_match[b_match2]"
   ]
  },
  {
   "cell_type": "code",
   "execution_count": 9,
   "metadata": {},
   "outputs": [],
   "source": [
    "# match \n",
    "key_IDf22, key_IDfir = match(egs_f22_ID, egs_fir_ID)\n",
    "\n",
    "# apply match key\n",
    "egs_f22_ID_egsMatches = egs_f22_ID[key_IDf22]\n",
    "egs_fir_ID_egsMatches = egs_fir_ID[key_IDfir]"
   ]
  },
  {
   "cell_type": "code",
   "execution_count": 10,
   "metadata": {},
   "outputs": [
    {
     "name": "stdout",
     "output_type": "stream",
     "text": [
      "12\n",
      "12\n"
     ]
    }
   ],
   "source": [
    "# test\n",
    "i=11\n",
    "print(egs_f22_ID_egsMatches[i])\n",
    "print(egs_fir_ID_egsMatches[i])"
   ]
  },
  {
   "cell_type": "code",
   "execution_count": 11,
   "metadata": {},
   "outputs": [
    {
     "name": "stdout",
     "output_type": "stream",
     "text": [
      "Number of egs_f22 matches:\t 39244\n",
      "Number of egs_fir matches:\t 39244\n"
     ]
    }
   ],
   "source": [
    "print('Number of egs_f22 matches:\\t',  len(egs_f22_ID_egsMatches))\n",
    "print('Number of egs_fir matches:\\t',  len(egs_fir_ID_egsMatches))"
   ]
  },
  {
   "cell_type": "markdown",
   "metadata": {},
   "source": [
    "# 3. Match RA and DEC"
   ]
  },
  {
   "cell_type": "code",
   "execution_count": 12,
   "metadata": {},
   "outputs": [],
   "source": [
    "## get RA and DEC from catalogs\n",
    "\n",
    "# get RA and DEC from tphot and make array\n",
    "tphot_RA  = np.array(tphot_data['ra'])\n",
    "tphot_DEC = np.array(tphot_data['dec'])\n",
    "# get RA and DEC from egs_f22 \n",
    "egs_f22_RA  = np.array(egs_f22_data['RA'] )[0][key_IDf22]            # ??? which egs catalog do I get RA and DEC? Are they same? \n",
    "egs_f22_DEC = np.array(egs_f22_data['DEC'])[0][key_IDf22]\n",
    "\n",
    "# get coordinants \n",
    "tphot_coord = SkyCoord(ra=tphot_RA*u.deg, dec=tphot_DEC*u.deg)\n",
    "egs_f22_coord = SkyCoord(ra=egs_f22_RA*u.deg, dec=egs_f22_DEC*u.deg)"
   ]
  },
  {
   "cell_type": "code",
   "execution_count": 13,
   "metadata": {},
   "outputs": [
    {
     "name": "stdout",
     "output_type": "stream",
     "text": [
      "Number of tphot sources:\t 1734\n",
      "Number of egs_f22 sources:\t 39244\n"
     ]
    }
   ],
   "source": [
    "print('Number of tphot sources:\\t', len(tphot_RA))\n",
    "print('Number of egs_f22 sources:\\t', len(egs_f22_RA))"
   ]
  },
  {
   "cell_type": "code",
   "execution_count": 14,
   "metadata": {},
   "outputs": [
    {
     "name": "stdout",
     "output_type": "stream",
     "text": [
      "Number of matches:\t 1644\n",
      "Number of matches:\t 1644\n"
     ]
    }
   ],
   "source": [
    "## match RA and DEC between catalogs\n",
    "# DOC: https://docs.astropy.org/en/stable/coordinates/matchsep.html\n",
    "\n",
    "# idx are indices into catalog that are the closest objects to each of the coordinates in c, \n",
    "# d2d are the on-sky distances between them, and \n",
    "# d3d are the 3-dimensional distances. \n",
    "idx, d2d, d3d = egs_f22_coord.match_to_catalog_sky(tphot_coord) # idx, d2d, d3d = c.match_to_catalog_sky(catalog)\n",
    "\n",
    "# separation constraint\n",
    "max_sep = 1.0 * u.arcsec\n",
    "# max_sep = 0.5 * u.arcsec\n",
    "sep_constraint = d2d < max_sep  # use on 'c' (egs_f22_coord)\n",
    "idx_sep = idx[sep_constraint]   # use on 'catalog' (tphot)\n",
    "\n",
    "# get matches\n",
    "egs_f22_coord_matches = egs_f22_coord[sep_constraint]\n",
    "tphot_coord_matches = tphot_coord[idx_sep]\n",
    "\n",
    "# print length  \n",
    "print('Number of matches:\\t', len(egs_f22_coord_matches))\n",
    "print('Number of matches:\\t', len(tphot_coord_matches))"
   ]
  },
  {
   "cell_type": "code",
   "execution_count": 15,
   "metadata": {},
   "outputs": [
    {
     "name": "stdout",
     "output_type": "stream",
     "text": [
      "<SkyCoord (ICRS): (ra, dec) in deg\n",
      "    (215.057096, 52.899535)>\n",
      "<SkyCoord (ICRS): (ra, dec) in deg\n",
      "    (215.057116, 52.89952)>\n"
     ]
    }
   ],
   "source": [
    "# test match\n",
    "i=12\n",
    "print(egs_f22_coord_matches[i])\n",
    "print(tphot_coord_matches[i])"
   ]
  },
  {
   "cell_type": "markdown",
   "metadata": {},
   "source": [
    "# 4. Find Duplicate RA/DEC Matches"
   ]
  },
  {
   "cell_type": "code",
   "execution_count": 16,
   "metadata": {},
   "outputs": [
    {
     "name": "stdout",
     "output_type": "stream",
     "text": [
      "Number of unique:\t 1197\n",
      "Number of duplicates:\t 447\n"
     ]
    }
   ],
   "source": [
    "# make mask of unique soruces \n",
    "mask = np.zeros(len(idx_sep), dtype=bool)\n",
    "mask[np.unique(idx_sep, return_index=True)[1]] = True\n",
    "\n",
    "# get value of duplicates sources \n",
    "duplicates = np.unique(idx_sep[~mask])\n",
    "\n",
    "# set all non-unique sources to False \n",
    "for dup in duplicates :\n",
    "    mask[np.where(idx_sep == dup)] = False\n",
    "\n",
    "# apply mask to get unique and duplicate sources\n",
    "idx_sep_unique = idx_sep[mask]\n",
    "idx_sep_duplicates = idx_sep[~mask]\n",
    "\n",
    "# print info\n",
    "print('Number of unique:\\t',        len(idx_sep_unique))\n",
    "print('Number of duplicates:\\t',    len(idx_sep_duplicates))    # ??? this is a lot\n",
    "# print('Duplicate sources:\\n',       idx_sep_duplicates)"
   ]
  },
  {
   "cell_type": "code",
   "execution_count": 17,
   "metadata": {},
   "outputs": [
    {
     "name": "stdout",
     "output_type": "stream",
     "text": [
      "Number of unique:\t 1197\n",
      "Number of duplicates:\t 447\n"
     ]
    }
   ],
   "source": [
    "# apply mask to egs sources\n",
    "egs_f22_i    = np.where(sep_constraint)[0]\n",
    "egs_f22_i_unique = egs_f22_i[mask]\n",
    "egs_f22_i_duplicates = egs_f22_i[~mask]\n",
    "\n",
    "# print info\n",
    "print('Number of unique:\\t', len(egs_f22_i_unique))\n",
    "print('Number of duplicates:\\t', len(egs_f22_i_duplicates))\n",
    "# print('Duplicates:\\n', egs_f22_i_duplicates)"
   ]
  },
  {
   "cell_type": "code",
   "execution_count": 18,
   "metadata": {},
   "outputs": [
    {
     "name": "stdout",
     "output_type": "stream",
     "text": [
      "<SkyCoord (ICRS): (ra, dec) in deg\n",
      "    (215.060615, 52.900889)>\n",
      "<SkyCoord (ICRS): (ra, dec) in deg\n",
      "    (215.060621, 52.900873)>\n"
     ]
    }
   ],
   "source": [
    "# get values \n",
    "egs_f22_coord_unique = egs_f22_coord[egs_f22_i_unique]\n",
    "tphot_coord_unique = tphot_coord[idx_sep_unique]\n",
    "\n",
    "# test match\n",
    "i=1\n",
    "print(egs_f22_coord_unique[i])\n",
    "print(tphot_coord_unique[i])"
   ]
  },
  {
   "cell_type": "code",
   "execution_count": 19,
   "metadata": {},
   "outputs": [
    {
     "name": "stdout",
     "output_type": "stream",
     "text": [
      "<SkyCoord (ICRS): (ra, dec) in deg\n",
      "    (215.058814, 52.901328)>\n",
      "<SkyCoord (ICRS): (ra, dec) in deg\n",
      "    (215.058642, 52.901514)>\n"
     ]
    }
   ],
   "source": [
    "# get values \n",
    "egs_f22_coord_duplicates = egs_f22_coord[egs_f22_i_duplicates]\n",
    "tphot_coord_duplicates = tphot_coord[idx_sep_duplicates]\n",
    "\n",
    "# test match\n",
    "i=3\n",
    "print(egs_f22_coord_duplicates[i])\n",
    "print(tphot_coord_duplicates[i])"
   ]
  },
  {
   "cell_type": "markdown",
   "metadata": {},
   "source": [
    "# 5. Build Catalog"
   ]
  },
  {
   "cell_type": "code",
   "execution_count": 20,
   "metadata": {},
   "outputs": [
    {
     "name": "stdout",
     "output_type": "stream",
     "text": [
      "1197\n",
      "1197\n",
      "1197\n"
     ]
    }
   ],
   "source": [
    "# helper indexing\n",
    "tphot_i     = idx_sep_unique\n",
    "egs_f22_i   = key_IDf22[egs_f22_i_unique]\n",
    "egs_fir_i   = key_IDfir[egs_f22_i_unique]\n",
    "\n",
    "# verify that all lengths match\n",
    "print(len(tphot_i))\n",
    "print(len(egs_f22_i))\n",
    "print(len(egs_fir_i))\n",
    "\n",
    "# save number of matches \n",
    "n_matches = len(tphot_i)"
   ]
  },
  {
   "cell_type": "code",
   "execution_count": 21,
   "metadata": {},
   "outputs": [
    {
     "name": "stdout",
     "output_type": "stream",
     "text": [
      "<class 'astropy.table.table.Table'>\n",
      "<class 'astropy.table.table.Table'>\n",
      "<class 'astropy.table.table.Table'>\n"
     ]
    }
   ],
   "source": [
    "print(type(tphot_data))\n",
    "print(type(egs_f22_data))\n",
    "print(type(egs_fir_data))"
   ]
  },
  {
   "cell_type": "code",
   "execution_count": 22,
   "metadata": {},
   "outputs": [
    {
     "ename": "ValueError",
     "evalue": "Cannot convert a table with multidimensional columns to a pandas DataFrame. Offending columns are: ['ID', 'RA', 'DEC', 'CANDELS_RA', 'CANDELS_DEC', 'F606W', 'F814W', 'F105W', 'F125W', 'F140W', 'F160W', 'F36', 'F45', 'DF606W', 'DF814W', 'DF105W', 'DF125W', 'DF140W', 'DF160W', 'DF36', 'DF45', 'ZA', 'ZL68', 'ZU68', 'ZPEAK', 'ZA_NOIRAC', 'ZL68_NOIRAC', 'ZU68_NOIRAC', 'ZPEAK_NOIRAC']\nOne can filter out such columns using:\nnames = [name for name in tbl.colnames if len(tbl[name].shape) <= 1]\ntbl[names].to_pandas(...)",
     "output_type": "error",
     "traceback": [
      "\u001b[1;31m---------------------------------------------------------------------------\u001b[0m",
      "\u001b[1;31mValueError\u001b[0m                                Traceback (most recent call last)",
      "\u001b[1;32mc:\\Users\\polar\\OneDrive - The University of Kansas\\AGNerds\\AGNerds\\JWST_AGN_proj2\\CatalogMatching_V2.ipynb Cell 27\u001b[0m in \u001b[0;36m<cell line: 3>\u001b[1;34m()\u001b[0m\n\u001b[0;32m      <a href='vscode-notebook-cell:/c%3A/Users/polar/OneDrive%20-%20The%20University%20of%20Kansas/AGNerds/AGNerds/JWST_AGN_proj2/CatalogMatching_V2.ipynb#X35sZmlsZQ%3D%3D?line=0'>1</a>\u001b[0m \u001b[39m# convert astropy table to pandas dataframe\u001b[39;00m\n\u001b[0;32m      <a href='vscode-notebook-cell:/c%3A/Users/polar/OneDrive%20-%20The%20University%20of%20Kansas/AGNerds/AGNerds/JWST_AGN_proj2/CatalogMatching_V2.ipynb#X35sZmlsZQ%3D%3D?line=1'>2</a>\u001b[0m tphot_df   \u001b[39m=\u001b[39m tphot_data\u001b[39m.\u001b[39mto_pandas()\n\u001b[1;32m----> <a href='vscode-notebook-cell:/c%3A/Users/polar/OneDrive%20-%20The%20University%20of%20Kansas/AGNerds/AGNerds/JWST_AGN_proj2/CatalogMatching_V2.ipynb#X35sZmlsZQ%3D%3D?line=2'>3</a>\u001b[0m egs_f22_df \u001b[39m=\u001b[39m egs_f22_data\u001b[39m.\u001b[39;49mto_pandas() \u001b[39m# ??? busted... probably because *.gz filetype\u001b[39;00m\n\u001b[0;32m      <a href='vscode-notebook-cell:/c%3A/Users/polar/OneDrive%20-%20The%20University%20of%20Kansas/AGNerds/AGNerds/JWST_AGN_proj2/CatalogMatching_V2.ipynb#X35sZmlsZQ%3D%3D?line=3'>4</a>\u001b[0m egs_fir_df \u001b[39m=\u001b[39m egs_fir_data\u001b[39m.\u001b[39mto_pandas()\n",
      "File \u001b[1;32mc:\\Users\\polar\\anaconda3\\envs\\py3env\\lib\\site-packages\\astropy\\table\\table.py:3723\u001b[0m, in \u001b[0;36mTable.to_pandas\u001b[1;34m(self, index, use_nullable_int)\u001b[0m\n\u001b[0;32m   3721\u001b[0m badcols \u001b[39m=\u001b[39m [name \u001b[39mfor\u001b[39;00m name, col \u001b[39min\u001b[39;00m \u001b[39mself\u001b[39m\u001b[39m.\u001b[39mcolumns\u001b[39m.\u001b[39mitems() \u001b[39mif\u001b[39;00m \u001b[39mlen\u001b[39m(col\u001b[39m.\u001b[39mshape) \u001b[39m>\u001b[39m \u001b[39m1\u001b[39m]\n\u001b[0;32m   3722\u001b[0m \u001b[39mif\u001b[39;00m badcols:\n\u001b[1;32m-> 3723\u001b[0m     \u001b[39mraise\u001b[39;00m \u001b[39mValueError\u001b[39;00m(\n\u001b[0;32m   3724\u001b[0m         \u001b[39mf\u001b[39m\u001b[39m'\u001b[39m\u001b[39mCannot convert a table with multidimensional columns to a \u001b[39m\u001b[39m'\u001b[39m\n\u001b[0;32m   3725\u001b[0m         \u001b[39mf\u001b[39m\u001b[39m'\u001b[39m\u001b[39mpandas DataFrame. Offending columns are: \u001b[39m\u001b[39m{\u001b[39;00mbadcols\u001b[39m}\u001b[39;00m\u001b[39m\\n\u001b[39;00m\u001b[39m'\u001b[39m\n\u001b[0;32m   3726\u001b[0m         \u001b[39mf\u001b[39m\u001b[39m'\u001b[39m\u001b[39mOne can filter out such columns using:\u001b[39m\u001b[39m\\n\u001b[39;00m\u001b[39m'\u001b[39m\n\u001b[0;32m   3727\u001b[0m         \u001b[39mf\u001b[39m\u001b[39m'\u001b[39m\u001b[39mnames = [name for name in tbl.colnames if len(tbl[name].shape) <= 1]\u001b[39m\u001b[39m\\n\u001b[39;00m\u001b[39m'\u001b[39m\n\u001b[0;32m   3728\u001b[0m         \u001b[39mf\u001b[39m\u001b[39m'\u001b[39m\u001b[39mtbl[names].to_pandas(...)\u001b[39m\u001b[39m'\u001b[39m)\n\u001b[0;32m   3730\u001b[0m out \u001b[39m=\u001b[39m OrderedDict()\n\u001b[0;32m   3732\u001b[0m \u001b[39mfor\u001b[39;00m name, column \u001b[39min\u001b[39;00m tbl\u001b[39m.\u001b[39mcolumns\u001b[39m.\u001b[39mitems():\n",
      "\u001b[1;31mValueError\u001b[0m: Cannot convert a table with multidimensional columns to a pandas DataFrame. Offending columns are: ['ID', 'RA', 'DEC', 'CANDELS_RA', 'CANDELS_DEC', 'F606W', 'F814W', 'F105W', 'F125W', 'F140W', 'F160W', 'F36', 'F45', 'DF606W', 'DF814W', 'DF105W', 'DF125W', 'DF140W', 'DF160W', 'DF36', 'DF45', 'ZA', 'ZL68', 'ZU68', 'ZPEAK', 'ZA_NOIRAC', 'ZL68_NOIRAC', 'ZU68_NOIRAC', 'ZPEAK_NOIRAC']\nOne can filter out such columns using:\nnames = [name for name in tbl.colnames if len(tbl[name].shape) <= 1]\ntbl[names].to_pandas(...)"
     ]
    }
   ],
   "source": [
    "# convert astropy table to pandas dataframe\n",
    "tphot_df   = tphot_data.to_pandas()\n",
    "egs_f22_df = egs_f22_data.to_pandas() # ??? busted... probably because *.gz filetype\n",
    "egs_fir_df = egs_fir_data.to_pandas()\n"
   ]
  },
  {
   "cell_type": "code",
   "execution_count": null,
   "metadata": {},
   "outputs": [],
   "source": []
  }
 ],
 "metadata": {
  "kernelspec": {
   "display_name": "Python 3.9.12 ('py3env')",
   "language": "python",
   "name": "python3"
  },
  "language_info": {
   "codemirror_mode": {
    "name": "ipython",
    "version": 3
   },
   "file_extension": ".py",
   "mimetype": "text/x-python",
   "name": "python",
   "nbconvert_exporter": "python",
   "pygments_lexer": "ipython3",
   "version": "3.9.12"
  },
  "orig_nbformat": 4,
  "vscode": {
   "interpreter": {
    "hash": "9087279304570de5a36832bd291691fdf2a46b942e9196516ec718f5eedeadfe"
   }
  }
 },
 "nbformat": 4,
 "nbformat_minor": 2
}
