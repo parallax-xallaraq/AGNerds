{
 "cells": [
  {
   "cell_type": "code",
   "execution_count": 4,
   "metadata": {},
   "outputs": [],
   "source": [
    "## imports\n",
    "# astronomy\n",
    "from astropy.io import fits\n",
    "from astropy.io import ascii\n",
    "from astropy.table import Table\n",
    "from astropy.coordinates import SkyCoord\n",
    "import astropy.units as u\n",
    "# plotting\n",
    "import matplotlib.pyplot as plt\n",
    "# data \n",
    "import numpy as np\n",
    "import pandas as pd "
   ]
  },
  {
   "cell_type": "markdown",
   "metadata": {},
   "source": [
    "# 1. Read Data"
   ]
  },
  {
   "cell_type": "code",
   "execution_count": 5,
   "metadata": {},
   "outputs": [],
   "source": [
    "# file paths \n",
    "path_catalogs = 'C:\\\\Users\\\\polar\\\\OneDrive - The University of Kansas\\\\AGNerds\\\\Catalogs'"
   ]
  },
  {
   "cell_type": "code",
   "execution_count": 13,
   "metadata": {},
   "outputs": [
    {
     "name": "stdout",
     "output_type": "stream",
     "text": [
      "['field', 'ra', 'dec', 'f560w_uJy', 'f560w_uJy_err', 'f770w_uJy', 'f770w_uJy_err', 'f1000w_uJy', 'f1000w_uJy_err', 'f1280w_uJy', 'f1280w_uJy_err', 'f1500w_uJy', 'f1500w_uJy_err', 'f1800w_uJy', 'f1800w_uJy_err', 'f2100w_uJy', 'f2100w_uJy_err']\n"
     ]
    }
   ],
   "source": [
    "# open tphot\n",
    "tphot_data = ascii.read(path_catalogs+'\\\\tphot.cat')\n",
    "tphot_cols = tphot_data.colnames\n",
    "\n",
    "# show table\n",
    "tphot_data.show_in_notebook()\n",
    "print(tphot_cols)\n",
    "\n",
    "# important columns:\n",
    "# name = 'ra'\n",
    "# name = 'dec'"
   ]
  },
  {
   "cell_type": "code",
   "execution_count": 11,
   "metadata": {},
   "outputs": [
    {
     "name": "stdout",
     "output_type": "stream",
     "text": [
      "ID\n",
      "RA\n",
      "DEC\n",
      "CANDELS_RA\n",
      "CANDELS_DEC\n",
      "F606W\n",
      "F814W\n",
      "F105W\n",
      "F125W\n",
      "F140W\n",
      "F160W\n",
      "F36\n",
      "F45\n",
      "DF606W\n",
      "DF814W\n",
      "DF105W\n",
      "DF125W\n",
      "DF140W\n",
      "DF160W\n",
      "DF36\n",
      "DF45\n",
      "ZA\n",
      "ZL68\n",
      "ZU68\n",
      "ZPEAK\n",
      "ZA_NOIRAC\n",
      "ZL68_NOIRAC\n",
      "ZU68_NOIRAC\n",
      "ZPEAK_NOIRAC\n"
     ]
    }
   ],
   "source": [
    "# open EGS F22\n",
    "egs_f22_data = Table.read(path_catalogs+'\\\\EGS_F22.fits.gz')\n",
    "egs_f22_cols = egs_f22_data.columns\n",
    "\n",
    "# print all columns\n",
    "for col in egs_f22_cols:\n",
    "    print(col)"
   ]
  },
  {
   "cell_type": "code",
   "execution_count": 12,
   "metadata": {},
   "outputs": [
    {
     "name": "stdout",
     "output_type": "stream",
     "text": [
      "ID\n",
      "RA\n",
      "DEC\n",
      "CANDELS_RA\n",
      "CANDELS_DEC\n",
      "F606W\n",
      "F814W\n",
      "F105W\n",
      "F125W\n",
      "F140W\n",
      "F160W\n",
      "F36\n",
      "F45\n",
      "DF606W\n",
      "DF814W\n",
      "DF105W\n",
      "DF125W\n",
      "DF140W\n",
      "DF160W\n",
      "DF36\n",
      "DF45\n",
      "ZA\n",
      "ZL68\n",
      "ZU68\n",
      "ZPEAK\n",
      "ZA_NOIRAC\n",
      "ZL68_NOIRAC\n",
      "ZU68_NOIRAC\n",
      "ZPEAK_NOIRAC\n"
     ]
    }
   ],
   "source": [
    "# open EGS FIR\n",
    "egs_fir_data = Table.read(path_catalogs+'\\\\egs_FIR_photometry_catalog.fits')\n",
    "egs_fir_cols = egs_f22_data.columns\n",
    "\n",
    "# print all columns\n",
    "for col in egs_fir_cols:\n",
    "    print(col)"
   ]
  }
 ],
 "metadata": {
  "kernelspec": {
   "display_name": "Python 3.9.12 ('py3env')",
   "language": "python",
   "name": "python3"
  },
  "language_info": {
   "codemirror_mode": {
    "name": "ipython",
    "version": 3
   },
   "file_extension": ".py",
   "mimetype": "text/x-python",
   "name": "python",
   "nbconvert_exporter": "python",
   "pygments_lexer": "ipython3",
   "version": "3.9.12"
  },
  "orig_nbformat": 4,
  "vscode": {
   "interpreter": {
    "hash": "9087279304570de5a36832bd291691fdf2a46b942e9196516ec718f5eedeadfe"
   }
  }
 },
 "nbformat": 4,
 "nbformat_minor": 2
}
