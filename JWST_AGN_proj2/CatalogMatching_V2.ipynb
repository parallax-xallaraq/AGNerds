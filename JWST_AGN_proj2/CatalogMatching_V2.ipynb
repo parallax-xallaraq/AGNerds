{
 "cells": [
  {
   "cell_type": "code",
   "execution_count": 1,
   "metadata": {},
   "outputs": [],
   "source": [
    "## imports\n",
    "# astronomy\n",
    "from astropy.io import fits\n",
    "from astropy.io import ascii\n",
    "from astropy.table import Table\n",
    "from astropy.coordinates import SkyCoord\n",
    "import astropy.units as u\n",
    "# plotting\n",
    "import matplotlib.pyplot as plt\n",
    "# data \n",
    "import numpy as np\n",
    "import pandas as pd "
   ]
  },
  {
   "cell_type": "markdown",
   "metadata": {},
   "source": [
    "# Read Data"
   ]
  },
  {
   "cell_type": "code",
   "execution_count": 2,
   "metadata": {},
   "outputs": [],
   "source": [
    "# file paths \n",
    "path_catalogs = 'D:\\\\AstroCatalogs\\\\AGNerds'"
   ]
  },
  {
   "cell_type": "code",
   "execution_count": 3,
   "metadata": {},
   "outputs": [
    {
     "name": "stdout",
     "output_type": "stream",
     "text": [
      "['field', 'ra', 'dec', 'f560w_uJy', 'f560w_uJy_err', 'f770w_uJy', 'f770w_uJy_err', 'f1000w_uJy', 'f1000w_uJy_err', 'f1280w_uJy', 'f1280w_uJy_err', 'f1500w_uJy', 'f1500w_uJy_err', 'f1800w_uJy', 'f1800w_uJy_err', 'f2100w_uJy', 'f2100w_uJy_err']\n"
     ]
    }
   ],
   "source": [
    "# open tphot\n",
    "tphot_data = ascii.read(path_catalogs+'\\\\tphot.cat')\n",
    "tphot_cols = tphot_data.colnames\n",
    "\n",
    "# show table\n",
    "tphot_data.show_in_notebook()\n",
    "print(tphot_cols)"
   ]
  },
  {
   "cell_type": "code",
   "execution_count": 4,
   "metadata": {},
   "outputs": [],
   "source": [
    "# open EGS F22\n",
    "egs_f22_data = Table.read(path_catalogs+'\\\\EGS_F22.fits')\n",
    "egs_f22_cols = egs_f22_data.columns\n",
    "\n",
    "# print all columns\n",
    "# for col in egs_f22_cols:\n",
    "#     print(col)"
   ]
  },
  {
   "cell_type": "code",
   "execution_count": 5,
   "metadata": {},
   "outputs": [],
   "source": [
    "# open EGS FIR\n",
    "egs_fir_data = Table.read(path_catalogs+'\\\\egs_FIR_photometry_catalog.fits')\n",
    "egs_fir_cols = egs_fir_data.columns\n",
    "\n",
    "# print all columns\n",
    "# for col in egs_fir_cols:\n",
    "#     print(col)"
   ]
  },
  {
   "cell_type": "markdown",
   "metadata": {},
   "source": [
    "# Functions"
   ]
  },
  {
   "cell_type": "code",
   "execution_count": 6,
   "metadata": {},
   "outputs": [],
   "source": [
    "def RaDec_to_Coord(ra,dec):\n",
    "    return( SkyCoord(ra=ra*u.deg, dec=dec*u.deg) )"
   ]
  },
  {
   "cell_type": "code",
   "execution_count": 7,
   "metadata": {},
   "outputs": [],
   "source": [
    "def GetCoordMatches(coord_cat, coord_c, separation=1.0) : \n",
    "    # match c to catalog \n",
    "    #   idx are indices into catalog that are the closest objects to each of the coordinates in c, \n",
    "    #   d2d are the on-sky distances between them, and \n",
    "    #   d3d are the 3-dimensional distances. \n",
    "    idx, d2d, d3d = coord_c.match_to_catalog_sky(coord_cat) # idx, d2d, d3d = c.match_to_catalog_sky(catalog)\n",
    "\n",
    "    # separation constraint\n",
    "    max_sep = separation * u.arcsec\n",
    "    sep_constraint = d2d < max_sep  # use on 'c'\n",
    "    idx_sep = idx[sep_constraint]   # use on 'catalog'\n",
    "\n",
    "    # Get array of indeces \n",
    "    coordCat_matches = idx_sep\n",
    "    coordC_matches   = np.where(sep_constraint)[0]\n",
    "    \n",
    "    # return matched sources\n",
    "    return(coordCat_matches,coordC_matches)"
   ]
  },
  {
   "cell_type": "code",
   "execution_count": 8,
   "metadata": {},
   "outputs": [],
   "source": [
    "def TestCoord(c1,c2,i):\n",
    "    print('Coordinant 1: ', c1[i]) \n",
    "    print('Coordinant 2: ', c2[i])"
   ]
  },
  {
   "cell_type": "code",
   "execution_count": 9,
   "metadata": {},
   "outputs": [],
   "source": [
    "def GetDuplicatesMask(arr): \n",
    "    # make mask of unique soruces \n",
    "    mask = np.zeros(len(arr), dtype=bool)\n",
    "    mask[np.unique(arr, return_index=True)[1]] = True\n",
    "    # get value of duplicates sources \n",
    "    duplicates = np.unique(arr[~mask])\n",
    "    # set all non-unique sources to False \n",
    "    for dup in duplicates :\n",
    "        mask[np.where(arr == dup)] = False\n",
    "    # return boolean mask of length(arr) that is True for a value that occurs only once\n",
    "    return(mask)"
   ]
  },
  {
   "cell_type": "markdown",
   "metadata": {},
   "source": [
    "# Match EGS catalogs using RA/DEC"
   ]
  },
  {
   "cell_type": "code",
   "execution_count": 10,
   "metadata": {},
   "outputs": [
    {
     "name": "stdout",
     "output_type": "stream",
     "text": [
      "Number of EGS f22 sources:\t 66783\n",
      "Number of EGS fir sources:\t 41656\n"
     ]
    }
   ],
   "source": [
    "# Get EGS coordinants\n",
    "egs_f22_coord = RaDec_to_Coord(np.array(egs_f22_data['RA'])[0], np.array(egs_f22_data['DEC'])[0])\n",
    "egs_fir_coord = RaDec_to_Coord(np.array(egs_fir_data['RA']),    np.array(egs_fir_data['Decl'])  )\n",
    "\n",
    "# print info\n",
    "print('Number of EGS f22 sources:\\t', len(egs_f22_coord))\n",
    "print('Number of EGS fir sources:\\t', len(egs_fir_coord))"
   ]
  },
  {
   "cell_type": "code",
   "execution_count": 11,
   "metadata": {},
   "outputs": [
    {
     "name": "stdout",
     "output_type": "stream",
     "text": [
      "Number of egsF22 matches:\t 40850\n",
      "Number of egsFIR matches:\t 40850\n"
     ]
    }
   ],
   "source": [
    "# match \n",
    "egs_f22_toFIR_match, egs_fir_toF22_match = GetCoordMatches(egs_f22_coord,egs_fir_coord) # array of indeces to full egs catalog\n",
    "\n",
    "# get matches\n",
    "egs_f22_coord_matches = egs_f22_coord[egs_f22_toFIR_match]\n",
    "egs_fir_coord_matches = egs_fir_coord[egs_fir_toF22_match]\n",
    "\n",
    "# print info \n",
    "print('Number of egsF22 matches:\\t',  len(egs_f22_coord_matches))\n",
    "print('Number of egsFIR matches:\\t',  len(egs_fir_coord_matches))"
   ]
  },
  {
   "cell_type": "code",
   "execution_count": 12,
   "metadata": {},
   "outputs": [
    {
     "name": "stdout",
     "output_type": "stream",
     "text": [
      "Coordinant 1:  <SkyCoord (ICRS): (ra, dec) in deg\n",
      "    (215.267114, 53.027554)>\n",
      "Coordinant 2:  <SkyCoord (ICRS): (ra, dec) in deg\n",
      "    (215.26714, 53.02755)>\n"
     ]
    }
   ],
   "source": [
    "TestCoord(egs_f22_coord_matches,egs_fir_coord_matches,1)"
   ]
  },
  {
   "cell_type": "markdown",
   "metadata": {},
   "source": [
    "# Get Unique sources from EGS"
   ]
  },
  {
   "cell_type": "code",
   "execution_count": 13,
   "metadata": {},
   "outputs": [],
   "source": [
    "# get mask of egs objects that occur more than once \n",
    "egs_duplicatesMask = GetDuplicatesMask(egs_f22_toFIR_match)"
   ]
  },
  {
   "cell_type": "code",
   "execution_count": 14,
   "metadata": {},
   "outputs": [],
   "source": [
    "# apply mask to get unique and duplicate sources\n",
    "egs_f22_unique_i     = egs_f22_toFIR_match[egs_duplicatesMask]\n",
    "egs_f22_duplicates_i = egs_f22_toFIR_match[~egs_duplicatesMask]\n",
    "# apply mask to get unique and duplicate sources\n",
    "egs_fir_unique_i     = egs_fir_toF22_match[egs_duplicatesMask]\n",
    "egs_fir_duplicates_i = egs_fir_toF22_match[~egs_duplicatesMask]"
   ]
  },
  {
   "cell_type": "code",
   "execution_count": 15,
   "metadata": {},
   "outputs": [
    {
     "name": "stdout",
     "output_type": "stream",
     "text": [
      "Number of unique:\t 40571\n",
      "Number of duplicates:\t 279\n"
     ]
    }
   ],
   "source": [
    "# print info\n",
    "print('Number of unique:\\t', len(egs_f22_unique_i))\n",
    "print('Number of duplicates:\\t', len(egs_f22_duplicates_i))"
   ]
  },
  {
   "cell_type": "markdown",
   "metadata": {},
   "source": [
    "# Match tphot to EGS f22 using RA/DEC"
   ]
  },
  {
   "cell_type": "code",
   "execution_count": 16,
   "metadata": {},
   "outputs": [
    {
     "name": "stdout",
     "output_type": "stream",
     "text": [
      "Number of tphot sources:\t 1734\n",
      "Number of egs sources:\t\t 40571\n"
     ]
    }
   ],
   "source": [
    "# get coordinants\n",
    "tphot_coord = RaDec_to_Coord(np.array(tphot_data['ra']), np.array(tphot_data['dec']) )\n",
    "egs_coord   = RaDec_to_Coord(np.array(egs_f22_data['RA'])[0][egs_f22_unique_i], np.array(egs_f22_data['DEC'])[0][egs_f22_unique_i])\n",
    "\n",
    "# print info \n",
    "print('Number of tphot sources:\\t', len(tphot_coord))\n",
    "print('Number of egs sources:\\t\\t',   len(egs_coord))"
   ]
  },
  {
   "cell_type": "code",
   "execution_count": 17,
   "metadata": {},
   "outputs": [
    {
     "name": "stdout",
     "output_type": "stream",
     "text": [
      "Number of tphot matches:\t 1694\n",
      "Number of EGS matches:\t\t 1694\n"
     ]
    }
   ],
   "source": [
    "# match \n",
    "# tphot_toEGS_match, egs_toTphot_match = GetCoordMatches(tphot_coord,egs_coord) # array of indeces to full catalog \n",
    "egs_toTphot_match, tphot_toEGS_match = GetCoordMatches(egs_coord, tphot_coord) # array of indeces to full catalog \n",
    "\n",
    "# get matches\n",
    "tphot_coord_matches = tphot_coord[tphot_toEGS_match]\n",
    "egs_coord_matches = egs_coord[egs_toTphot_match]\n",
    "\n",
    "# print length  \n",
    "print('Number of tphot matches:\\t', len(tphot_coord_matches))\n",
    "print('Number of EGS matches:\\t\\t', len(egs_coord_matches))"
   ]
  },
  {
   "cell_type": "code",
   "execution_count": 18,
   "metadata": {},
   "outputs": [
    {
     "name": "stdout",
     "output_type": "stream",
     "text": [
      "Coordinant 1:  <SkyCoord (ICRS): (ra, dec) in deg\n",
      "    (215.132979, 53.056507)>\n",
      "Coordinant 2:  <SkyCoord (ICRS): (ra, dec) in deg\n",
      "    (215.132972, 53.056532)>\n"
     ]
    }
   ],
   "source": [
    "TestCoord(tphot_coord_matches,egs_coord_matches,1)"
   ]
  },
  {
   "cell_type": "markdown",
   "metadata": {},
   "source": [
    "# Find Duplicate RA/DEC Matches"
   ]
  },
  {
   "cell_type": "code",
   "execution_count": 19,
   "metadata": {},
   "outputs": [],
   "source": [
    "# get mask of tphot objects that occur more than once \n",
    "tphot_duplicateMask = GetDuplicatesMask(egs_toTphot_match) # mask for array of indeces to full catalog"
   ]
  },
  {
   "cell_type": "code",
   "execution_count": 20,
   "metadata": {},
   "outputs": [],
   "source": [
    "# apply mask to get unique and duplicate sources\n",
    "tphot_unique_i     = tphot_toEGS_match[tphot_duplicateMask]     # array of indeces to full catalog \n",
    "tphot_duplicates_i = tphot_toEGS_match[~tphot_duplicateMask]\n",
    "# apply mask to get unique and duplicate sources\n",
    "egs_unique_i       = egs_toTphot_match[tphot_duplicateMask]\n",
    "egs_duplicates_i   = egs_toTphot_match[~tphot_duplicateMask]"
   ]
  },
  {
   "cell_type": "code",
   "execution_count": 21,
   "metadata": {},
   "outputs": [
    {
     "name": "stdout",
     "output_type": "stream",
     "text": [
      "Number of unique:\t 1569\n",
      "Number of duplicates:\t 125\n"
     ]
    }
   ],
   "source": [
    "# print info\n",
    "print('Number of unique:\\t', len(egs_unique_i))\n",
    "print('Number of duplicates:\\t', len(egs_duplicates_i))"
   ]
  },
  {
   "cell_type": "code",
   "execution_count": 22,
   "metadata": {},
   "outputs": [
    {
     "name": "stdout",
     "output_type": "stream",
     "text": [
      "Coordinant 1:  <SkyCoord (ICRS): (ra, dec) in deg\n",
      "    (215.135509, 53.055473)>\n",
      "Coordinant 2:  <SkyCoord (ICRS): (ra, dec) in deg\n",
      "    (215.135778, 53.055631)>\n"
     ]
    }
   ],
   "source": [
    "# get coord values \n",
    "i=0\n",
    "tphot_coord_d = tphot_coord[tphot_duplicates_i]\n",
    "egs_coord_d = egs_coord[egs_duplicates_i]\n",
    "TestCoord(tphot_coord_d,egs_coord_d,i)"
   ]
  },
  {
   "attachments": {},
   "cell_type": "markdown",
   "metadata": {},
   "source": [
    "# Write marked duplicates coordinantes to file"
   ]
  },
  {
   "cell_type": "code",
   "execution_count": 23,
   "metadata": {},
   "outputs": [
    {
     "name": "stdout",
     "output_type": "stream",
     "text": [
      "{1424: [1732, 1733], 2566: [1664, 1670], 4585: [1508, 1510], 6144: [1582, 1584], 6530: [1616, 1618], 6981: [1436, 1438], 7131: [1462, 1464], 7336: [1567, 1571], 9218: [1487, 1491], 11843: [571, 577], 12129: [1382, 1383], 12176: [600, 604], 12381: [280, 282], 12477: [244, 246], 12738: [1323, 1327], 12804: [1214, 1215], 13173: [272, 274], 13290: [169, 171], 13354: [206, 208, 218], 13545: [502, 503], 13621: [307, 311], 13808: [101, 108], 13841: [619, 620], 13901: [1183, 1186], 14068: [415, 416], 14344: [1223, 1225], 14370: [81, 83], 14428: [1210, 1212], 14599: [535, 536], 15120: [444, 452], 15143: [198, 202], 15527: [586, 589], 15846: [185, 186], 16155: [1148, 1149], 16305: [357, 365], 16614: [131, 134], 16753: [458, 464], 17150: [496, 497], 17630: [93, 96], 17714: [370, 375], 17863: [891, 895], 18069: [192, 193], 18094: [707, 711], 18166: [425, 429], 18168: [1267, 1268], 18504: [1259, 1260], 18698: [859, 860], 18723: [54, 55, 57], 18826: [354, 356], 18965: [1159, 1163], 18975: [743, 747], 19034: [102, 103], 19436: [1233, 1235], 19521: [315, 322], 19632: [38, 41], 19720: [763, 768], 20268: [11, 13, 16], 20391: [672, 674], 35933: [468, 470], 36058: [405, 406], 37188: [58, 59]}\n"
     ]
    }
   ],
   "source": [
    "def PairUp(dup, set):\n",
    "    # dup : list with duplicate numbers in it\n",
    "    # set : list with no duplicates\n",
    "    # dup and set must be same length and be parallel (index in one list correlates to same index on other list)\n",
    "    pairs = {}\n",
    "    for key in np.unique(dup) : \n",
    "        i = np.where(dup == key)\n",
    "        pairs[key] = list(set[i])\n",
    "    return pairs \n",
    "\n",
    "\n",
    "pairUp_duplicates = PairUp(egs_duplicates_i, tphot_duplicates_i) # egsKey, tphotVal\n",
    "print(pairUp_duplicates)"
   ]
  },
  {
   "cell_type": "code",
   "execution_count": 24,
   "metadata": {},
   "outputs": [
    {
     "name": "stdout",
     "output_type": "stream",
     "text": [
      "{(215.061708, 52.900944): [(215.061722, 52.900933, 'miri6'), (215.061896, 52.900765, 'miri6')], (215.044522, 52.894596): [(215.044535, 52.894589, 'miri6'), (215.044768, 52.894784, 'miri6')], (215.027832, 52.894548): [(215.027718, 52.894445, 'miri6'), (215.027837, 52.894547, 'miri6')], (215.033691, 52.909238): [(215.033689, 52.909234, 'miri6'), (215.033922, 52.909357, 'miri6')], (215.037311, 52.913392): [(215.03731, 52.913383, 'miri6'), (215.037553, 52.913339, 'miri6')], (215.016974, 52.901142): [(215.01698, 52.901149, 'miri6'), (215.017125, 52.901013, 'miri6')], (215.021841, 52.905244): [(215.021603, 52.9052, 'miri6'), (215.021839, 52.905239, 'miri6')], (215.032796, 52.915581): [(215.032782, 52.915564, 'miri6'), (215.033068, 52.915457, 'miri6')], (215.025932, 52.919903): [(215.025918, 52.919893, 'miri6'), (215.026152, 52.920017, 'miri6')], (215.172194, 53.03765): [(215.17185, 53.037536, 'miri1'), (215.172196, 53.037648, 'miri1')], (215.001349, 52.918369): [(215.001375, 52.918359, 'miri3'), (215.001516, 52.918472, 'miri3')], (215.176299, 53.040921): [(215.176025, 53.040701, 'miri1'), (215.176312, 53.040929, 'miri1')], (215.15674, 53.030215): [(215.156705, 53.030095, 'miri1'), (215.156755, 53.030217, 'miri1')], (215.154803, 53.028737): [(215.154766, 53.028952, 'miri1'), (215.154805, 53.028737, 'miri1')], (214.989685, 52.913524): [(214.98949, 52.913618, 'miri3'), (214.989708, 52.913515, 'miri3')], (214.976542, 52.905267): [(214.976331, 52.905206, 'miri3'), (214.97656, 52.905267, 'miri3')], (215.156204, 53.033157): [(215.156112, 53.033346, 'miri1'), (215.156226, 53.033156, 'miri1')], (215.151449, 53.031429): [(215.151428, 53.031246, 'miri1'), (215.151459, 53.031433, 'miri1')], (215.153352, 53.031388): [(215.153307, 53.031595, 'miri1'), (215.153374, 53.03139, 'miri1'), (215.153631, 53.031323, 'miri1')], (215.167571, 53.044001): [(215.167523, 53.043784, 'miri1'), (215.167574, 53.044005, 'miri1')], (215.15773, 53.035987): [(215.157743, 53.035985, 'miri1'), (215.157935, 53.035874, 'miri1')], (215.147645, 53.031261): [(215.147462, 53.031054, 'miri1'), (215.147662, 53.031261, 'miri1')], (215.178542, 53.053332): [(215.178541, 53.053336, 'miri1'), (215.178634, 53.05315, 'miri1')], (214.973248, 52.90764): [(214.973269, 52.907639, 'miri3'), (214.973546, 52.907664, 'miri3')], (215.162897, 53.043258): [(215.162908, 53.043264, 'miri1'), (215.162935, 53.043163, 'miri1')], (214.976879, 52.913108): [(214.976885, 52.9131, 'miri3'), (214.977122, 52.913102, 'miri3')], (215.146058, 53.032749): [(215.146078, 53.032751, 'miri1'), (215.146218, 53.032643, 'miri1')], (214.97621, 52.912554): [(214.976044, 52.912789, 'miri3'), (214.97621, 52.912547, 'miri3')], (215.169036, 53.049579): [(215.169039, 53.049584, 'miri1'), (215.169075, 53.049354, 'miri1')], (215.164252, 53.050298): [(215.163791, 53.050283, 'miri1'), (215.164257, 53.050304, 'miri1')], (215.152848, 53.04143): [(215.152871, 53.041431, 'miri1'), (215.153061, 53.04156, 'miri1')], (215.173433, 53.058707): [(215.173334, 53.058711, 'miri1'), (215.173537, 53.058734, 'miri1')], (215.152298, 53.045556): [(215.152275, 53.045797, 'miri1'), (215.15231, 53.045551, 'miri1')], (214.970314, 52.918069): [(214.970313, 52.918062, 'miri3'), (214.970314, 52.918267, 'miri3')], (215.160332, 53.052309): [(215.160081, 53.052133, 'miri1'), (215.160351, 53.052316, 'miri1')], (215.149492, 53.046517): [(215.149251, 53.046634, 'miri1'), (215.14951, 53.046523, 'miri1')], (215.164908, 53.059038): [(215.164646, 53.059082, 'miri1'), (215.164906, 53.059038, 'miri1')], (215.167399, 53.061723): [(215.167364, 53.061473, 'miri1'), (215.167387, 53.06172, 'miri1')], (215.146882, 53.050156): [(215.146743, 53.050335, 'miri1'), (215.146895, 53.05016, 'miri1')], (215.160977, 53.061229): [(215.160653, 53.061381, 'miri1'), (215.160963, 53.061236, 'miri1')], (215.071816, 52.997618): [(215.071838, 52.997616, 'miri2'), (215.072021, 52.997494, 'miri2')], (215.152592, 53.057055): [(215.152608, 53.057058, 'miri1'), (215.152643, 53.056874, 'miri1')], (215.055171, 52.988166): [(215.054852, 52.988212, 'miri2'), (215.055174, 52.988171, 'miri2')], (215.163327, 53.065112): [(215.163203, 53.064907, 'miri1'), (215.163306, 53.065123, 'miri1')], (214.9817, 52.937077): [(214.981667, 52.937274, 'miri3'), (214.981726, 52.937076, 'miri3')], (214.981151, 52.937913): [(214.981174, 52.937915, 'miri3'), (214.981295, 52.938077, 'miri3')], (215.069727, 53.001581): [(215.069741, 53.001664, 'miri2'), (215.069744, 53.001575, 'miri2')], (215.143667, 53.053068): [(215.143506, 53.053214, 'miri1'), (215.143672, 53.053066, 'miri1'), (215.143897, 53.053199, 'miri1')], (215.160092, 53.064448): [(215.160026, 53.064625, 'miri1'), (215.160067, 53.064462, 'miri1')], (214.971265, 52.932035): [(214.971281, 52.932024, 'miri3'), (214.971546, 52.932173, 'miri3')], (215.060859, 52.995258): [(215.060866, 52.995268, 'miri2'), (215.061104, 52.995419, 'miri2')], (215.147613, 53.058251): [(215.147466, 53.058087, 'miri1'), (215.147621, 53.058255, 'miri1')], (214.97816, 52.940277): [(214.978042, 52.940439, 'miri3'), (214.978188, 52.940286, 'miri3')], (215.158558, 53.067537): [(215.158182, 53.067442, 'miri1'), (215.158543, 53.067539, 'miri1')], (215.141954, 53.057755): [(215.141898, 53.057548, 'miri1'), (215.141967, 53.057752, 'miri1')], (215.062994, 53.001668): [(215.062764, 53.001498, 'miri2'), (215.063003, 53.001666, 'miri2')], (215.135778, 53.055631): [(215.135509, 53.055473, 'miri1'), (215.135781, 53.055618, 'miri1'), (215.13613, 53.055511, 'miri1')], (215.046103, 52.993277): [(215.045866, 52.993316, 'miri2'), (215.046105, 52.993287, 'miri2')], (215.165328, 53.053441): [(215.165192, 53.053334, 'miri1'), (215.165326, 53.053446, 'miri1')], (215.162719, 53.054385): [(215.162696, 53.054219, 'miri1'), (215.162719, 53.054392, 'miri1')], (215.144027, 53.060616): [(215.143971, 53.060365, 'miri1'), (215.14402, 53.060623, 'miri1')]}\n"
     ]
    }
   ],
   "source": [
    "# tphot ra and dec\n",
    "ra_t  = np.array(tphot_data['ra'])\n",
    "dec_t = np.array(tphot_data['dec'])\n",
    "field = np.array(tphot_data['field'])\n",
    "# egs ra and dec \n",
    "ra_egs  = np.array(egs_f22_data['RA'][0])[egs_f22_unique_i]\n",
    "dec_egs = np.array(egs_f22_data['DEC'][0])[egs_f22_unique_i]\n",
    "\n",
    "pairUp_duplicates_coordinants = {}\n",
    "for key,val in pairUp_duplicates.items() : \n",
    "    # translate key to coordninates\n",
    "    egsCoord = (ra_egs[key], dec_egs[key])\n",
    "    # translate values to coordinants \n",
    "    tphotCoords = []\n",
    "    for i in val : \n",
    "        tphotCoords.append( (ra_t[i], dec_t[i], field[i]) )\n",
    "    # add to dictionary \n",
    "    pairUp_duplicates_coordinants[egsCoord] = tphotCoords\n",
    "\n",
    "print(pairUp_duplicates_coordinants)\n"
   ]
  },
  {
   "cell_type": "code",
   "execution_count": 25,
   "metadata": {},
   "outputs": [],
   "source": [
    "# write all duplicate coordinantes to file \n",
    "with open('tphotCoord_egs_duplicate_galaxies.txt', 'w') as file:\n",
    "    file.write(str(pairUp_duplicates_coordinants))"
   ]
  },
  {
   "cell_type": "markdown",
   "metadata": {},
   "source": [
    "# Build Catalog"
   ]
  },
  {
   "cell_type": "code",
   "execution_count": 26,
   "metadata": {},
   "outputs": [
    {
     "name": "stdout",
     "output_type": "stream",
     "text": [
      "1569\n",
      "1569\n",
      "1569\n"
     ]
    }
   ],
   "source": [
    "# helper indexing --- yes I tested that these index arrays all align correctly (11/8/22)\n",
    "tphot_i     = tphot_unique_i\n",
    "egs_f22_i   = egs_f22_unique_i[egs_unique_i] \n",
    "egs_fir_i   = egs_fir_unique_i[egs_unique_i]\n",
    "\n",
    "# verify that all lengths match\n",
    "print(len(tphot_i))\n",
    "print(len(egs_f22_i))\n",
    "print(len(egs_fir_i))\n",
    "\n",
    "# save number of matches \n",
    "n_matches = len(tphot_i)"
   ]
  },
  {
   "cell_type": "code",
   "execution_count": 27,
   "metadata": {},
   "outputs": [],
   "source": [
    "# convert astropy table to pandas dataframe (does not work for egs_f22_data, dimension issues...)\n",
    "tphot_df   = tphot_data.to_pandas()\n",
    "egs_fir_df = egs_fir_data.to_pandas()"
   ]
  },
  {
   "cell_type": "code",
   "execution_count": 28,
   "metadata": {},
   "outputs": [],
   "source": [
    "# # Make egs f22 into a dataframe \n",
    "# get columns \n",
    "egs_f22_cols_DFPREP = []\n",
    "for col in egs_f22_cols :\n",
    "    egs_f22_cols_DFPREP.append(col)\n",
    "# get data\n",
    "egs_f22_data_DFPREP = []\n",
    "for col in egs_f22_data[0]:\n",
    "    egs_f22_data_DFPREP.append(col)\n",
    "egs_f22_data_DFPREP = np.array(egs_f22_data_DFPREP).T # transpose to access rows\n",
    "# make dataframe \n",
    "egs_f22_df = pd.DataFrame(data=egs_f22_data_DFPREP, columns=egs_f22_cols_DFPREP)"
   ]
  },
  {
   "cell_type": "code",
   "execution_count": 29,
   "metadata": {},
   "outputs": [],
   "source": [
    "# rename columns\n",
    "egs_f22_df = egs_f22_df.rename(columns={'ID':'ID_EGSF22'})\n",
    "egs_fir_df = egs_fir_df.rename(columns={'ID':'ID_EGSFIR'})"
   ]
  },
  {
   "cell_type": "code",
   "execution_count": 30,
   "metadata": {},
   "outputs": [],
   "source": [
    "# get matches soureces for dfs\n",
    "tphot_df_matched   = tphot_df.iloc[tphot_i]\n",
    "egs_f22_df_matched = egs_f22_df.iloc[egs_f22_i]\n",
    "egs_fir_df_matched = egs_fir_df.iloc[egs_fir_i]"
   ]
  },
  {
   "cell_type": "code",
   "execution_count": 31,
   "metadata": {},
   "outputs": [
    {
     "name": "stdout",
     "output_type": "stream",
     "text": [
      "(1569, 136)\n"
     ]
    }
   ],
   "source": [
    "# concatenate tables horizontally\n",
    "full_df = pd.concat(\n",
    "        [tphot_df_matched.reset_index(drop=True), \n",
    "        egs_f22_df_matched.reset_index(drop=True), \n",
    "        egs_fir_df_matched.reset_index(drop=True)],\n",
    "        axis=1,\n",
    "    )\n",
    "\n",
    "print(full_df.shape) # verify shape"
   ]
  },
  {
   "cell_type": "code",
   "execution_count": 32,
   "metadata": {},
   "outputs": [],
   "source": [
    "# # print columns \n",
    "# for col in full_df.columns:\n",
    "#     print(col)"
   ]
  },
  {
   "cell_type": "code",
   "execution_count": 33,
   "metadata": {},
   "outputs": [],
   "source": [
    "wantedCols = [\n",
    "    # ========================  tphot (all cols)\n",
    "    'field',                    \n",
    "    'ra', \n",
    "    'dec', \n",
    "    'f560w_uJy', \n",
    "    'f560w_uJy_err', \n",
    "    'f770w_uJy', \n",
    "    'f770w_uJy_err', \n",
    "    'f1000w_uJy', \n",
    "    'f1000w_uJy_err', \n",
    "    'f1280w_uJy', \n",
    "    'f1280w_uJy_err', \n",
    "    'f1500w_uJy', \n",
    "    'f1500w_uJy_err', \n",
    "    'f1800w_uJy', \n",
    "    'f1800w_uJy_err', \n",
    "    'f2100w_uJy', \n",
    "    'f2100w_uJy_err',\n",
    "    # ========================  egs f22\n",
    "    'ID_EGSF22',\n",
    "    'F36',\n",
    "    'F45',\n",
    "    'ZA',\n",
    "    # ========================  egs fir\n",
    "    'ID_EGSFIR',\n",
    "    'Mstar',        # lg(solMass)   S17\t\t\tStellar mass measurement from the median of the linear value of the stellar mass measurements obtained taking into account nebular emission contamination; in Chabrier IMF \n",
    "    'Fch1',\t\t    # µJy\t\t\tS17\t\t\tSpitzer IRAC 3.6µm flux\n",
    "    'dFch1',        # µJy\t\t\tS17\t\t\tSpitzer IRAC 3.6µm flux error\n",
    "    'Fch2',\t\t    # µJy\t\t\tS17\t\t\tSpitzer IRAC 4.5µm flux\n",
    "    'dFch2',\t\t# µJy\t\t\tS17\t\t\tSpitzer IRAC 4.5µm flux error\n",
    "    'Fch3',\t\t    # µJy\t\t\tS17\t\t\tSpitzer IRAC 5.8µm flux\n",
    "    'dFch3',\t\t# µJy\t\t\tS17\t\t\tSpitzer IRAC 5.8µm flux error\n",
    "    'Fch4',\t\t    # µJy\t\t\tS17\t\t\tSpitzer IRAC 8.0µm flux\n",
    "    'dFch4',\t\t# µJy\t\t\tS17\t\t\tSpitzer IRAC 8.0µm flux error\n",
    "    'F24',  \t\t# µJy\t\t\t...\t\t\tSuper-deblended Spitzer/MIPS 24µm flux\n",
    "    'dF24',\t\t    # µJy\t\t\t...\t\t\tSuper-deblended Spitzer/MIPS 24µm flux error\n",
    "    'Q24',  \t\t# ...\t\t\t...\t\t\tFit quality\t3= good (fitted with 0.5 source/beam prior cat); 2=fair (fitted with 1 source/beam prior cat, SNR<3); 1=poor (fitted with 2 source/beam prior cat, SNR<3)\n",
    "    'F100',\t\t    # mJy\t\t\t...\t\t\tSuper-deblended Herschel/PACS 100µm flux\n",
    "    'dF100',\t\t# mJy\t\t\t...\t\t\tSuper-deblended Herschel/PACS 100µm flux error\n",
    "    'Q100',\t\t    # ...\t\t\t...\t\t\tFit quality\t3= good (fitted with 0.5 source/beam prior cat); 2=fair (fitted with 1 source/beam prior cat, SNR<3); 1=not fitted\n",
    "    'F160',\t\t    # mJy\t\t\t...\t\t\tSuper-deblended Herschel/PACS 160µm flux\n",
    "    'dF160',\t\t# mJy\t\t\t...\t\t\tSuper-deblended Herschel/PACS 160µm flux error\n",
    "    'Q160',\t\t    # ...\t\t\t...\t\t\tFit quality\t3= good (fitted with 0.5 source/beam prior cat); 2=fair (fitted with 1 source/beam prior cat, SNR<3); 1=not fitted\n",
    "    'F250',\t\t    # mJy\t\t\t...\t\t\tSuper-deblended Herschel/SPIRE 250µm flux\n",
    "    'dF250',\t\t# mJy\t\t\t...\t\t\tSuper-deblended Herschel/SPIRE 250µm flux error\n",
    "    'F350',\t\t    # mJy\t\t\t...\t\t\tSuper-deblended Herschel/SPIRE 350µm flux\n",
    "    'dF350',\t\t# mJy\t\t\t...\t\t\tSuper-deblended Herschel/SPIRE 350µm flux error\n",
    "    'F450',\t\t    # mJy\t\t\t...\t\t\tSuper-deblended JCMT/SCUBA2 450µm flux\n",
    "    'dF450',\t\t# mJy\t\t\t...\t\t\tSuper-deblended JCMT/SCUBA2 450µm flux error\n",
    "    'F500', \t\t# mJy\t\t\t...\t\t\tSuper-deblended Herschel/SPIRE 500µm flux\n",
    "    'dF500',\t\t# mJy\t\t\t...\t\t\tSuper-deblended Herschel/SPIRE 500µm flux error\n",
    "    'F850_sh',      # mJy\t\t\t...\t\t\tSuper-deblended JCMT/SCUBA2 850µm flux; Geach+17 map (shallower)\n",
    "    'dF850_sh',     # mJy\t\t\t...\t\t\tSuper-deblended JCMT/SCUBA2 850µm flux error; Geach+17 map\n",
    "    'F850_d',       # mJy\t\t\t...\t\t\tSuper-deblended JCMT/SCUBA2 850µm flux; Zavala+17 map (deeper)\n",
    "    'dF850_d',      # mJy\t\t\t...\t\t\tSuper-deblended JCMT/SCUBA2 850µm flux error; Zavala+17 map\n",
    "    'F850',\t\t    # mJy\t\t\t...\t\t\tSuper-deblended JCMT/SCUBA2 850µm flux; weighted combination\n",
    "    'dF850',\t\t# mJy\t\t\t...\t\t\tSuper-deblended JCMT/SCUBA2 850µm flux error; weighted combination\n",
    "    'F1100',\t\t# mJy\t\t\t...\t\t\tSuper-deblended ASTE/AzTEC 1100µm flux\n",
    "    'dF1100'        # mJy\t\t\t...\t\t\tSuper-deblended ASTE/AzTEC 1100µm flux error\n",
    "]"
   ]
  },
  {
   "cell_type": "code",
   "execution_count": 34,
   "metadata": {},
   "outputs": [
    {
     "name": "stdout",
     "output_type": "stream",
     "text": [
      "(1569, 56)\n"
     ]
    }
   ],
   "source": [
    "# make table of only wanted columns\n",
    "reduced_df = full_df[wantedCols]\n",
    "print(reduced_df.shape) # verify shape\n",
    "# output table to csv file \n",
    "reduced_df.to_csv('Merged_JWST_and_EGS_photometry.csv', index=False) # what to title table?"
   ]
  }
 ],
 "metadata": {
  "kernelspec": {
   "display_name": "astropy-env",
   "language": "python",
   "name": "python3"
  },
  "language_info": {
   "codemirror_mode": {
    "name": "ipython",
    "version": 3
   },
   "file_extension": ".py",
   "mimetype": "text/x-python",
   "name": "python",
   "nbconvert_exporter": "python",
   "pygments_lexer": "ipython3",
   "version": "3.9.15"
  },
  "orig_nbformat": 4,
  "vscode": {
   "interpreter": {
    "hash": "11ae23b3a1f5c6236de2b9e9159c6d39bb68b91427dfd66e2220bdf6faa7530f"
   }
  }
 },
 "nbformat": 4,
 "nbformat_minor": 2
}
