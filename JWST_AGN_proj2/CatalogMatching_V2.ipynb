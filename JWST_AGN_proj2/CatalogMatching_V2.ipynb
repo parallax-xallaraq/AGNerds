{
 "cells": [
  {
   "cell_type": "code",
   "execution_count": 2,
   "metadata": {},
   "outputs": [],
   "source": [
    "## imports\n",
    "# astronomy\n",
    "from astropy.io import fits\n",
    "from astropy.io import ascii\n",
    "from astropy.table import Table\n",
    "from astropy.coordinates import SkyCoord\n",
    "import astropy.units as u\n",
    "# plotting\n",
    "import matplotlib.pyplot as plt\n",
    "# data \n",
    "import numpy as np\n",
    "import pandas as pd "
   ]
  },
  {
   "cell_type": "markdown",
   "metadata": {},
   "source": [
    "# Read Data"
   ]
  },
  {
   "cell_type": "code",
   "execution_count": 3,
   "metadata": {},
   "outputs": [],
   "source": [
    "# file paths \n",
    "path_catalogs = 'D:\\\\AstroCatalogs\\\\AGNerds'"
   ]
  },
  {
   "cell_type": "code",
   "execution_count": 4,
   "metadata": {},
   "outputs": [
    {
     "name": "stdout",
     "output_type": "stream",
     "text": [
      "['field', 'ra', 'dec', 'f560w_uJy', 'f560w_uJy_err', 'f770w_uJy', 'f770w_uJy_err', 'f1000w_uJy', 'f1000w_uJy_err', 'f1280w_uJy', 'f1280w_uJy_err', 'f1500w_uJy', 'f1500w_uJy_err', 'f1800w_uJy', 'f1800w_uJy_err', 'f2100w_uJy', 'f2100w_uJy_err']\n"
     ]
    }
   ],
   "source": [
    "# open tphot\n",
    "tphot_data = ascii.read(path_catalogs+'\\\\tphot.cat')\n",
    "tphot_cols = tphot_data.colnames\n",
    "\n",
    "# show table\n",
    "tphot_data.show_in_notebook()\n",
    "print(tphot_cols)"
   ]
  },
  {
   "cell_type": "code",
   "execution_count": 5,
   "metadata": {},
   "outputs": [
    {
     "name": "stdout",
     "output_type": "stream",
     "text": [
      "ID\n",
      "RA\n",
      "DEC\n",
      "CANDELS_RA\n",
      "CANDELS_DEC\n",
      "F606W\n",
      "F814W\n",
      "F105W\n",
      "F125W\n",
      "F140W\n",
      "F160W\n",
      "F36\n",
      "F45\n",
      "DF606W\n",
      "DF814W\n",
      "DF105W\n",
      "DF125W\n",
      "DF140W\n",
      "DF160W\n",
      "DF36\n",
      "DF45\n",
      "ZA\n",
      "ZL68\n",
      "ZU68\n",
      "ZPEAK\n",
      "ZA_NOIRAC\n",
      "ZL68_NOIRAC\n",
      "ZU68_NOIRAC\n",
      "ZPEAK_NOIRAC\n"
     ]
    }
   ],
   "source": [
    "# open EGS F22\n",
    "egs_f22_data = Table.read(path_catalogs+'\\\\EGS_F22.fits')\n",
    "egs_f22_cols = egs_f22_data.columns\n",
    "\n",
    "# print all columns\n",
    "for col in egs_f22_cols:\n",
    "    print(col)"
   ]
  },
  {
   "cell_type": "code",
   "execution_count": 6,
   "metadata": {},
   "outputs": [
    {
     "name": "stdout",
     "output_type": "stream",
     "text": [
      "ID_iau\n",
      "ID\n",
      "RA\n",
      "Decl\n",
      "zphot\n",
      "zp_l68\n",
      "zp_u68\n",
      "zspec\n",
      "Mstar\n",
      "eMstar\n",
      "SNR_IR\n",
      "z_IR\n",
      "ez_IR\n",
      "SFR_IR\n",
      "eSFR_IR\n",
      "FK\n",
      "dFK\n",
      "Fch1\n",
      "dFch1\n",
      "Fch2\n",
      "dFch2\n",
      "Fch3\n",
      "dFch3\n",
      "Fch4\n",
      "dFch4\n",
      "F24\n",
      "dF24\n",
      "Q24\n",
      "F100\n",
      "dF100\n",
      "Q100\n",
      "F160\n",
      "dF160\n",
      "Q160\n",
      "F250\n",
      "dF250\n",
      "F350\n",
      "dF350\n",
      "F450\n",
      "dF450\n",
      "F500\n",
      "dF500\n",
      "F850_sh\n",
      "dF850_sh\n",
      "F850_d\n",
      "dF850_d\n",
      "F850\n",
      "dF850\n",
      "F1100\n",
      "dF1100\n",
      "Q1100\n",
      "F20cm\n",
      "dF20cm\n",
      "xfAGN\n",
      "xeAGN\n",
      "xfTOT\n",
      "xeTOT\n",
      "xf70\n",
      "xe70\n",
      "xf100\n",
      "xe100\n",
      "xf160\n",
      "xe160\n",
      "xf250\n",
      "xe250\n",
      "xf350\n",
      "xe350\n",
      "xf450\n",
      "xe450\n",
      "xf500\n",
      "xe500\n",
      "xf850\n",
      "xe850\n",
      "xf1100\n",
      "xe1100\n",
      "xf1200\n",
      "xe1200\n",
      "xf2000\n",
      "xe2000\n",
      "xf2250\n",
      "xe2250\n",
      "xf20cm\n",
      "xe20cm\n",
      "Ubest\n",
      "chi2_min\n",
      "S_chi2_min\n",
      "R_chi2_min\n",
      "Type_FIR\n",
      "Type_SED\n",
      "Type_AGN\n"
     ]
    }
   ],
   "source": [
    "# open EGS FIR\n",
    "egs_fir_data = Table.read(path_catalogs+'\\\\egs_FIR_photometry_catalog.fits')\n",
    "egs_fir_cols = egs_fir_data.columns\n",
    "\n",
    "# print all columns\n",
    "for col in egs_fir_cols:\n",
    "    print(col)"
   ]
  },
  {
   "cell_type": "markdown",
   "metadata": {},
   "source": [
    "# Functions"
   ]
  },
  {
   "cell_type": "code",
   "execution_count": 7,
   "metadata": {},
   "outputs": [],
   "source": [
    "def RaDec_to_Coord(ra,dec):\n",
    "    return( SkyCoord(ra=ra*u.deg, dec=dec*u.deg) )"
   ]
  },
  {
   "cell_type": "code",
   "execution_count": 8,
   "metadata": {},
   "outputs": [],
   "source": [
    "def GetCoordMatches(coord_cat, coord_c, separation=1.0) : \n",
    "    # match c to catalog \n",
    "    #   idx are indices into catalog that are the closest objects to each of the coordinates in c, \n",
    "    #   d2d are the on-sky distances between them, and \n",
    "    #   d3d are the 3-dimensional distances. \n",
    "    idx, d2d, d3d = coord_c.match_to_catalog_sky(coord_cat) # idx, d2d, d3d = c.match_to_catalog_sky(catalog)\n",
    "\n",
    "    # separation constraint\n",
    "    max_sep = separation * u.arcsec\n",
    "    sep_constraint = d2d < max_sep  # use on 'c'\n",
    "    idx_sep = idx[sep_constraint]   # use on 'catalog'\n",
    "\n",
    "    # Get array of indeces \n",
    "    coordCat_matches = idx_sep\n",
    "    coordC_matches   = np.where(sep_constraint)[0]\n",
    "    \n",
    "    # return matched sources\n",
    "    return(coordCat_matches,coordC_matches)"
   ]
  },
  {
   "cell_type": "code",
   "execution_count": 9,
   "metadata": {},
   "outputs": [],
   "source": [
    "def TestCoord(c1,c2,i):\n",
    "    print('Coordinant 1: ', c1[i]) \n",
    "    print('Coordinant 2: ', c2[i])"
   ]
  },
  {
   "cell_type": "code",
   "execution_count": 10,
   "metadata": {},
   "outputs": [],
   "source": [
    "def GetDuplicatesMask(arr): \n",
    "    # make mask of unique soruces \n",
    "    mask = np.zeros(len(arr), dtype=bool)\n",
    "    mask[np.unique(arr, return_index=True)[1]] = True\n",
    "    # get value of duplicates sources \n",
    "    duplicates = np.unique(arr[~mask])\n",
    "    # set all non-unique sources to False \n",
    "    for dup in duplicates :\n",
    "        mask[np.where(arr == dup)] = False\n",
    "    # return boolean mask of length(arr) that is True for a value that occurs more than once\n",
    "    return(mask)"
   ]
  },
  {
   "cell_type": "markdown",
   "metadata": {},
   "source": [
    "# Match EGS catalogs using RA/DEC"
   ]
  },
  {
   "cell_type": "code",
   "execution_count": 11,
   "metadata": {},
   "outputs": [
    {
     "name": "stdout",
     "output_type": "stream",
     "text": [
      "Number of EGS f22 sources:\t 66783\n",
      "Number of EGS fir sources:\t 41656\n"
     ]
    }
   ],
   "source": [
    "# Get EGS coordinants\n",
    "egs_f22_coord = RaDec_to_Coord(np.array(egs_f22_data['RA'])[0], np.array(egs_f22_data['DEC'])[0])\n",
    "egs_fir_coord = RaDec_to_Coord(np.array(egs_fir_data['RA']),    np.array(egs_fir_data['Decl'])  )\n",
    "\n",
    "# print info\n",
    "print('Number of EGS f22 sources:\\t', len(egs_f22_coord))\n",
    "print('Number of EGS fir sources:\\t', len(egs_fir_coord))"
   ]
  },
  {
   "cell_type": "code",
   "execution_count": 12,
   "metadata": {},
   "outputs": [
    {
     "name": "stdout",
     "output_type": "stream",
     "text": [
      "Number of egsF22 matches:\t 40850\n",
      "Number of egsFIR matches:\t 40850\n"
     ]
    }
   ],
   "source": [
    "# match \n",
    "egs_f22_toFIR_match, egs_fir_toF22_match = GetCoordMatches(egs_f22_coord,egs_fir_coord) # array of indeces to full egs catalog\n",
    "\n",
    "# get matches\n",
    "egs_f22_coord_matches = egs_f22_coord[egs_f22_toFIR_match]\n",
    "egs_fir_coord_matches = egs_fir_coord[egs_fir_toF22_match]\n",
    "\n",
    "# print info \n",
    "print('Number of egsF22 matches:\\t',  len(egs_f22_coord_matches))\n",
    "print('Number of egsFIR matches:\\t',  len(egs_fir_coord_matches))"
   ]
  },
  {
   "cell_type": "code",
   "execution_count": 13,
   "metadata": {},
   "outputs": [
    {
     "name": "stdout",
     "output_type": "stream",
     "text": [
      "Coordinant 1:  <SkyCoord (ICRS): (ra, dec) in deg\n",
      "    (215.267114, 53.027554)>\n",
      "Coordinant 2:  <SkyCoord (ICRS): (ra, dec) in deg\n",
      "    (215.26714, 53.02755)>\n"
     ]
    }
   ],
   "source": [
    "TestCoord(egs_f22_coord_matches,egs_fir_coord_matches,1)"
   ]
  },
  {
   "cell_type": "markdown",
   "metadata": {},
   "source": [
    "# Get Unique sources from EGS"
   ]
  },
  {
   "cell_type": "code",
   "execution_count": 14,
   "metadata": {},
   "outputs": [],
   "source": [
    "# get mask of egs objects that occur more than once \n",
    "egs_duplicatesMask = GetDuplicatesMask(egs_f22_toFIR_match)"
   ]
  },
  {
   "cell_type": "code",
   "execution_count": 15,
   "metadata": {},
   "outputs": [],
   "source": [
    "# apply mask to get unique and duplicate sources\n",
    "egs_f22_unique_i     = egs_f22_toFIR_match[egs_duplicatesMask]\n",
    "egs_f22_duplicates_i = egs_f22_toFIR_match[~egs_duplicatesMask]\n",
    "# apply mask to get unique and duplicate sources\n",
    "egs_fir_unique_i     = egs_fir_toF22_match[egs_duplicatesMask]\n",
    "egs_fir_duplicates_i = egs_fir_toF22_match[~egs_duplicatesMask]"
   ]
  },
  {
   "cell_type": "code",
   "execution_count": 16,
   "metadata": {},
   "outputs": [
    {
     "name": "stdout",
     "output_type": "stream",
     "text": [
      "Number of unique:\t 40571\n",
      "Number of duplicates:\t 279\n"
     ]
    }
   ],
   "source": [
    "# print info\n",
    "print('Number of unique:\\t', len(egs_f22_unique_i))\n",
    "print('Number of duplicates:\\t', len(egs_f22_duplicates_i))"
   ]
  },
  {
   "cell_type": "markdown",
   "metadata": {},
   "source": [
    "# Match tphot to EGS f22 using RA/DEC"
   ]
  },
  {
   "cell_type": "code",
   "execution_count": 17,
   "metadata": {},
   "outputs": [
    {
     "name": "stdout",
     "output_type": "stream",
     "text": [
      "Number of tphot sources:\t 1734\n",
      "Number of egs sources:\t\t 40571\n"
     ]
    }
   ],
   "source": [
    "# get coordinants\n",
    "tphot_coord = RaDec_to_Coord(np.array(tphot_data['ra']), np.array(tphot_data['dec']) )\n",
    "egs_coord   = RaDec_to_Coord(np.array(egs_f22_data['RA'] )[0][egs_f22_unique_i], np.array(egs_f22_data['DEC'])[0][egs_f22_unique_i])\n",
    "\n",
    "# print info \n",
    "print('Number of tphot sources:\\t', len(tphot_coord))\n",
    "print('Number of egs sources:\\t\\t',   len(egs_coord))"
   ]
  },
  {
   "cell_type": "code",
   "execution_count": 18,
   "metadata": {},
   "outputs": [
    {
     "name": "stdout",
     "output_type": "stream",
     "text": [
      "Number of tphot matches:\t 1655\n",
      "Number of EGS matches:\t\t 1655\n"
     ]
    }
   ],
   "source": [
    "# match \n",
    "tphot_toEGS_match, egs_toTphot_match = GetCoordMatches(tphot_coord,egs_coord) # array of indeces to full catalog \n",
    "\n",
    "# get matches\n",
    "tphot_coord_matches = tphot_coord[tphot_toEGS_match]\n",
    "egs_coord_matches = egs_coord[egs_toTphot_match]\n",
    "\n",
    "# print length  \n",
    "print('Number of tphot matches:\\t', len(tphot_coord_matches))\n",
    "print('Number of EGS matches:\\t\\t', len(egs_coord_matches))"
   ]
  },
  {
   "cell_type": "code",
   "execution_count": 19,
   "metadata": {},
   "outputs": [
    {
     "name": "stdout",
     "output_type": "stream",
     "text": [
      "Coordinant 1:  <SkyCoord (ICRS): (ra, dec) in deg\n",
      "    (215.061606, 52.901508)>\n",
      "Coordinant 2:  <SkyCoord (ICRS): (ra, dec) in deg\n",
      "    (215.061586, 52.901517)>\n"
     ]
    }
   ],
   "source": [
    "TestCoord(tphot_coord_matches,egs_coord_matches,1)"
   ]
  },
  {
   "cell_type": "markdown",
   "metadata": {},
   "source": [
    "# Find Duplicate RA/DEC Matches"
   ]
  },
  {
   "cell_type": "code",
   "execution_count": 20,
   "metadata": {},
   "outputs": [],
   "source": [
    "# get mask of tphot objects that occur more than once \n",
    "tphot_duplicateMask = GetDuplicatesMask(tphot_toEGS_match) # mask for array of indeces to full catalog"
   ]
  },
  {
   "cell_type": "code",
   "execution_count": 21,
   "metadata": {},
   "outputs": [],
   "source": [
    "# apply mask to get unique and duplicate sources\n",
    "tphot_unique_i     = tphot_toEGS_match[tphot_duplicateMask]     # array of indeces to full catalog \n",
    "tphot_duplicates_i = tphot_toEGS_match[~tphot_duplicateMask]\n",
    "# apply mask to get unique and duplicate sources\n",
    "egs_unique_i       = egs_toTphot_match[tphot_duplicateMask]\n",
    "egs_duplicates_i   = egs_toTphot_match[~tphot_duplicateMask]"
   ]
  },
  {
   "cell_type": "code",
   "execution_count": 22,
   "metadata": {},
   "outputs": [
    {
     "name": "stdout",
     "output_type": "stream",
     "text": [
      "Number of unique:\t 1608\n",
      "Number of duplicates:\t 47\n"
     ]
    }
   ],
   "source": [
    "# print info\n",
    "print('Number of unique:\\t', len(egs_unique_i))\n",
    "print('Number of duplicates:\\t', len(egs_duplicates_i))"
   ]
  },
  {
   "cell_type": "code",
   "execution_count": 38,
   "metadata": {},
   "outputs": [
    {
     "name": "stdout",
     "output_type": "stream",
     "text": [
      "Coordinant 1:  <SkyCoord (ICRS): (ra, dec) in deg\n",
      "    (215.011364, 52.905286)>\n",
      "Coordinant 2:  <SkyCoord (ICRS): (ra, dec) in deg\n",
      "    (215.011755, 52.905199)>\n"
     ]
    }
   ],
   "source": [
    "# get coord values \n",
    "i=1\n",
    "tphot_coord_d = tphot_coord[tphot_duplicates_i]\n",
    "egs_coord_d = egs_coord[egs_duplicates_i]\n",
    "TestCoord(tphot_coord_d,egs_coord_d,i)"
   ]
  },
  {
   "attachments": {},
   "cell_type": "markdown",
   "metadata": {},
   "source": [
    "# Write marked duplicates coordinantes to file"
   ]
  },
  {
   "cell_type": "code",
   "execution_count": 37,
   "metadata": {},
   "outputs": [],
   "source": [
    "# write all duplicate coordinantes to file \n",
    "with open('tphotCoord_egs_duplicate_galaxies.csv', 'w') as file:\n",
    "    # get data\n",
    "    field   = np.array(tphot_data['field'])[tphot_duplicates_i]\n",
    "    ra_t    = np.array(tphot_data['ra'])[tphot_duplicates_i]\n",
    "    dec_t   = np.array(tphot_data['dec'])[tphot_duplicates_i]\n",
    "    ra_egs  = np.array(egs_f22_data['RA'][0])[egs_f22_unique_i][egs_duplicates_i]\n",
    "    dec_egs = np.array(egs_f22_data['DEC'][0])[egs_f22_unique_i][egs_duplicates_i]\n",
    "    # write column names\n",
    "    file.write('Field,RA_tphot,Dec_tphot,RA_egs,Dec_egs\\n')\n",
    "    # write field and coordinates\n",
    "    for i in range(len(field)):\n",
    "        file.write(str(field[i])+','+str(ra_t[i])+','+str(dec_t[i])+','+str(ra_egs[i])+','+str(dec_egs[i])+'\\n' )"
   ]
  },
  {
   "cell_type": "markdown",
   "metadata": {},
   "source": [
    "# Build Catalog"
   ]
  },
  {
   "cell_type": "code",
   "execution_count": 26,
   "metadata": {},
   "outputs": [
    {
     "name": "stdout",
     "output_type": "stream",
     "text": [
      "1608\n",
      "1608\n",
      "1608\n"
     ]
    }
   ],
   "source": [
    "# helper indexing --- yes I tested that these index arrays all align correctly (11/8/22)\n",
    "tphot_i     = tphot_unique_i\n",
    "egs_f22_i   = egs_f22_unique_i[egs_unique_i] \n",
    "egs_fir_i   = egs_fir_unique_i[egs_unique_i]\n",
    "\n",
    "# verify that all lengths match\n",
    "print(len(tphot_i))\n",
    "print(len(egs_f22_i))\n",
    "print(len(egs_fir_i))\n",
    "\n",
    "# save number of matches \n",
    "n_matches = len(tphot_i)"
   ]
  },
  {
   "cell_type": "code",
   "execution_count": 27,
   "metadata": {},
   "outputs": [],
   "source": [
    "# convert astropy table to pandas dataframe (does not work for egs_f22_data, dimension issues...)\n",
    "tphot_df   = tphot_data.to_pandas()\n",
    "egs_fir_df = egs_fir_data.to_pandas()"
   ]
  },
  {
   "cell_type": "code",
   "execution_count": 28,
   "metadata": {},
   "outputs": [],
   "source": [
    "# # Make egs f22 into a dataframe \n",
    "# get columns \n",
    "egs_f22_cols_DFPREP = []\n",
    "for col in egs_f22_cols :\n",
    "    egs_f22_cols_DFPREP.append(col)\n",
    "# get data\n",
    "egs_f22_data_DFPREP = []\n",
    "for col in egs_f22_data[0]:\n",
    "    egs_f22_data_DFPREP.append(col)\n",
    "egs_f22_data_DFPREP = np.array(egs_f22_data_DFPREP).T # transpose to access rows\n",
    "# make dataframe \n",
    "egs_f22_df = pd.DataFrame(data=egs_f22_data_DFPREP, columns=egs_f22_cols_DFPREP)"
   ]
  },
  {
   "cell_type": "code",
   "execution_count": 29,
   "metadata": {},
   "outputs": [],
   "source": [
    "# rename columns\n",
    "egs_f22_df = egs_f22_df.rename(columns={'ID':'ID_EGSF22'})\n",
    "egs_fir_df = egs_fir_df.rename(columns={'ID':'ID_EGSFIR'})"
   ]
  },
  {
   "cell_type": "code",
   "execution_count": 30,
   "metadata": {},
   "outputs": [],
   "source": [
    "# get matches soureces for dfs\n",
    "tphot_df_matched   = tphot_df.iloc[tphot_i]\n",
    "egs_f22_df_matched = egs_f22_df.iloc[egs_f22_i]\n",
    "egs_fir_df_matched = egs_fir_df.iloc[egs_fir_i]"
   ]
  },
  {
   "cell_type": "code",
   "execution_count": 31,
   "metadata": {},
   "outputs": [
    {
     "name": "stdout",
     "output_type": "stream",
     "text": [
      "(1608, 136)\n"
     ]
    }
   ],
   "source": [
    "# concatenate tables horizontally\n",
    "full_df = pd.concat(\n",
    "        [tphot_df_matched.reset_index(drop=True), \n",
    "        egs_f22_df_matched.reset_index(drop=True), \n",
    "        egs_fir_df_matched.reset_index(drop=True)],\n",
    "        axis=1,\n",
    "    )\n",
    "\n",
    "print(full_df.shape) # verify shape"
   ]
  },
  {
   "cell_type": "code",
   "execution_count": 32,
   "metadata": {},
   "outputs": [],
   "source": [
    "# # print columns \n",
    "# for col in full_df.columns:\n",
    "#     print(col)"
   ]
  },
  {
   "cell_type": "code",
   "execution_count": 33,
   "metadata": {},
   "outputs": [],
   "source": [
    "wantedCols = [\n",
    "    # ========================  tphot (all cols)\n",
    "    'field',                    \n",
    "    'ra', \n",
    "    'dec', \n",
    "    'f560w_uJy', \n",
    "    'f560w_uJy_err', \n",
    "    'f770w_uJy', \n",
    "    'f770w_uJy_err', \n",
    "    'f1000w_uJy', \n",
    "    'f1000w_uJy_err', \n",
    "    'f1280w_uJy', \n",
    "    'f1280w_uJy_err', \n",
    "    'f1500w_uJy', \n",
    "    'f1500w_uJy_err', \n",
    "    'f1800w_uJy', \n",
    "    'f1800w_uJy_err', \n",
    "    'f2100w_uJy', \n",
    "    'f2100w_uJy_err',\n",
    "    # ========================  egs f22\n",
    "    'ID_EGSF22',\n",
    "    'F36',\n",
    "    'F45',\n",
    "    'ZA',\n",
    "    # ========================  egs fir\n",
    "    'ID_EGSFIR',\n",
    "    'Mstar',        # lg(solMass)   S17\t\t\tStellar mass measurement from the median of the linear value of the stellar mass measurements obtained taking into account nebular emission contamination; in Chabrier IMF \n",
    "    'Fch1',\t\t    # µJy\t\t\tS17\t\t\tSpitzer IRAC 3.6µm flux\n",
    "    'dFch1',        # µJy\t\t\tS17\t\t\tSpitzer IRAC 3.6µm flux error\n",
    "    'Fch2',\t\t    # µJy\t\t\tS17\t\t\tSpitzer IRAC 4.5µm flux\n",
    "    'dFch2',\t\t# µJy\t\t\tS17\t\t\tSpitzer IRAC 4.5µm flux error\n",
    "    'Fch3',\t\t    # µJy\t\t\tS17\t\t\tSpitzer IRAC 5.8µm flux\n",
    "    'dFch3',\t\t# µJy\t\t\tS17\t\t\tSpitzer IRAC 5.8µm flux error\n",
    "    'Fch4',\t\t    # µJy\t\t\tS17\t\t\tSpitzer IRAC 8.0µm flux\n",
    "    'dFch4',\t\t# µJy\t\t\tS17\t\t\tSpitzer IRAC 8.0µm flux error\n",
    "    'F24',  \t\t# µJy\t\t\t...\t\t\tSuper-deblended Spitzer/MIPS 24µm flux\n",
    "    'dF24',\t\t    # µJy\t\t\t...\t\t\tSuper-deblended Spitzer/MIPS 24µm flux error\n",
    "    'Q24',  \t\t# ...\t\t\t...\t\t\tFit quality\t3= good (fitted with 0.5 source/beam prior cat); 2=fair (fitted with 1 source/beam prior cat, SNR<3); 1=poor (fitted with 2 source/beam prior cat, SNR<3)\n",
    "    'F100',\t\t    # mJy\t\t\t...\t\t\tSuper-deblended Herschel/PACS 100µm flux\n",
    "    'dF100',\t\t# mJy\t\t\t...\t\t\tSuper-deblended Herschel/PACS 100µm flux error\n",
    "    'Q100',\t\t    # ...\t\t\t...\t\t\tFit quality\t3= good (fitted with 0.5 source/beam prior cat); 2=fair (fitted with 1 source/beam prior cat, SNR<3); 1=not fitted\n",
    "    'F160',\t\t    # mJy\t\t\t...\t\t\tSuper-deblended Herschel/PACS 160µm flux\n",
    "    'dF160',\t\t# mJy\t\t\t...\t\t\tSuper-deblended Herschel/PACS 160µm flux error\n",
    "    'Q160',\t\t    # ...\t\t\t...\t\t\tFit quality\t3= good (fitted with 0.5 source/beam prior cat); 2=fair (fitted with 1 source/beam prior cat, SNR<3); 1=not fitted\n",
    "    'F250',\t\t    # mJy\t\t\t...\t\t\tSuper-deblended Herschel/SPIRE 250µm flux\n",
    "    'dF250',\t\t# mJy\t\t\t...\t\t\tSuper-deblended Herschel/SPIRE 250µm flux error\n",
    "    'F350',\t\t    # mJy\t\t\t...\t\t\tSuper-deblended Herschel/SPIRE 350µm flux\n",
    "    'dF350',\t\t# mJy\t\t\t...\t\t\tSuper-deblended Herschel/SPIRE 350µm flux error\n",
    "    'F450',\t\t    # mJy\t\t\t...\t\t\tSuper-deblended JCMT/SCUBA2 450µm flux\n",
    "    'dF450',\t\t# mJy\t\t\t...\t\t\tSuper-deblended JCMT/SCUBA2 450µm flux error\n",
    "    'F500', \t\t# mJy\t\t\t...\t\t\tSuper-deblended Herschel/SPIRE 500µm flux\n",
    "    'dF500',\t\t# mJy\t\t\t...\t\t\tSuper-deblended Herschel/SPIRE 500µm flux error\n",
    "    'F850_sh',      # mJy\t\t\t...\t\t\tSuper-deblended JCMT/SCUBA2 850µm flux; Geach+17 map (shallower)\n",
    "    'dF850_sh',     # mJy\t\t\t...\t\t\tSuper-deblended JCMT/SCUBA2 850µm flux error; Geach+17 map\n",
    "    'F850_d',       # mJy\t\t\t...\t\t\tSuper-deblended JCMT/SCUBA2 850µm flux; Zavala+17 map (deeper)\n",
    "    'dF850_d',      # mJy\t\t\t...\t\t\tSuper-deblended JCMT/SCUBA2 850µm flux error; Zavala+17 map\n",
    "    'F850',\t\t    # mJy\t\t\t...\t\t\tSuper-deblended JCMT/SCUBA2 850µm flux; weighted combination\n",
    "    'dF850',\t\t# mJy\t\t\t...\t\t\tSuper-deblended JCMT/SCUBA2 850µm flux error; weighted combination\n",
    "    'F1100',\t\t# mJy\t\t\t...\t\t\tSuper-deblended ASTE/AzTEC 1100µm flux\n",
    "    'dF1100'        # mJy\t\t\t...\t\t\tSuper-deblended ASTE/AzTEC 1100µm flux error\n",
    "]"
   ]
  },
  {
   "cell_type": "code",
   "execution_count": 34,
   "metadata": {},
   "outputs": [
    {
     "name": "stdout",
     "output_type": "stream",
     "text": [
      "(1608, 56)\n"
     ]
    }
   ],
   "source": [
    "# make table of only wanted columns\n",
    "reduced_df = full_df[wantedCols]\n",
    "print(reduced_df.shape) # verify shape\n",
    "# output table to csv file \n",
    "reduced_df.to_csv('Merged_JWST_and_EGS_photometry.csv', index=False) # what to title table?"
   ]
  }
 ],
 "metadata": {
  "kernelspec": {
   "display_name": "astropy-env",
   "language": "python",
   "name": "python3"
  },
  "language_info": {
   "codemirror_mode": {
    "name": "ipython",
    "version": 3
   },
   "file_extension": ".py",
   "mimetype": "text/x-python",
   "name": "python",
   "nbconvert_exporter": "python",
   "pygments_lexer": "ipython3",
   "version": "3.9.15"
  },
  "orig_nbformat": 4,
  "vscode": {
   "interpreter": {
    "hash": "11ae23b3a1f5c6236de2b9e9159c6d39bb68b91427dfd66e2220bdf6faa7530f"
   }
  }
 },
 "nbformat": 4,
 "nbformat_minor": 2
}
