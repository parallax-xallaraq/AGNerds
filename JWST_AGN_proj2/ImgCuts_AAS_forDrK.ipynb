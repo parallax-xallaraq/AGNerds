{
 "cells": [
  {
   "cell_type": "code",
   "execution_count": 6,
   "metadata": {},
   "outputs": [],
   "source": [
    "## imports \n",
    "# astro\n",
    "from    astropy.wcs             import WCS\n",
    "from    astropy.io              import fits\n",
    "import  astropy.units           as u\n",
    "from    astropy.nddata          import Cutout2D\n",
    "from    astropy.coordinates     import SkyCoord\n",
    "from    astropy.visualization   import (MinMaxInterval, PercentileInterval\n",
    "                                       , ZScaleInterval, SqrtStretch, AsinhStretch\n",
    "                                       , LogStretch, ImageNormalize)\n",
    "# data \n",
    "import  numpy   as np\n",
    "import  pandas  as pd\n",
    "# plots\n",
    "import  matplotlib.pyplot as plt\n",
    "\n",
    "## file paths \n",
    "path_catalogs = 'C:\\\\Users\\\\polar\\\\OneDrive - The University of Kansas\\\\AGNerds\\\\Catalogs'"
   ]
  },
  {
   "cell_type": "code",
   "execution_count": 21,
   "metadata": {},
   "outputs": [
    {
     "data": {
      "text/html": [
       "<div>\n",
       "<style scoped>\n",
       "    .dataframe tbody tr th:only-of-type {\n",
       "        vertical-align: middle;\n",
       "    }\n",
       "\n",
       "    .dataframe tbody tr th {\n",
       "        vertical-align: top;\n",
       "    }\n",
       "\n",
       "    .dataframe thead th {\n",
       "        text-align: right;\n",
       "    }\n",
       "</style>\n",
       "<table border=\"1\" class=\"dataframe\">\n",
       "  <thead>\n",
       "    <tr style=\"text-align: right;\">\n",
       "      <th></th>\n",
       "      <th>Field</th>\n",
       "      <th>Candels ID</th>\n",
       "      <th>RA</th>\n",
       "      <th>Dec</th>\n",
       "      <th>f(AGN)</th>\n",
       "    </tr>\n",
       "  </thead>\n",
       "  <tbody>\n",
       "    <tr>\n",
       "      <th>0</th>\n",
       "      <td>miri1</td>\n",
       "      <td>25024</td>\n",
       "      <td>215.14139</td>\n",
       "      <td>53.059521</td>\n",
       "      <td>0.9</td>\n",
       "    </tr>\n",
       "    <tr>\n",
       "      <th>1</th>\n",
       "      <td>miri1</td>\n",
       "      <td>25979</td>\n",
       "      <td>215.14189</td>\n",
       "      <td>53.057549</td>\n",
       "      <td>0.8</td>\n",
       "    </tr>\n",
       "    <tr>\n",
       "      <th>2</th>\n",
       "      <td>miri1</td>\n",
       "      <td>28569</td>\n",
       "      <td>215.14424</td>\n",
       "      <td>53.053490</td>\n",
       "      <td>0.5</td>\n",
       "    </tr>\n",
       "    <tr>\n",
       "      <th>3</th>\n",
       "      <td>miri1</td>\n",
       "      <td>25539</td>\n",
       "      <td>215.14447</td>\n",
       "      <td>53.060314</td>\n",
       "      <td>0.7</td>\n",
       "    </tr>\n",
       "    <tr>\n",
       "      <th>4</th>\n",
       "      <td>miri1</td>\n",
       "      <td>28041</td>\n",
       "      <td>215.14465</td>\n",
       "      <td>53.055138</td>\n",
       "      <td>1.0</td>\n",
       "    </tr>\n",
       "    <tr>\n",
       "      <th>...</th>\n",
       "      <td>...</td>\n",
       "      <td>...</td>\n",
       "      <td>...</td>\n",
       "      <td>...</td>\n",
       "      <td>...</td>\n",
       "    </tr>\n",
       "    <tr>\n",
       "      <th>75</th>\n",
       "      <td>miri2</td>\n",
       "      <td>35089</td>\n",
       "      <td>215.08035</td>\n",
       "      <td>52.993244</td>\n",
       "      <td>0.8</td>\n",
       "    </tr>\n",
       "    <tr>\n",
       "      <th>76</th>\n",
       "      <td>miri2</td>\n",
       "      <td>42664</td>\n",
       "      <td>215.08553</td>\n",
       "      <td>52.979485</td>\n",
       "      <td>0.8</td>\n",
       "    </tr>\n",
       "    <tr>\n",
       "      <th>77</th>\n",
       "      <td>miri2</td>\n",
       "      <td>45093</td>\n",
       "      <td>215.08835</td>\n",
       "      <td>52.975952</td>\n",
       "      <td>1.0</td>\n",
       "    </tr>\n",
       "    <tr>\n",
       "      <th>78</th>\n",
       "      <td>miri2</td>\n",
       "      <td>42121</td>\n",
       "      <td>215.09062</td>\n",
       "      <td>52.984219</td>\n",
       "      <td>1.0</td>\n",
       "    </tr>\n",
       "    <tr>\n",
       "      <th>79</th>\n",
       "      <td>miri2</td>\n",
       "      <td>44039</td>\n",
       "      <td>215.09943</td>\n",
       "      <td>52.984444</td>\n",
       "      <td>1.0</td>\n",
       "    </tr>\n",
       "  </tbody>\n",
       "</table>\n",
       "<p>80 rows × 5 columns</p>\n",
       "</div>"
      ],
      "text/plain": [
       "    Field  Candels ID         RA        Dec  f(AGN)\n",
       "0   miri1       25024  215.14139  53.059521     0.9\n",
       "1   miri1       25979  215.14189  53.057549     0.8\n",
       "2   miri1       28569  215.14424  53.053490     0.5\n",
       "3   miri1       25539  215.14447  53.060314     0.7\n",
       "4   miri1       28041  215.14465  53.055138     1.0\n",
       "..    ...         ...        ...        ...     ...\n",
       "75  miri2       35089  215.08035  52.993244     0.8\n",
       "76  miri2       42664  215.08553  52.979485     0.8\n",
       "77  miri2       45093  215.08835  52.975952     1.0\n",
       "78  miri2       42121  215.09062  52.984219     1.0\n",
       "79  miri2       44039  215.09943  52.984444     1.0\n",
       "\n",
       "[80 rows x 5 columns]"
      ]
     },
     "metadata": {},
     "output_type": "display_data"
    }
   ],
   "source": [
    "# read file to get agn info\n",
    "df_agn = pd.read_csv(path_catalogs+'\\\\AGN_candidates.txt', sep=',')\n",
    "display(df_agn)"
   ]
  },
  {
   "cell_type": "code",
   "execution_count": 2,
   "metadata": {},
   "outputs": [],
   "source": [
    "# Credit: Greg T.\n",
    "def getData(fitsFile):\n",
    "    data = fits.getdata(fitsFile)\n",
    "    header = fits.getheader(fitsFile)\n",
    "    f = fits.open(fitsFile)\n",
    "    wcs = WCS(f[1].header)\n",
    "    f.close()\n",
    "    #setting nondetections to nan\n",
    "    for i in range(len(data)):\n",
    "        for j in range(len(data[i])):\n",
    "            if data[i][j] == 0:\n",
    "                data[i][j] = np.nan\n",
    "    return (data, header, wcs)"
   ]
  },
  {
   "cell_type": "code",
   "execution_count": 4,
   "metadata": {},
   "outputs": [
    {
     "name": "stdout",
     "output_type": "stream",
     "text": [
      "cm1 DONE\n"
     ]
    }
   ],
   "source": [
    "# get image data\n",
    "data_cm1, header_cm1, wcs_cm1 = getData(path_catalogs+'\\\\ceers_miri1_f1000w_i2d.fits')\n",
    "print('cm1 DONE')\n",
    "# data_cm2, header_cm2, wcs_cm2 = getData(path_catalogs+'\\\\ceers_miri2_f1000w_i2d.fits')\n",
    "# print('cm2 DONE')\n",
    "# data_egs, header_egs, wcs_egs = getData(path_catalogs+'\\\\egs_all_wfc3_ir_f160w_030mas_v1.9_drz.fits')\n",
    "# print('egs DONE')"
   ]
  },
  {
   "cell_type": "code",
   "execution_count": null,
   "metadata": {},
   "outputs": [],
   "source": [
    "# coordinates = SkyCoord(obj['RA'], obj['DEC'], unit = \"deg\")\n",
    "# x, y = wcs.world_to_pixel(coordinates)\n",
    "# cutout = Cutout2D(data, (x, y), (100,100), wcs = wcs)\n",
    "# norm1 = ImageNormalize(cutout.data, interval = PercentileInterval(99.99), stretch = AsinhStretch())\n",
    "# plt.imshow(cutout.data, origin = 'lower', cmap = 'gray', norm=norm1)"
   ]
  }
 ],
 "metadata": {
  "kernelspec": {
   "display_name": "py3env",
   "language": "python",
   "name": "python3"
  },
  "language_info": {
   "codemirror_mode": {
    "name": "ipython",
    "version": 3
   },
   "file_extension": ".py",
   "mimetype": "text/x-python",
   "name": "python",
   "nbconvert_exporter": "python",
   "pygments_lexer": "ipython3",
   "version": "3.9.12"
  },
  "orig_nbformat": 4,
  "vscode": {
   "interpreter": {
    "hash": "9087279304570de5a36832bd291691fdf2a46b942e9196516ec718f5eedeadfe"
   }
  }
 },
 "nbformat": 4,
 "nbformat_minor": 2
}
