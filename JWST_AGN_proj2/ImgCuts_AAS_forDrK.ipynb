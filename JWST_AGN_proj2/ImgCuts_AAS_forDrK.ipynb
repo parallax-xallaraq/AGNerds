{
 "cells": [
  {
   "cell_type": "code",
   "execution_count": 1,
   "metadata": {},
   "outputs": [],
   "source": [
    "## imports \n",
    "# astro\n",
    "from    astropy.wcs             import WCS\n",
    "from    astropy.io              import fits\n",
    "import  astropy.units           as u\n",
    "from    astropy.nddata          import Cutout2D\n",
    "from    astropy.coordinates     import SkyCoord\n",
    "from    astropy.visualization   import (MinMaxInterval, PercentileInterval, ZScaleInterval, SqrtStretch, AsinhStretch, LogStretch, ImageNormalize)\n",
    "# data \n",
    "import  numpy   as np\n",
    "import  pandas  as pd\n",
    "# plots\n",
    "import  matplotlib.pyplot as plt\n",
    "\n",
    "## file paths \n",
    "path_catalogs = 'C:\\\\Users\\\\polar\\\\OneDrive - The University of Kansas\\\\AGNerds\\\\Catalogs'"
   ]
  },
  {
   "cell_type": "code",
   "execution_count": 2,
   "metadata": {},
   "outputs": [],
   "source": [
    "# read file to get agn info\n",
    "df_agn = pd.read_csv(path_catalogs+'\\\\AGN_candidates.txt', sep=',')\n",
    "# display(df_agn)"
   ]
  },
  {
   "cell_type": "code",
   "execution_count": 3,
   "metadata": {},
   "outputs": [],
   "source": [
    "def getData(fitsFile):\n",
    "    data = fits.getdata(fitsFile)\n",
    "    header = fits.getheader(fitsFile)\n",
    "    f = fits.open(fitsFile)\n",
    "    wcs = WCS(f[1].header)\n",
    "    f.close()\n",
    "    # #setting nondetections to nan\n",
    "    # for i in range(len(data)):\n",
    "    #     for j in range(len(data[i])):\n",
    "    #         if data[i][j] == 0:\n",
    "    #             data[i][j] = np.nan\n",
    "    return (data, header, wcs)\n",
    "    # Credit: Greg T."
   ]
  },
  {
   "cell_type": "code",
   "execution_count": 4,
   "metadata": {},
   "outputs": [
    {
     "name": "stderr",
     "output_type": "stream",
     "text": [
      "WARNING: FITSFixedWarning: 'datfix' made the change 'Set DATE-BEG to '2022-06-21T18:46:09.494' from MJD-BEG.\n",
      "Set DATE-AVG to '2022-06-21T19:01:47.926' from MJD-AVG.\n",
      "Set DATE-END to '2022-06-21T19:17:17.099' from MJD-END'. [astropy.wcs.wcs]\n",
      "WARNING: FITSFixedWarning: 'obsfix' made the change 'Set OBSGEO-L to   -74.832649 from OBSGEO-[XYZ].\n",
      "Set OBSGEO-B to   -36.743944 from OBSGEO-[XYZ].\n",
      "Set OBSGEO-H to 1725242515.981 from OBSGEO-[XYZ]'. [astropy.wcs.wcs]\n",
      "WARNING: FITSFixedWarning: 'datfix' made the change 'Set DATE-BEG to '2022-06-21T23:33:38.501' from MJD-BEG.\n",
      "Set DATE-AVG to '2022-06-21T23:48:57.498' from MJD-AVG.\n",
      "Set DATE-END to '2022-06-22T00:04:15.579' from MJD-END'. [astropy.wcs.wcs]\n",
      "WARNING: FITSFixedWarning: 'obsfix' made the change 'Set OBSGEO-L to   -74.776836 from OBSGEO-[XYZ].\n",
      "Set OBSGEO-B to   -36.782898 from OBSGEO-[XYZ].\n",
      "Set OBSGEO-H to 1725446993.656 from OBSGEO-[XYZ]'. [astropy.wcs.wcs]\n",
      "WARNING: FITSFixedWarning: 'datfix' made the change 'Set DATE-BEG to '2022-06-21T19:22:16.851' from MJD-BEG.\n",
      "Set DATE-AVG to '2022-06-21T19:37:34.014' from MJD-AVG.\n",
      "Set DATE-END to '2022-06-21T19:52:51.177' from MJD-END'. [astropy.wcs.wcs]\n",
      "WARNING: FITSFixedWarning: 'obsfix' made the change 'Set OBSGEO-L to   -74.825624 from OBSGEO-[XYZ].\n",
      "Set OBSGEO-B to   -36.748835 from OBSGEO-[XYZ].\n",
      "Set OBSGEO-H to 1725268421.305 from OBSGEO-[XYZ]'. [astropy.wcs.wcs]\n",
      "WARNING: FITSFixedWarning: 'datfix' made the change 'Set DATE-BEG to '2022-06-22T00:09:18.083' from MJD-BEG.\n",
      "Set DATE-AVG to '2022-06-22T00:24:36.184' from MJD-AVG.\n",
      "Set DATE-END to '2022-06-22T00:39:55.224' from MJD-END'. [astropy.wcs.wcs]\n",
      "WARNING: FITSFixedWarning: 'obsfix' made the change 'Set OBSGEO-L to   -74.770114 from OBSGEO-[XYZ].\n",
      "Set OBSGEO-B to   -36.787605 from OBSGEO-[XYZ].\n",
      "Set OBSGEO-H to 1725471424.000 from OBSGEO-[XYZ]'. [astropy.wcs.wcs]\n",
      "WARNING: FITSFixedWarning: 'datfix' made the change 'Set DATE-BEG to '2022-06-21T18:10:03.283' from MJD-BEG.\n",
      "Set DATE-AVG to '2022-06-21T18:25:23.072' from MJD-AVG.\n",
      "Set DATE-END to '2022-06-21T18:40:42.862' from MJD-END'. [astropy.wcs.wcs]\n",
      "WARNING: FITSFixedWarning: 'obsfix' made the change 'Set OBSGEO-L to   -74.839689 from OBSGEO-[XYZ].\n",
      "Set OBSGEO-B to   -36.739047 from OBSGEO-[XYZ].\n",
      "Set OBSGEO-H to 1725216509.255 from OBSGEO-[XYZ]'. [astropy.wcs.wcs]\n",
      "WARNING: FITSFixedWarning: 'datfix' made the change 'Set DATE-BEG to '2022-06-21T22:57:40.610' from MJD-BEG.\n",
      "Set DATE-AVG to '2022-06-21T23:13:00.399' from MJD-AVG.\n",
      "Set DATE-END to '2022-06-21T23:28:20.189' from MJD-END'. [astropy.wcs.wcs]\n",
      "WARNING: FITSFixedWarning: 'obsfix' made the change 'Set OBSGEO-L to   -74.783764 from OBSGEO-[XYZ].\n",
      "Set OBSGEO-B to   -36.778051 from OBSGEO-[XYZ].\n",
      "Set OBSGEO-H to 1725421772.310 from OBSGEO-[XYZ]'. [astropy.wcs.wcs]\n"
     ]
    }
   ],
   "source": [
    "# get image data\n",
    "data_cm1_f1000w, header_cm1_f1000w, wcs_cm1_f1000w = getData(path_catalogs+'\\\\ceers_miri1_f1000w_i2d.fits')\n",
    "data_cm2_f1000w, header_cm2_f1000w, wcs_cm2_f1000w = getData(path_catalogs+'\\\\ceers_miri2_f1000w_i2d.fits')\n",
    "\n",
    "data_cm1_f1280w, header_cm1_f1280w, wcs_cm1_f1280w = getData(path_catalogs+'\\\\ceers_miri1_f1280w_i2d.fits')\n",
    "data_cm2_f1280w, header_cm2_f1280w, wcs_cm2_f1280w = getData(path_catalogs+'\\\\ceers_miri2_f1280w_i2d.fits')\n",
    "\n",
    "data_cm1_f770w, header_cm1_f770w, wcs_cm1_f770w = getData(path_catalogs+'\\\\ceers_miri1_f770w_i2d.fits')\n",
    "data_cm2_f770w, header_cm2_f770w, wcs_cm2_f770w = getData(path_catalogs+'\\\\ceers_miri2_f770w_i2d.fits')\n",
    "\n",
    "data_egs, header_egs, wcs_egs = getData(path_catalogs+'\\\\egs_all_wfc3_ir_f160w_030mas_v1.9_drz.fits')"
   ]
  },
  {
   "cell_type": "code",
   "execution_count": 16,
   "metadata": {},
   "outputs": [],
   "source": [
    "def GetCutout(\n",
    "    ra,     # right ascension [deg]\n",
    "    dec,    # declination [deg]\n",
    "    wcs,    # World Coordinate System\n",
    "    data,   # image data\n",
    "    dl=50   # cutout size \n",
    "):\n",
    "    # get position on sky \n",
    "    coord = SkyCoord(ra*u.degree,dec*u.degree)\n",
    "    x, y = wcs.world_to_pixel(coord)\n",
    "    # make cutout \n",
    "    dl = 50\n",
    "    cutout = Cutout2D(data, position=(x,y), size=(dl,dl), wcs=wcs, mode='partial')\n",
    "    return(cutout)"
   ]
  },
  {
   "cell_type": "code",
   "execution_count": 25,
   "metadata": {},
   "outputs": [],
   "source": [
    "def PlotCutout(\n",
    "    ax,\n",
    "    cutout,\n",
    "    center, # dl/2\n",
    "    title,  # title \n",
    "    useNorm=None,\n",
    "    showGrid=False\n",
    ") : \n",
    "    if(showGrid):\n",
    "        # grid lines\n",
    "        ax.grid(True, color='r', linestyle='--', linewidth=0.5)\n",
    "    else:\n",
    "        # hide ticks\n",
    "        ax.set_xticks([])\n",
    "        ax.set_yticks([])\n",
    "    # hide axis lables\n",
    "    ax.set_xlabel(' ')\n",
    "    ax.set_ylabel(' ')\n",
    "    # mark center coord \n",
    "    circle = plt.Circle((center,center), 10, fc=(0,0,0,0), ec=\"red\")\n",
    "    ax.add_patch(circle)\n",
    "    # set title\n",
    "    ax.set_title(title)\n",
    "    # plot image\n",
    "    if(useNorm == None) : \n",
    "        ax.imshow(cutout.data, origin='lower', cmap='gray')\n",
    "    else:\n",
    "        norm1 = ImageNormalize(cutout.data, interval=PercentileInterval(useNorm), stretch=AsinhStretch())\n",
    "        ax.imshow(cutout.data, origin='lower', cmap='gray', norm=norm1)"
   ]
  },
  {
   "cell_type": "code",
   "execution_count": 38,
   "metadata": {},
   "outputs": [],
   "source": [
    "def MakePlotOfSrc(\n",
    "    ra,     # right ascension [deg]\n",
    "    dec,    # declination [deg]\n",
    "    id,     # Candels ID \n",
    "    fagn,   # f(AGN)\n",
    "    wcs1,  wcs2,  wcs3,    # World Coordinate System\n",
    "    data1, data2, data3,   # image data\n",
    "    useNorm=None,   # normalization percent interval\n",
    "    showGrid=False,\n",
    "    dl=50   # cutout size  \n",
    "):\n",
    "    # image cutout  \n",
    "    cutout1 = GetCutout(ra,dec,wcs1,data1)\n",
    "    cutout2 = GetCutout(ra,dec,wcs2,data2)\n",
    "    cutout3 = GetCutout(ra,dec,wcs3,data3)\n",
    "\n",
    "    # make figure \n",
    "    fig = plt.figure(figsize=(12,4), facecolor='white')\n",
    "    if(showGrid):\n",
    "        ax1 = fig.add_subplot(131, projection=cutout1.wcs)\n",
    "        ax2 = fig.add_subplot(132, projection=cutout2.wcs)\n",
    "        ax3 = fig.add_subplot(133, projection=cutout3.wcs)\n",
    "        fig.supxlabel('RA')\n",
    "        fig.supylabel('Dec')\n",
    "    else:\n",
    "        ax1 = fig.add_subplot(131)#, projection=cutout1.wcs)\n",
    "        ax2 = fig.add_subplot(132)#, projection=cutout2.wcs)\n",
    "        ax3 = fig.add_subplot(133)#, projection=cutout3.wcs)\n",
    "\n",
    "    # plot image cutout on axis \n",
    "    PlotCutout(ax1,cutout1,dl/2,'f770w', useNorm,showGrid)\n",
    "    PlotCutout(ax2,cutout2,dl/2,'f1000w',useNorm,showGrid)\n",
    "    PlotCutout(ax3,cutout3,dl/2,'f1280w',useNorm,showGrid)\n",
    "    \n",
    "    # labels\n",
    "    fig.suptitle('Candels ID = '+str(id)+'. f(AGN) = '+str(fagn))\n"
   ]
  },
  {
   "cell_type": "code",
   "execution_count": 39,
   "metadata": {},
   "outputs": [
    {
     "data": {
      "text/html": [
       "<div>\n",
       "<style scoped>\n",
       "    .dataframe tbody tr th:only-of-type {\n",
       "        vertical-align: middle;\n",
       "    }\n",
       "\n",
       "    .dataframe tbody tr th {\n",
       "        vertical-align: top;\n",
       "    }\n",
       "\n",
       "    .dataframe thead th {\n",
       "        text-align: right;\n",
       "    }\n",
       "</style>\n",
       "<table border=\"1\" class=\"dataframe\">\n",
       "  <thead>\n",
       "    <tr style=\"text-align: right;\">\n",
       "      <th></th>\n",
       "      <th>Field</th>\n",
       "      <th>Candels ID</th>\n",
       "      <th>RA</th>\n",
       "      <th>Dec</th>\n",
       "      <th>f(AGN)</th>\n",
       "    </tr>\n",
       "  </thead>\n",
       "  <tbody>\n",
       "    <tr>\n",
       "      <th>1</th>\n",
       "      <td>miri1</td>\n",
       "      <td>25979</td>\n",
       "      <td>215.14189</td>\n",
       "      <td>53.057549</td>\n",
       "      <td>0.8</td>\n",
       "    </tr>\n",
       "  </tbody>\n",
       "</table>\n",
       "</div>"
      ],
      "text/plain": [
       "   Field  Candels ID         RA        Dec  f(AGN)\n",
       "1  miri1       25979  215.14189  53.057549     0.8"
      ]
     },
     "metadata": {},
     "output_type": "display_data"
    }
   ],
   "source": [
    "# example source\n",
    "i = 1\n",
    "ra  = df_agn.at[i,\"RA\"]\n",
    "dec = df_agn.at[i,\"Dec\"]\n",
    "id  = df_agn.at[i,\"Candels ID\"]\n",
    "fagn = df_agn.at[i,\"f(AGN)\"]\n",
    "display(df_agn.iloc[[i]])\n"
   ]
  },
  {
   "cell_type": "code",
   "execution_count": 40,
   "metadata": {},
   "outputs": [
    {
     "data": {
      "image/png": "[encoded data removed]",
      "text/plain": [
       "<Figure size 864x288 with 3 Axes>"
      ]
     },
     "metadata": {},
     "output_type": "display_data"
    }
   ],
   "source": [
    "# miri 1\n",
    "# # i must be for miri 1 src\n",
    "MakePlotOfSrc(\n",
    "    ra,\n",
    "    dec,\n",
    "    id,\n",
    "    fagn,\n",
    "    wcs_cm1_f770w, wcs_cm1_f1000w, wcs_cm1_f1280w,\n",
    "    data_cm1_f770w, data_cm1_f1000w, data_cm1_f1280w,\n",
    "    useNorm=98\n",
    ")"
   ]
  },
  {
   "cell_type": "code",
   "execution_count": 10,
   "metadata": {},
   "outputs": [],
   "source": [
    "# # miri 2\n",
    "# # i must be for miri 2 src\n",
    "# MakePlotOfSrc(\n",
    "#     ra,\n",
    "#     dec,\n",
    "#     id,\n",
    "#     fagn,\n",
    "#     wcs_cm2,\n",
    "#     data_cm2\n",
    "# )"
   ]
  },
  {
   "cell_type": "code",
   "execution_count": 11,
   "metadata": {},
   "outputs": [],
   "source": [
    "# # EGS\n",
    "# MakePlotOfSrc(\n",
    "#     ra,\n",
    "#     dec,\n",
    "#     id,\n",
    "#     fagn,\n",
    "#     wcs_egs,\n",
    "#     data_egs,\n",
    "#     useNorm=98\n",
    "# )"
   ]
  }
 ],
 "metadata": {
  "kernelspec": {
   "display_name": "py3env",
   "language": "python",
   "name": "python3"
  },
  "language_info": {
   "codemirror_mode": {
    "name": "ipython",
    "version": 3
   },
   "file_extension": ".py",
   "mimetype": "text/x-python",
   "name": "python",
   "nbconvert_exporter": "python",
   "pygments_lexer": "ipython3",
   "version": "3.9.12"
  },
  "orig_nbformat": 4,
  "vscode": {
   "interpreter": {
    "hash": "9087279304570de5a36832bd291691fdf2a46b942e9196516ec718f5eedeadfe"
   }
  }
 },
 "nbformat": 4,
 "nbformat_minor": 2
}
