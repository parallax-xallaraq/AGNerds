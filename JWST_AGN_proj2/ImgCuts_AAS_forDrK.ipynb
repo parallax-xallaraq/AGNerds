{
 "cells": [
  {
   "cell_type": "code",
   "execution_count": 1,
   "metadata": {},
   "outputs": [],
   "source": [
    "## imports \n",
    "# astro\n",
    "from    astropy.wcs             import WCS\n",
    "from    astropy.io              import fits\n",
    "import  astropy.units           as u\n",
    "from    astropy.nddata          import Cutout2D\n",
    "from    astropy.coordinates     import SkyCoord\n",
    "from    astropy.visualization   import (MinMaxInterval, PercentileInterval, ZScaleInterval, SqrtStretch, AsinhStretch, LogStretch, ImageNormalize)\n",
    "# data \n",
    "import  numpy   as np\n",
    "import  pandas  as pd\n",
    "# plots\n",
    "import  matplotlib.pyplot as plt\n",
    "\n",
    "## file paths \n",
    "path_catalogs = 'C:\\\\Users\\\\polar\\\\OneDrive - The University of Kansas\\\\AGNerds\\\\Catalogs'"
   ]
  },
  {
   "cell_type": "code",
   "execution_count": 2,
   "metadata": {},
   "outputs": [],
   "source": [
    "# read file to get agn info\n",
    "df_agn = pd.read_csv(path_catalogs+'\\\\AGN_candidates.txt', sep=',')\n",
    "# display(df_agn)"
   ]
  },
  {
   "cell_type": "code",
   "execution_count": 3,
   "metadata": {},
   "outputs": [],
   "source": [
    "def getData(fitsFile):\n",
    "    data = fits.getdata(fitsFile)\n",
    "    header = fits.getheader(fitsFile)\n",
    "    f = fits.open(fitsFile)\n",
    "    wcs = WCS(f[1].header)\n",
    "    f.close()\n",
    "    # #setting nondetections to nan\n",
    "    # for i in range(len(data)):\n",
    "    #     for j in range(len(data[i])):\n",
    "    #         if data[i][j] == 0:\n",
    "    #             data[i][j] = np.nan\n",
    "    return (data, header, wcs)\n",
    "    # Credit: Greg T."
   ]
  },
  {
   "cell_type": "code",
   "execution_count": 12,
   "metadata": {},
   "outputs": [
    {
     "name": "stderr",
     "output_type": "stream",
     "text": [
      "WARNING: FITSFixedWarning: 'datfix' made the change 'Set DATE-BEG to '2022-06-21T18:46:09.494' from MJD-BEG.\n",
      "Set DATE-AVG to '2022-06-21T19:01:47.926' from MJD-AVG.\n",
      "Set DATE-END to '2022-06-21T19:17:17.099' from MJD-END'. [astropy.wcs.wcs]\n",
      "WARNING: FITSFixedWarning: 'obsfix' made the change 'Set OBSGEO-L to   -74.832649 from OBSGEO-[XYZ].\n",
      "Set OBSGEO-B to   -36.743944 from OBSGEO-[XYZ].\n",
      "Set OBSGEO-H to 1725242515.981 from OBSGEO-[XYZ]'. [astropy.wcs.wcs]\n",
      "WARNING: FITSFixedWarning: 'datfix' made the change 'Set DATE-BEG to '2022-06-21T23:33:38.501' from MJD-BEG.\n",
      "Set DATE-AVG to '2022-06-21T23:48:57.498' from MJD-AVG.\n",
      "Set DATE-END to '2022-06-22T00:04:15.579' from MJD-END'. [astropy.wcs.wcs]\n",
      "WARNING: FITSFixedWarning: 'obsfix' made the change 'Set OBSGEO-L to   -74.776836 from OBSGEO-[XYZ].\n",
      "Set OBSGEO-B to   -36.782898 from OBSGEO-[XYZ].\n",
      "Set OBSGEO-H to 1725446993.656 from OBSGEO-[XYZ]'. [astropy.wcs.wcs]\n"
     ]
    }
   ],
   "source": [
    "# get image data\n",
    "data_cm1, header_cm1, wcs_cm1 = getData(path_catalogs+'\\\\ceers_miri1_f1000w_i2d.fits')\n",
    "data_cm2, header_cm2, wcs_cm2 = getData(path_catalogs+'\\\\ceers_miri2_f1000w_i2d.fits')\n",
    "data_egs, header_egs, wcs_egs = getData(path_catalogs+'\\\\egs_all_wfc3_ir_f160w_030mas_v1.9_drz.fits')"
   ]
  },
  {
   "cell_type": "code",
   "execution_count": 20,
   "metadata": {},
   "outputs": [],
   "source": [
    "def GetCutout(\n",
    "    ra,     # right ascension [deg]\n",
    "    dec,    # declination [deg]\n",
    "    id,     # Candels ID \n",
    "    fagn,   # f(AGN)\n",
    "    wcs,    # World Coordinate System\n",
    "    data,   # image data\n",
    "    useNorm=None   # normalization percent interval\n",
    "):\n",
    "    # get position on sky \n",
    "    coord = SkyCoord(ra*u.degree,dec*u.degree)\n",
    "    x, y = wcs.world_to_pixel(coord)\n",
    "    # make cutout \n",
    "    dl = 50\n",
    "    cutout = Cutout2D(data, position=(x,y), size=(dl,dl), wcs=wcs, mode='partial')\n",
    "\n",
    "    # make figure \n",
    "    fig = plt.figure()\n",
    "    ax = fig.add_subplot(1, 1, 1, projection=cutout.wcs)\n",
    "    # labels\n",
    "    ax.set_title('Candels ID = '+str(id)+'. f(AGN) = '+str(fagn))\n",
    "    ax.set_xlabel('RA')\n",
    "    ax.set_ylabel('Dec')\n",
    "    # grid lines\n",
    "    ax.grid(True, color='r', linestyle='--', linewidth=0.5)\n",
    "    # mark center coord \n",
    "    circle = plt.Circle((dl/2,dl/2), 10, fc=(0,0,0,0), ec=\"red\")\n",
    "    ax.add_patch(circle)\n",
    "    # plot image\n",
    "    if(useNorm == None) : \n",
    "        ax.imshow(cutout.data, origin='lower', cmap='gray')\n",
    "    else:\n",
    "        norm1 = ImageNormalize(cutout.data, interval=PercentileInterval(useNorm), stretch=AsinhStretch())\n",
    "        ax.imshow(cutout.data, origin='lower', cmap='gray', norm=norm1)"
   ]
  },
  {
   "cell_type": "code",
   "execution_count": 28,
   "metadata": {},
   "outputs": [
    {
     "name": "stdout",
     "output_type": "stream",
     "text": [
      "<SkyCoord (ICRS): (ra, dec) in deg\n",
      "    (215.14189, 53.057549)>\n"
     ]
    },
    {
     "data": {
      "image/png": "[encoded data removed]",
      "text/plain": [
       "<Figure size 432x288 with 1 Axes>"
      ]
     },
     "metadata": {
      "needs_background": "light"
     },
     "output_type": "display_data"
    }
   ],
   "source": [
    "# example source\n",
    "i = 1\n",
    "ra  = df_agn.at[i,\"RA\"]\n",
    "dec = df_agn.at[i,\"Dec\"]\n",
    "id  = df_agn.at[i,\"Candels ID\"]\n",
    "fagn = df_agn.at[i,\"f(AGN)\"]\n",
    "\n",
    "# miri 1\n",
    "# # i must be for miri 1 src\n",
    "GetCutout(\n",
    "    ra,\n",
    "    dec,\n",
    "    id,\n",
    "    fagn,\n",
    "    wcs_cm1,\n",
    "    data_cm1,\n",
    "    useNorm=98\n",
    ")\n"
   ]
  },
  {
   "cell_type": "code",
   "execution_count": 18,
   "metadata": {},
   "outputs": [],
   "source": [
    "# # miri 2\n",
    "# # i must be for miri 2 src\n",
    "# GetCutout(\n",
    "#     ra,\n",
    "#     dec,\n",
    "#     id,\n",
    "#     fagn,\n",
    "#     wcs_cm2,\n",
    "#     data_cm2\n",
    "# )"
   ]
  },
  {
   "cell_type": "code",
   "execution_count": 29,
   "metadata": {},
   "outputs": [],
   "source": [
    "# # EGS\n",
    "# GetCutout(\n",
    "#     ra,\n",
    "#     dec,\n",
    "#     id,\n",
    "#     fagn,\n",
    "#     wcs_egs,\n",
    "#     data_egs,\n",
    "#     useNorm=98\n",
    "# )"
   ]
  }
 ],
 "metadata": {
  "kernelspec": {
   "display_name": "py3env",
   "language": "python",
   "name": "python3"
  },
  "language_info": {
   "codemirror_mode": {
    "name": "ipython",
    "version": 3
   },
   "file_extension": ".py",
   "mimetype": "text/x-python",
   "name": "python",
   "nbconvert_exporter": "python",
   "pygments_lexer": "ipython3",
   "version": "3.9.12"
  },
  "orig_nbformat": 4,
  "vscode": {
   "interpreter": {
    "hash": "9087279304570de5a36832bd291691fdf2a46b942e9196516ec718f5eedeadfe"
   }
  }
 },
 "nbformat": 4,
 "nbformat_minor": 2
}
