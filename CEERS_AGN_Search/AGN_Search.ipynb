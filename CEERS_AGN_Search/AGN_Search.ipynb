{
 "cells": [
  {
   "cell_type": "markdown",
   "metadata": {},
   "source": [
    "*Name:* Thresa Kelly\n",
    "\n",
    "*Professor:* Dr. Allison Kirkpatrick\n",
    "\n",
    "*Date:* 12/2/21\n",
    "\n",
    "*Science Goal:* Which galaxies in the EGS field are likely AGN, and what are their physical properties?\n",
    "\n",
    "*Details:* CEERS is an approved project on JWST to observe the Extended Groth Strip with the NIRCam, NIRSpec, and MIRI instruments. Thresa is going to identify AGN in the MIRI field of view. She will plot their spectral energy distributions, look for spectra in the 3D-HST database, look for radio observations through the FIRST database, and make images.\n",
    "\n"
   ]
  },
  {
   "cell_type": "markdown",
   "metadata": {},
   "source": [
    "* Milestone: Read the .csv file"
   ]
  },
  {
   "cell_type": "code",
   "execution_count": 6,
   "metadata": {},
   "outputs": [
    {
     "name": "stdout",
     "output_type": "stream",
     "text": [
      "<TableColumns names=('ID','RA','Dec','Redshift','u','u Unc','g','g Unc','r','r Unc','i','i Unc','z','z Unc','y','y Unc','IRAC Ch 1','Ch 1 Unc','IRAC Ch 2','Ch 2 Unc','IRAC Ch 3','Ch 3 Unc','IRAC Ch 4','Ch 4 Unc','PACS 100','100 Unc','PACS 160','160 Unc','SPIRE 250','250 Unc','SPIRE 350','350 Unc','SPIRE 500','500 Unc')> \n",
      "\n",
      "             ID                 RA        Dec    ... SPIRE 500  500 Unc \n",
      "--------------------------- ---------- --------- ... --------- ---------\n",
      "HELP_J141411.189+520025.636 213.546622 52.007121 ...       NaN       NaN\n",
      "HELP_J141411.417+515923.419 213.547572 51.989839 ...       NaN       NaN\n",
      "HELP_J141411.539+515959.135 213.548077  51.99976 ...       NaN       NaN\n",
      "HELP_J141411.902+515927.909 213.549592 51.991086 ...       NaN       NaN\n",
      "HELP_J141412.159+515941.025 213.550661 51.994729 ...       NaN       NaN\n",
      "HELP_J141412.263+515904.194 213.551097 51.984498 ...       NaN       NaN\n",
      "HELP_J141412.597+520041.294 213.552488 52.011471 ...  7254.822   5038.43\n",
      "HELP_J141412.781+515940.121 213.553254 51.994478 ...       NaN       NaN\n",
      "HELP_J141413.198+515934.686  213.55499 51.992968 ... 13437.243  9664.907\n",
      "HELP_J141413.331+515906.857 213.555546 51.985238 ... 14145.631 10366.836\n",
      "                        ...        ...       ... ...       ...       ...\n",
      "HELP_J142404.663+533457.680 216.019429 53.582689 ...       NaN       NaN\n",
      "HELP_J142404.910+533334.924 216.020458 53.559701 ...  3172.774  2218.162\n",
      "HELP_J142405.191+533500.486 216.021628 53.583468 ...       NaN       NaN\n",
      "HELP_J142406.134+533426.334 216.025558 53.573982 ...  4199.731  2889.542\n",
      "HELP_J142406.197+533338.362 216.025821 53.560656 ...  -749.767   501.987\n",
      "HELP_J142406.241+533409.940 216.026004 53.569428 ...  1663.429  1209.399\n",
      "HELP_J142406.587+533504.896 216.027445 53.584693 ...       NaN       NaN\n",
      "HELP_J142406.649+533501.393 216.027704  53.58372 ...       NaN       NaN\n",
      "HELP_J142407.012+533514.565 216.029219 53.587379 ...       NaN       NaN\n",
      "HELP_J142407.114+533352.474 216.029643 53.564576 ...       NaN       NaN\n",
      "HELP_J142407.795+533444.210 216.032481 53.578947 ...       NaN       NaN\n",
      "Length = 62883 rows\n"
     ]
    }
   ],
   "source": [
    "# imports\n",
    "from astropy.io import ascii\n",
    "\n",
    "# read data from file \n",
    "data = ascii.read(\"EGS_for_Thresa.csv\")\n",
    "\n",
    "# view data\n",
    "print(data.columns, '\\n')\n",
    "print(data)"
   ]
  },
  {
   "cell_type": "markdown",
   "metadata": {},
   "source": [
    "* Milestone: Which wavelengths correspond with which filters in the .csv file?\n"
   ]
  },
  {
   "cell_type": "markdown",
   "metadata": {},
   "source": [
    "\n",
    "'u' = ultraviolet: λeff= 365 nm, Δλ= 66 nm\n",
    "\n",
    "'g' = green: λeff= 464 nm, Δλ= 128 nm\n",
    "\n",
    "'r' = red: λeff= 658 nm, Δλ= 138 nm\n",
    "\n",
    "'i' = infared: λeff= 806 nm, Δλ= 149 nm\n",
    "\n",
    "'z' = infared: λeff= 900 nm\n",
    "\n",
    "'y' = infared: λeff= 1020 nm, Δλ= 120 nm\n",
    "\n",
    "'IRAC Ch 1' =  Infrared Array Camera channel 1: λcenter= 3.56 um\n",
    "\n",
    "'IRAC Ch 2' =  Infrared Array Camera channel 2: λcenter= 4.54 um\n",
    "\n",
    "'IRAC Ch 3' =  Infrared Array Camera channel 3: λcenter= 5.73 um\n",
    "\n",
    "'IRAC Ch 4' =  Infrared Array Camera channel 4: λcenter= 7.91 um\n",
    "\n",
    "'PACS 100' = Photodetector Array Camera and Spectrometer \n",
    "\n",
    "'PACS 160' = Photodetector Array Camera and Spectrometer\n",
    "\n",
    "'SPIRE 250' = Photometer: 250 um\n",
    "\n",
    "'SPIRE 350' = Photometer: 350 um\n",
    "\n",
    "'SPIRE 500' = Photometer: 500 um\n",
    "\n",
    "* Filters: https://en.wikipedia.org/wiki/Photometric_system\n",
    "* IRAC paper: https://citeseerx.ist.psu.edu/viewdoc/download?doi=10.1.1.145.2828&rep=rep1&type=pdf#:~:text=IRAC%20is%20a%20four%2Dchannel,%3B%204.5%20and%208%20m).\n",
    "* PACS: https://www.cosmos.esa.int/web/herschel/pacs-overview \n",
    "* Spire: https://www.cosmos.esa.int/web/herschel/first-light"
   ]
  },
  {
   "cell_type": "markdown",
   "metadata": {},
   "source": [
    "* Milestone: Select galaxies in the MIRI field of view"
   ]
  },
  {
   "cell_type": "code",
   "execution_count": null,
   "metadata": {},
   "outputs": [],
   "source": []
  }
 ],
 "metadata": {
  "interpreter": {
   "hash": "916dbcbb3f70747c44a77c7bcd40155683ae19c65e1c03b4aa3499c5328201f1"
  },
  "kernelspec": {
   "display_name": "Python 3.8.10 64-bit",
   "language": "python",
   "name": "python3"
  },
  "language_info": {
   "codemirror_mode": {
    "name": "ipython",
    "version": 3
   },
   "file_extension": ".py",
   "mimetype": "text/x-python",
   "name": "python",
   "nbconvert_exporter": "python",
   "pygments_lexer": "ipython3",
   "version": "3.8.10"
  },
  "orig_nbformat": 4
 },
 "nbformat": 4,
 "nbformat_minor": 2
}
