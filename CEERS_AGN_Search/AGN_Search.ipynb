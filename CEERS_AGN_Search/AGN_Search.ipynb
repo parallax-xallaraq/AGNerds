{
 "cells": [
  {
   "cell_type": "markdown",
   "metadata": {},
   "source": [
    "## Project: CEERS AGN Search\n",
    "\n",
    "*Name:* Thresa Kelly\n",
    "\n",
    "*Professor:* Dr. Allison Kirkpatrick\n",
    "\n",
    "*Start Date:* 12/2/21\n",
    "\n",
    "*End Date:* tbd\n",
    "\n",
    "*Science Goal:* Which galaxies in the EGS field are likely AGN, and what are their physical properties?\n",
    "\n",
    "*Details:* CEERS is an approved project on JWST to observe the Extended Groth Strip with the NIRCam, NIRSpec, and MIRI instruments. Thresa is going to identify AGN in the MIRI field of view. She will plot their spectral energy distributions, look for spectra in the 3D-HST database, look for radio observations through the FIRST database, and make images.\n",
    "\n"
   ]
  },
  {
   "cell_type": "code",
   "execution_count": 3,
   "metadata": {},
   "outputs": [],
   "source": [
    "# imports \n",
    "from astropy.io import ascii\n",
    "import numpy as np "
   ]
  },
  {
   "cell_type": "markdown",
   "metadata": {},
   "source": [
    "## Milestone: Read the .csv file"
   ]
  },
  {
   "cell_type": "code",
   "execution_count": 5,
   "metadata": {},
   "outputs": [
    {
     "name": "stdout",
     "output_type": "stream",
     "text": [
      "<TableColumns names=('ID','RA','Dec','Redshift','u','u Unc','g','g Unc','r','r Unc','i','i Unc','z','z Unc','y','y Unc','IRAC Ch 1','Ch 1 Unc','IRAC Ch 2','Ch 2 Unc','IRAC Ch 3','Ch 3 Unc','IRAC Ch 4','Ch 4 Unc','PACS 100','100 Unc','PACS 160','160 Unc','SPIRE 250','250 Unc','SPIRE 350','350 Unc','SPIRE 500','500 Unc')>\n"
     ]
    }
   ],
   "source": [
    "# read data from file \n",
    "data = ascii.read(\"EGS_for_Thresa.csv\")\n",
    "\n",
    "# view data\n",
    "print(data.columns)\n",
    "#print(data)"
   ]
  },
  {
   "cell_type": "markdown",
   "metadata": {},
   "source": [
    "## Milestone: Which wavelengths correspond with which filters in the .csv file?\n"
   ]
  },
  {
   "cell_type": "markdown",
   "metadata": {},
   "source": [
    "\n",
    "'u' = ultraviolet: λeff= 365 nm, Δλ= 66 nm\n",
    "\n",
    "'g' = green: λeff= 464 nm, Δλ= 128 nm\n",
    "\n",
    "'r' = red: λeff= 658 nm, Δλ= 138 nm\n",
    "\n",
    "'i' = infared: λeff= 806 nm, Δλ= 149 nm\n",
    "\n",
    "'z' = infared: λeff= 900 nm\n",
    "\n",
    "'y' = infared: λeff= 1020 nm, Δλ= 120 nm\n",
    "\n",
    "'IRAC Ch 1' =  Infrared Array Camera channel 1: λcenter= 3.56 um\n",
    "\n",
    "'IRAC Ch 2' =  Infrared Array Camera channel 2: λcenter= 4.54 um\n",
    "\n",
    "'IRAC Ch 3' =  Infrared Array Camera channel 3: λcenter= 5.73 um\n",
    "\n",
    "'IRAC Ch 4' =  Infrared Array Camera channel 4: λcenter= 7.91 um\n",
    "\n",
    "'PACS 100' = Photodetector Array Camera and Spectrometer: 100 um\n",
    "\n",
    "'PACS 160' = Photodetector Array Camera and Spectrometer: 160 um\n",
    "\n",
    "'SPIRE 250' = Photometer: 250 um\n",
    "\n",
    "'SPIRE 350' = Photometer: 350 um\n",
    "\n",
    "'SPIRE 500' = Photometer: 500 um\n",
    "\n",
    "* Filters: https://en.wikipedia.org/wiki/Photometric_system\n",
    "* IRAC paper: https://citeseerx.ist.psu.edu/viewdoc/download?doi=10.1.1.145.2828&rep=rep1&type=pdf#:~:text=IRAC%20is%20a%20four%2Dchannel,%3B%204.5%20and%208%20m).\n",
    "* PACS: https://www.cosmos.esa.int/web/herschel/pacs-overview \n",
    "* Spire: https://www.cosmos.esa.int/web/herschel/first-light"
   ]
  },
  {
   "cell_type": "markdown",
   "metadata": {},
   "source": [
    "## Milestone: Select galaxies in the MIRI field of view \n",
    "\n",
    "Tips:\n",
    "* use tools from class project\n",
    "* CEERS proposals → look at tables in front\n",
    "* table lists RA and DEC of 4 MIRI pointings (ex EGS7)\n",
    "* MIRI FOV = 113 as (?)\n",
    "* calculate angular distance of object to center of MIRI pointing. if <1.9am, keep object. if >1.9am, throw out object.\n",
    "* .csv RA and DEC already in decimal degrees\n",
    "\n",
    "Notes:\n",
    "* This part is postponed, we are not sure the exact FOV for JWST yet. "
   ]
  },
  {
   "cell_type": "code",
   "execution_count": null,
   "metadata": {},
   "outputs": [],
   "source": [
    "# the four MIRI pointings:\n",
    "#   MIRI-EGS7   RA= 14 20 14.6913  DEC= +52 55 25.43\n",
    "#   MIRI-EGS8   RA= 14 19 57.9690  DEC= +52 55 51.53\n",
    "#   MIRI-EGS9   RA= 14 19 52.2788  DEC= +52 51 40.09\n",
    "#   MIRI-EGS10  RA= 14 19 35.6531  DEC= +52 52 6.56\n",
    "\n",
    "miri_7_ra  = (14.*15.) + (20./4.) + (14.6913/240.)   # hrs*15 + minutes/4 + seconds/240\n",
    "miri_7_dec = +( 52. + (55./60.) + (25.43/3600.) )      # + or -  ( degrees + minutes/60 + seconds/3600 )\n",
    "\n",
    "miri_8_ra  = (14.*15.) + (19./4.) + (57.9690/240.)\n",
    "miri_8_dec = +( 52. + (55./60.) + (51.53/3600.) )\n",
    "\n",
    "miri_9_ra  = (14.*15.) + (19./4.) + (52.2788/240.)\n",
    "miri_9_dec = +( 52. + (51./60.) + (40.09/3600.) )\n",
    "\n",
    "miri_10_ra  = (14.*15.) + (19./4.) + (35.6531/240.)\n",
    "miri_10_dec = +( 52. + (52./60.) + (6.56/3600.) )       # Note: I could make the ra/dec conversions as a function. It would be more elegant. \n",
    "\n",
    "# Add all miri ra and dec into arrays\n",
    "miri_ra  = [miri_7_ra, miri_8_ra, miri_9_ra, miri_10_ra]\n",
    "miri_dec = [miri_7_dec, miri_8_dec, miri_9_dec, miri_10_dec]\n",
    "\n",
    "print(miri_ra)\n",
    "print(miri_dec)\n",
    "\n",
    "# find average position\n",
    "miri_ra_avg = np.average(miri_ra)\n",
    "miri_dec_avg = np.average(miri_dec)\n",
    "\n",
    "print(miri_ra_avg)\n",
    "print(miri_dec_avg)\n",
    "\n",
    "# MIRI field of view is 113 as = 0.0313889 deg\n",
    "miri_fov = 0.0313889 \n"
   ]
  },
  {
   "cell_type": "code",
   "execution_count": null,
   "metadata": {},
   "outputs": [],
   "source": [
    "# Function below by Dr. Kirkpatrick from Age-Of-Stellar-Clusters project\n",
    "\n",
    "# define a function that takes the RA and DEC locations of two objects, and returns the distance between them\n",
    "def distance_along_sky(raobject1, decobject1, raobject2, decobject2):\n",
    "    # inputs in degrees\n",
    "    # using the distance along a great circle equation from http://spiff.rit.edu/classes/phys301/lectures/precession/precession.html#sep\n",
    "    # Note, cosine and sine in python use RADIANS as default units\n",
    "    cosy = np.cos(  np.deg2rad(90.-decobject1) )* np.cos(  np.deg2rad(90.-decobject2)  )  +     np.sin(  np.deg2rad(90.-decobject1)  )*np.sin(  np.deg2rad(90.-decobject2))*np.cos(  np.deg2rad(raobject1-raobject2))\n",
    "    angular_distance_radians= np.arccos(cosy)\n",
    "    \n",
    "    #outputs in radians, so let's convert back to degrees to make it easier for us later\n",
    "    angular_distance_degrees=np.rad2deg(angular_distance_radians)\n",
    "    \n",
    "    #this function will print out one value, the distance between two points on a great circle in degrees\n",
    "    return angular_distance_degrees"
   ]
  },
  {
   "cell_type": "markdown",
   "metadata": {},
   "source": [
    "## Milestone: AGN selection\n",
    "\n",
    "Notes:\n",
    "* From Donley 2012 and Kirkpatrick 2013 journals\n",
    "\n",
    "Donley 2012:\n",
    "* x >= 0.08 AND y>= 0.15 AND y>= 1.21x-0.27 AND y<= 1.21x+0.27"
   ]
  },
  {
   "cell_type": "code",
   "execution_count": 66,
   "metadata": {},
   "outputs": [
    {
     "data": {
      "image/png": "[encoded data removed]",
      "text/plain": [
       "<Figure size 432x288 with 1 Axes>"
      ]
     },
     "metadata": {
      "needs_background": "light"
     },
     "output_type": "display_data"
    }
   ],
   "source": [
    "import matplotlib.pyplot as plt\n",
    "\n",
    "# -- calculate lines    \n",
    "\n",
    "# constants\n",
    "x_min = 0.08    # x >= 0.8\n",
    "y_min = 0.15    # y >= 0.15\n",
    "max = 10        # arbritrary \n",
    "\n",
    "# calculate intercepts\n",
    "x_int_ymin = (0.15 + 0.27)/1.21  # intercept between y_min and y_high \n",
    "y_int_xmin = (1.21*x_min) + 0.27 # intercept between x_min and y_low \n",
    "\n",
    "# calculate y_low points --> y >= 1.21x - 0.27\n",
    "y1_low = (1.21*x_int_ymin) - 0.27   \n",
    "y2_low = (1.21*max) - 0.27\n",
    "\n",
    "# calculate y_high points --> y >= 1.21x + 0.27\n",
    "y1_high = (1.21*x_min) + 0.27\n",
    "y2_high = (1.21*max) + 0.27\n",
    "\n",
    "# -- plotting lines  \n",
    "plt.plot( [x_min, x_min], [y_min, y_int_xmin], 'r') # x >= 0.8\n",
    "plt.plot( [x_min, x_int_ymin], [y_min, y_min], 'r') # y >= 0.15\n",
    "plt.plot( [x_int_ymin, max], [y1_low,y2_low], 'r')  # y >= 1.21x - 0.27\n",
    "plt.plot( [x_min, max], [y1_high,y2_high], 'r')     # y <= 1.21x + 0.27\n",
    "    \n",
    "# set axis range\n",
    "plt.axis([-0.5,1,-0.5,1])\n",
    "\n",
    "# naming the axis and title\n",
    "plt.xlabel('log(S_5.8/S_3.6)') \n",
    "plt.ylabel('log(S_8.0/S_4.5)') \n",
    "plt.title('AGN Selection Criterea (Donley, 2012)') \n",
    "    \n",
    "# function to show the plot \n",
    "plt.show() "
   ]
  }
 ],
 "metadata": {
  "interpreter": {
   "hash": "916dbcbb3f70747c44a77c7bcd40155683ae19c65e1c03b4aa3499c5328201f1"
  },
  "kernelspec": {
   "display_name": "Python 3.8.10 64-bit",
   "language": "python",
   "name": "python3"
  },
  "language_info": {
   "codemirror_mode": {
    "name": "ipython",
    "version": 3
   },
   "file_extension": ".py",
   "mimetype": "text/x-python",
   "name": "python",
   "nbconvert_exporter": "python",
   "pygments_lexer": "ipython3",
   "version": "3.8.10"
  },
  "orig_nbformat": 4
 },
 "nbformat": 4,
 "nbformat_minor": 2
}
