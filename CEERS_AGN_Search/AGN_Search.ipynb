{
 "cells": [
  {
   "cell_type": "markdown",
   "metadata": {},
   "source": [
    "## Project: CEERS AGN Search\n",
    "\n",
    "*Name:* Thresa Kelly\n",
    "\n",
    "*Professor:* Dr. Allison Kirkpatrick\n",
    "\n",
    "*Date:* 12/2/21\n",
    "\n",
    "*Science Goal:* Which galaxies in the EGS field are likely AGN, and what are their physical properties?\n",
    "\n",
    "*Details:* CEERS is an approved project on JWST to observe the Extended Groth Strip with the NIRCam, NIRSpec, and MIRI instruments. Thresa is going to identify AGN in the MIRI field of view. She will plot their spectral energy distributions, look for spectra in the 3D-HST database, look for radio observations through the FIRST database, and make images.\n",
    "\n"
   ]
  },
  {
   "cell_type": "code",
   "execution_count": 9,
   "metadata": {},
   "outputs": [],
   "source": [
    "# imports \n",
    "from astropy.io import ascii\n",
    "import numpy as np "
   ]
  },
  {
   "cell_type": "markdown",
   "metadata": {},
   "source": [
    "## Milestone: Read the .csv file"
   ]
  },
  {
   "cell_type": "code",
   "execution_count": 16,
   "metadata": {},
   "outputs": [
    {
     "name": "stdout",
     "output_type": "stream",
     "text": [
      "<TableColumns names=('ID','RA','Dec','Redshift','u','u Unc','g','g Unc','r','r Unc','i','i Unc','z','z Unc','y','y Unc','IRAC Ch 1','Ch 1 Unc','IRAC Ch 2','Ch 2 Unc','IRAC Ch 3','Ch 3 Unc','IRAC Ch 4','Ch 4 Unc','PACS 100','100 Unc','PACS 160','160 Unc','SPIRE 250','250 Unc','SPIRE 350','350 Unc','SPIRE 500','500 Unc')>\n",
      "             ID                 RA        Dec    ... SPIRE 500  500 Unc \n",
      "--------------------------- ---------- --------- ... --------- ---------\n",
      "HELP_J141411.189+520025.636 213.546622 52.007121 ...       NaN       NaN\n",
      "HELP_J141411.417+515923.419 213.547572 51.989839 ...       NaN       NaN\n",
      "HELP_J141411.539+515959.135 213.548077  51.99976 ...       NaN       NaN\n",
      "HELP_J141411.902+515927.909 213.549592 51.991086 ...       NaN       NaN\n",
      "HELP_J141412.159+515941.025 213.550661 51.994729 ...       NaN       NaN\n",
      "HELP_J141412.263+515904.194 213.551097 51.984498 ...       NaN       NaN\n",
      "HELP_J141412.597+520041.294 213.552488 52.011471 ...  7254.822   5038.43\n",
      "HELP_J141412.781+515940.121 213.553254 51.994478 ...       NaN       NaN\n",
      "HELP_J141413.198+515934.686  213.55499 51.992968 ... 13437.243  9664.907\n",
      "HELP_J141413.331+515906.857 213.555546 51.985238 ... 14145.631 10366.836\n",
      "                        ...        ...       ... ...       ...       ...\n",
      "HELP_J142404.663+533457.680 216.019429 53.582689 ...       NaN       NaN\n",
      "HELP_J142404.910+533334.924 216.020458 53.559701 ...  3172.774  2218.162\n",
      "HELP_J142405.191+533500.486 216.021628 53.583468 ...       NaN       NaN\n",
      "HELP_J142406.134+533426.334 216.025558 53.573982 ...  4199.731  2889.542\n",
      "HELP_J142406.197+533338.362 216.025821 53.560656 ...  -749.767   501.987\n",
      "HELP_J142406.241+533409.940 216.026004 53.569428 ...  1663.429  1209.399\n",
      "HELP_J142406.587+533504.896 216.027445 53.584693 ...       NaN       NaN\n",
      "HELP_J142406.649+533501.393 216.027704  53.58372 ...       NaN       NaN\n",
      "HELP_J142407.012+533514.565 216.029219 53.587379 ...       NaN       NaN\n",
      "HELP_J142407.114+533352.474 216.029643 53.564576 ...       NaN       NaN\n",
      "HELP_J142407.795+533444.210 216.032481 53.578947 ...       NaN       NaN\n",
      "Length = 62883 rows\n"
     ]
    }
   ],
   "source": [
    "# read data from file \n",
    "data = ascii.read(\"EGS_for_Thresa.csv\")\n",
    "\n",
    "# view data\n",
    "print(data.columns)\n",
    "print(data)"
   ]
  },
  {
   "cell_type": "markdown",
   "metadata": {},
   "source": [
    "## Milestone: Which wavelengths correspond with which filters in the .csv file?\n"
   ]
  },
  {
   "cell_type": "markdown",
   "metadata": {},
   "source": [
    "\n",
    "'u' = ultraviolet: λeff= 365 nm, Δλ= 66 nm\n",
    "\n",
    "'g' = green: λeff= 464 nm, Δλ= 128 nm\n",
    "\n",
    "'r' = red: λeff= 658 nm, Δλ= 138 nm\n",
    "\n",
    "'i' = infared: λeff= 806 nm, Δλ= 149 nm\n",
    "\n",
    "'z' = infared: λeff= 900 nm\n",
    "\n",
    "'y' = infared: λeff= 1020 nm, Δλ= 120 nm\n",
    "\n",
    "'IRAC Ch 1' =  Infrared Array Camera channel 1: λcenter= 3.56 um\n",
    "\n",
    "'IRAC Ch 2' =  Infrared Array Camera channel 2: λcenter= 4.54 um\n",
    "\n",
    "'IRAC Ch 3' =  Infrared Array Camera channel 3: λcenter= 5.73 um\n",
    "\n",
    "'IRAC Ch 4' =  Infrared Array Camera channel 4: λcenter= 7.91 um\n",
    "\n",
    "'PACS 100' = Photodetector Array Camera and Spectrometer: 100 um\n",
    "\n",
    "'PACS 160' = Photodetector Array Camera and Spectrometer: 160 um\n",
    "\n",
    "'SPIRE 250' = Photometer: 250 um\n",
    "\n",
    "'SPIRE 350' = Photometer: 350 um\n",
    "\n",
    "'SPIRE 500' = Photometer: 500 um\n",
    "\n",
    "* Filters: https://en.wikipedia.org/wiki/Photometric_system\n",
    "* IRAC paper: https://citeseerx.ist.psu.edu/viewdoc/download?doi=10.1.1.145.2828&rep=rep1&type=pdf#:~:text=IRAC%20is%20a%20four%2Dchannel,%3B%204.5%20and%208%20m).\n",
    "* PACS: https://www.cosmos.esa.int/web/herschel/pacs-overview \n",
    "* Spire: https://www.cosmos.esa.int/web/herschel/first-light"
   ]
  },
  {
   "cell_type": "markdown",
   "metadata": {},
   "source": [
    "## Milestone: Select galaxies in the MIRI field of view\n",
    "\n",
    "Tips:\n",
    "* use tools from class project\n",
    "* CEERS proposals → look at tables in front\n",
    "* table lists RA and DEC of 4 MIRI pointings (ex EGS7)\n",
    "* MIRI FOV = 113 as (?)\n",
    "* calculate angular distance of object to center of MIRI pointing. if <1.9am, keep object. if >1.9am, throw out object.\n",
    "* .csv RA and DEC already in decimal degrees\n"
   ]
  },
  {
   "cell_type": "code",
   "execution_count": 14,
   "metadata": {},
   "outputs": [
    {
     "name": "stdout",
     "output_type": "stream",
     "text": [
      "[215.06121375, 214.9915375, 214.96782833333333, 214.89855458333332]\n",
      "[52.92373055555555, 52.93098055555555, 52.861136111111115, 52.86848888888889]\n",
      "214.97978354166665\n",
      "52.896084027777775\n"
     ]
    }
   ],
   "source": [
    "# the four MIRI pointings:\n",
    "#   MIRI-EGS7   RA= 14 20 14.6913  DEC= +52 55 25.43\n",
    "#   MIRI-EGS8   RA= 14 19 57.9690  DEC= +52 55 51.53\n",
    "#   MIRI-EGS9   RA= 14 19 52.2788  DEC= +52 51 40.09\n",
    "#   MIRI-EGS10  RA= 14 19 35.6531  DEC= +52 52 6.56\n",
    "\n",
    "miri_7_ra  = (14.*15.) + (20./4.) + (14.6913/240.)   # hrs*15 + minutes/4 + seconds/240\n",
    "miri_7_dec = +( 52. + (55./60) + (25.43/3600) )      # + or -  ( degrees + minutes/60 + seconds/3600 )\n",
    "\n",
    "miri_8_ra  = (14.*15.) + (19./4.) + (57.9690/240.)\n",
    "miri_8_dec = +( 52. + (55./60) + (51.53/3600) )\n",
    "\n",
    "miri_9_ra  = (14.*15.) + (19./4.) + (52.2788/240.)\n",
    "miri_9_dec = +( 52. + (51./60) + (40.09/3600) )\n",
    "\n",
    "miri_10_ra  = (14.*15.) + (19./4.) + (35.6531/240.)\n",
    "miri_10_dec = +( 52. + (52./60) + (6.56/3600) )\n",
    "\n",
    "# Add all miri ra and dec into arrays\n",
    "miri_ra  = [miri_7_ra, miri_8_ra, miri_9_ra, miri_10_ra]\n",
    "miri_dec = [miri_7_dec, miri_8_dec, miri_9_dec, miri_10_dec]\n",
    "\n",
    "print(miri_ra)\n",
    "print(miri_dec)\n",
    "\n",
    "# find average position\n",
    "miri_ra_avg = np.average(miri_ra)\n",
    "miri_dec_avg = np.average(miri_dec)\n",
    "\n",
    "print(miri_ra_avg)\n",
    "print(miri_dec_avg)\n",
    "\n",
    "# MIRI field of view is 113 as = 0.0313889 deg\n",
    "miri_fov = 0.0313889 \n"
   ]
  },
  {
   "cell_type": "code",
   "execution_count": 12,
   "metadata": {},
   "outputs": [],
   "source": [
    "# Function below by Dr. Kirkpatrick from Age-Of-Stellar-Clusters project\n",
    "\n",
    "# define a function that takes the RA and DEC locations of two objects, and returns the distance between them\n",
    "def distance_along_sky(raobject1, decobject1, raobject2, decobject2):\n",
    "    # inputs in degrees\n",
    "    # using the distance along a great circle equation from http://spiff.rit.edu/classes/phys301/lectures/precession/precession.html#sep\n",
    "    # Note, cosine and sine in python use RADIANS as default units\n",
    "    cosy = np.cos(  np.deg2rad(90.-decobject1) )* np.cos(  np.deg2rad(90.-decobject2)  )  +     np.sin(  np.deg2rad(90.-decobject1)  )*np.sin(  np.deg2rad(90.-decobject2))*np.cos(  np.deg2rad(raobject1-raobject2))\n",
    "    angular_distance_radians= np.arccos(cosy)\n",
    "    \n",
    "    #outputs in radians, so let's convert back to degrees to make it easier for us later\n",
    "    angular_distance_degrees=np.rad2deg(angular_distance_radians)\n",
    "    \n",
    "    #this function will print out one value, the distance between two points on a great circle in degrees\n",
    "    return angular_distance_degrees"
   ]
  },
  {
   "cell_type": "code",
   "execution_count": null,
   "metadata": {},
   "outputs": [],
   "source": []
  }
 ],
 "metadata": {
  "interpreter": {
   "hash": "916dbcbb3f70747c44a77c7bcd40155683ae19c65e1c03b4aa3499c5328201f1"
  },
  "kernelspec": {
   "display_name": "Python 3.8.10 64-bit",
   "language": "python",
   "name": "python3"
  },
  "language_info": {
   "codemirror_mode": {
    "name": "ipython",
    "version": 3
   },
   "file_extension": ".py",
   "mimetype": "text/x-python",
   "name": "python",
   "nbconvert_exporter": "python",
   "pygments_lexer": "ipython3",
   "version": "3.8.10"
  },
  "orig_nbformat": 4
 },
 "nbformat": 4,
 "nbformat_minor": 2
}
